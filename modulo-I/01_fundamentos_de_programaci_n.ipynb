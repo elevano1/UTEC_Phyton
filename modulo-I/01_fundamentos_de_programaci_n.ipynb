{
  "nbformat": 4,
  "nbformat_minor": 0,
  "metadata": {
    "colab": {
      "provenance": [],
      "include_colab_link": true
    },
    "kernelspec": {
      "name": "python3",
      "display_name": "Python 3"
    },
    "language_info": {
      "name": "python"
    }
  },
  "cells": [
    {
      "cell_type": "markdown",
      "metadata": {
        "id": "view-in-github",
        "colab_type": "text"
      },
      "source": [
        "<a href=\"https://colab.research.google.com/github/elevano1/UTEC_Phyton/blob/main/modulo-I/01_fundamentos_de_programaci_n.ipynb\" target=\"_parent\"><img src=\"https://colab.research.google.com/assets/colab-badge.svg\" alt=\"Open In Colab\"/></a>"
      ]
    },
    {
      "cell_type": "markdown",
      "source": [
        "<img src=\"https://www.ctic.uni.edu.pe/wp-content/uploads/2022/04/588px-x-348px-web-1.png\" alt=\"HTML5 Icon\" width=\"900\" height=\"350\" >\n"
      ],
      "metadata": {
        "id": "a2Ojkh4ciEiA"
      }
    },
    {
      "cell_type": "markdown",
      "source": [
        "<h1 align=center><font size = 5>FUNDAMENTOS DE PROGRAMACIÓN\n",
        "</font></h1>\n",
        "\n",
        "---"
      ],
      "metadata": {
        "id": "-amNk-kqiHO2"
      }
    },
    {
      "cell_type": "markdown",
      "source": [
        "## Tabla de Contenidos\n",
        "\n",
        "<div class=\"alert alert-block alert-info\" style=\"margin-top: 20px\">\n",
        "\n",
        "<font size = 3>\n",
        "    \n",
        "1. <a href=\"#item31\">Tipos básicos de datos</a>  \n",
        "2. <a href=\"#item31\">Manipulación de strings</a>  \n",
        "3. <a href=\"#item31\">Estructuras condicionales</a>  \n",
        "4. <a href=\"#item31\">Desafío</a>  \n",
        "</font>\n",
        "</div>\n",
        "\n",
        "---"
      ],
      "metadata": {
        "id": "qJ6hLRHNiQCG"
      }
    },
    {
      "cell_type": "markdown",
      "source": [
        "## <b>Objetivo:</b>\n",
        "\n",
        "Desarrollar habilidades para trabajar con tipos de datos básicos, manipulación de cadenas y la aplicación de estructuras condicionales en Python.\n",
        "\n",
        "---"
      ],
      "metadata": {
        "id": "1XCUOST_igWZ"
      }
    },
    {
      "cell_type": "markdown",
      "source": [
        "## <b>1. Tipos básicos de datos</b>\n",
        "\n",
        "Enteros, flotantes, cadenas y booleanos, con énfasis en cómo utilizarlos en operaciones básicas.\n",
        "\n"
      ],
      "metadata": {
        "id": "MWslSPQKjLYb"
      }
    },
    {
      "cell_type": "markdown",
      "source": [
        "### Verificando la versión de Python"
      ],
      "metadata": {
        "id": "SdnlyoStB_pK"
      }
    },
    {
      "cell_type": "code",
      "source": [
        "!python3"
      ],
      "metadata": {
        "id": "xFe_fHtsApoC"
      },
      "execution_count": null,
      "outputs": []
    },
    {
      "cell_type": "markdown",
      "source": [
        "### Ejecutando en Python"
      ],
      "metadata": {
        "id": "t1iB2a_1A_Nd"
      }
    },
    {
      "cell_type": "code",
      "source": [
        "type('Hola')"
      ],
      "metadata": {
        "id": "Z7ptqrCNv1gV",
        "outputId": "6ed9ec06-2661-4782-eb5f-ac9447d63876",
        "colab": {
          "base_uri": "https://localhost:8080/"
        }
      },
      "execution_count": null,
      "outputs": [
        {
          "output_type": "execute_result",
          "data": {
            "text/plain": [
              "str"
            ]
          },
          "metadata": {},
          "execution_count": 1
        }
      ]
    },
    {
      "cell_type": "code",
      "source": [
        "print(\"Hello Python interpreter!\")"
      ],
      "metadata": {
        "id": "_GUyponPAi_Z",
        "outputId": "5b3c2d99-d6e5-421f-f463-a2ccd05f4b7e",
        "colab": {
          "base_uri": "https://localhost:8080/"
        }
      },
      "execution_count": null,
      "outputs": [
        {
          "output_type": "stream",
          "name": "stdout",
          "text": [
            "Hello Python interpreter!\n"
          ]
        }
      ]
    },
    {
      "cell_type": "markdown",
      "source": [
        "### Variables en Python"
      ],
      "metadata": {
        "id": "sthjyiw1BYm4"
      }
    },
    {
      "cell_type": "code",
      "source": [
        "message = \"Hello Python world!\"\n",
        "print(message)"
      ],
      "metadata": {
        "id": "mGbrzOEtBa7g",
        "outputId": "d2769e3b-d280-4219-cca0-ca7946374918",
        "colab": {
          "base_uri": "https://localhost:8080/"
        }
      },
      "execution_count": null,
      "outputs": [
        {
          "output_type": "stream",
          "name": "stdout",
          "text": [
            "Hello Python world!\n"
          ]
        }
      ]
    },
    {
      "cell_type": "code",
      "source": [
        "var = 'Edwin'\n",
        "print(var)"
      ],
      "metadata": {
        "id": "kohHIsoXxJUf",
        "outputId": "a817af4d-c62f-4a5a-e7d0-01341f46fee3",
        "colab": {
          "base_uri": "https://localhost:8080/"
        }
      },
      "execution_count": null,
      "outputs": [
        {
          "output_type": "stream",
          "name": "stdout",
          "text": [
            "Edwin\n"
          ]
        }
      ]
    },
    {
      "cell_type": "markdown",
      "source": [
        "### Usando variables con strings"
      ],
      "metadata": {
        "id": "67A0ZgROBH2G"
      }
    },
    {
      "cell_type": "code",
      "source": [
        "curso = 'Programación en Python'\n",
        "nombre = 'Edwin'\n",
        "\n",
        "print(f'{nombre} bienvenido al curso de {curso}')"
      ],
      "metadata": {
        "id": "XOqN6d2i2XhV",
        "outputId": "460fd5b0-49c9-495d-c264-6584b45bdc3a",
        "colab": {
          "base_uri": "https://localhost:8080/"
        }
      },
      "execution_count": null,
      "outputs": [
        {
          "output_type": "stream",
          "name": "stdout",
          "text": [
            "Edwin bienvenido al curso de Programación en Python\n"
          ]
        }
      ]
    },
    {
      "cell_type": "code",
      "source": [
        "first_name = \"John\"\n",
        "last_name = \"Caballero\"\n",
        "\n",
        "full_name = f\"{first_name} {last_name}\"\n",
        "print(full_name)\n"
      ],
      "metadata": {
        "id": "imkWRD_NGhM7",
        "outputId": "3069c3bd-9ba5-4a28-bce5-5c6a05f5c19b",
        "colab": {
          "base_uri": "https://localhost:8080/"
        }
      },
      "execution_count": null,
      "outputs": [
        {
          "output_type": "stream",
          "name": "stdout",
          "text": [
            "John Caballero\n"
          ]
        }
      ]
    },
    {
      "cell_type": "code",
      "source": [
        "nombre = 'Edwin'\n",
        "apellido = 'Levano'\n",
        "cliente = f'{nombre} {apellido}'\n",
        "print(cliente)"
      ],
      "metadata": {
        "id": "zA6u6t9QYqbW",
        "outputId": "c0c42c74-f266-40a4-d162-d0d85729c2ae",
        "colab": {
          "base_uri": "https://localhost:8080/"
        }
      },
      "execution_count": 6,
      "outputs": [
        {
          "output_type": "stream",
          "name": "stdout",
          "text": [
            "Edwin Levano\n"
          ]
        }
      ]
    },
    {
      "cell_type": "code",
      "source": [
        "var_nom = 'Edwin'\n",
        "var_apell = 'Lévano'\n",
        "var_alumno = f'{var_nom} {var_apell}'\n",
        "print(var_alumno)"
      ],
      "metadata": {
        "id": "lUFZ5eTUy4ae",
        "outputId": "99713d3e-7fdf-42b6-eb80-c28eaaf1c91f",
        "colab": {
          "base_uri": "https://localhost:8080/"
        }
      },
      "execution_count": null,
      "outputs": [
        {
          "output_type": "stream",
          "name": "stdout",
          "text": [
            "Edwin Lévano\n"
          ]
        }
      ]
    },
    {
      "cell_type": "code",
      "source": [
        "first_name = str(input('Ingrese el primer nombre: '))\n",
        "last_name = str(input('Ingrese el apellido: '))\n",
        "\n",
        "full_name = f\"{first_name} {last_name}\"\n",
        "print(f\"Bienvenido {full_name}!\")\n"
      ],
      "metadata": {
        "id": "ldadfir2G-ee",
        "outputId": "278e0a87-19da-4a53-ea71-df7e9c5743c3",
        "colab": {
          "base_uri": "https://localhost:8080/"
        }
      },
      "execution_count": null,
      "outputs": [
        {
          "output_type": "stream",
          "name": "stdout",
          "text": [
            "Ingrese el primer nombre: Edwin\n",
            "Ingrese el apellido: Lévano\n",
            "Bienvenido Edwin Lévano!\n"
          ]
        }
      ]
    },
    {
      "cell_type": "code",
      "source": [
        "print(f\"Hola, {full_name.title()}!\")"
      ],
      "metadata": {
        "id": "9DXlUqRdHWpy",
        "outputId": "7a558c6f-7e1f-4862-fe88-433dba43ba00",
        "colab": {
          "base_uri": "https://localhost:8080/"
        }
      },
      "execution_count": null,
      "outputs": [
        {
          "output_type": "stream",
          "name": "stdout",
          "text": [
            "Hola, Edwin Lévano!\n"
          ]
        }
      ]
    },
    {
      "cell_type": "code",
      "source": [
        "message = f\"Hola, {full_name.title()}!\"\n",
        "print(message)"
      ],
      "metadata": {
        "id": "ovwhbcW4HnNO",
        "outputId": "d177b423-0197-4a86-8a4e-f2174c3671f6",
        "colab": {
          "base_uri": "https://localhost:8080/"
        }
      },
      "execution_count": null,
      "outputs": [
        {
          "output_type": "stream",
          "name": "stdout",
          "text": [
            "Hola, Edwin Lévano!\n"
          ]
        }
      ]
    },
    {
      "cell_type": "code",
      "source": [
        "variable = 'john caballero terrazos'\n",
        "print(variable.title())"
      ],
      "metadata": {
        "id": "Hy0GGNtX6J72",
        "outputId": "f31a76c9-3b1a-4d9c-b8a9-dc254d2866b6",
        "colab": {
          "base_uri": "https://localhost:8080/"
        }
      },
      "execution_count": null,
      "outputs": [
        {
          "output_type": "stream",
          "name": "stdout",
          "text": [
            "John Caballero Terrazos\n"
          ]
        }
      ]
    },
    {
      "cell_type": "code",
      "source": [
        "variable = 'john caballero terrazos'\n",
        "print(variable.capitalize())"
      ],
      "metadata": {
        "id": "p4F2MSrz6xaa",
        "outputId": "e10e7ca3-9b45-46b9-ffea-4bcac24b87bb",
        "colab": {
          "base_uri": "https://localhost:8080/"
        }
      },
      "execution_count": null,
      "outputs": [
        {
          "output_type": "stream",
          "name": "stdout",
          "text": [
            "John caballero terrazos\n"
          ]
        }
      ]
    },
    {
      "cell_type": "code",
      "source": [
        "variable = 'john caballero terrazos'\n",
        "print(variable.upper())"
      ],
      "metadata": {
        "id": "zsamNFng7L7S",
        "outputId": "f086b2f4-6c18-45aa-ade2-17d0f6e5866e",
        "colab": {
          "base_uri": "https://localhost:8080/"
        }
      },
      "execution_count": null,
      "outputs": [
        {
          "output_type": "stream",
          "name": "stdout",
          "text": [
            "JOHN CABALLERO TERRAZOS\n"
          ]
        }
      ]
    },
    {
      "cell_type": "code",
      "source": [
        "variable = 'PERÚ'\n",
        "print(variable.lower())"
      ],
      "metadata": {
        "id": "oKM3C7NS79Hh",
        "outputId": "3c67c9e3-3093-4aae-f0d0-1e5a5f129eba",
        "colab": {
          "base_uri": "https://localhost:8080/"
        }
      },
      "execution_count": null,
      "outputs": [
        {
          "output_type": "stream",
          "name": "stdout",
          "text": [
            "perú\n"
          ]
        }
      ]
    },
    {
      "cell_type": "code",
      "source": [
        "print(\"Python\")"
      ],
      "metadata": {
        "id": "d7c9EIszIADO",
        "outputId": "d025bada-9e59-4d8f-8ee4-1b7364302736",
        "colab": {
          "base_uri": "https://localhost:8080/"
        }
      },
      "execution_count": null,
      "outputs": [
        {
          "output_type": "stream",
          "name": "stdout",
          "text": [
            "Python\n"
          ]
        }
      ]
    },
    {
      "cell_type": "code",
      "source": [
        "print(\"Python's\")"
      ],
      "metadata": {
        "id": "ypepBjltTCHR",
        "outputId": "dfc9e727-4851-4607-ba97-b212caf5c53b",
        "colab": {
          "base_uri": "https://localhost:8080/"
        }
      },
      "execution_count": null,
      "outputs": [
        {
          "output_type": "stream",
          "name": "stdout",
          "text": [
            "Python's\n"
          ]
        }
      ]
    },
    {
      "cell_type": "code",
      "source": [
        "print(\"\\tPython\")"
      ],
      "metadata": {
        "id": "hGmARCyTH_8F",
        "outputId": "b290198c-1c93-4529-f03a-262aa03dfd4a",
        "colab": {
          "base_uri": "https://localhost:8080/"
        }
      },
      "execution_count": null,
      "outputs": [
        {
          "output_type": "stream",
          "name": "stdout",
          "text": [
            "\tPython\n"
          ]
        }
      ]
    },
    {
      "cell_type": "code",
      "source": [
        "print(\"Languages:\\nPython\\nC\\nJavaScript\")"
      ],
      "metadata": {
        "id": "7sLWgXNbH_zY",
        "outputId": "19e4e916-8655-4007-aab3-950663efbd26",
        "colab": {
          "base_uri": "https://localhost:8080/"
        }
      },
      "execution_count": null,
      "outputs": [
        {
          "output_type": "stream",
          "name": "stdout",
          "text": [
            "Languages:\n",
            "Python\n",
            "C\n",
            "JavaScript\n"
          ]
        }
      ]
    },
    {
      "cell_type": "code",
      "source": [
        "print(\"Languages:\\n\\tPython\\n\\tC\\n\\tJavaScript\")"
      ],
      "metadata": {
        "id": "GHwzRJQeIgCo",
        "outputId": "9eaa1a61-b973-4ee3-d7ec-1a213d600125",
        "colab": {
          "base_uri": "https://localhost:8080/"
        }
      },
      "execution_count": null,
      "outputs": [
        {
          "output_type": "stream",
          "name": "stdout",
          "text": [
            "Languages:\n",
            "\tPython\n",
            "\tC\n",
            "\tJavaScript\n"
          ]
        }
      ]
    },
    {
      "cell_type": "code",
      "source": [
        "programas = '\\tPython\\n\\tC++\\n\\tJava'\n",
        "print(programas)"
      ],
      "metadata": {
        "id": "DObaW2hQ-rli",
        "outputId": "d854521c-c052-4e73-cbb7-7a6cddfa1e17",
        "colab": {
          "base_uri": "https://localhost:8080/"
        }
      },
      "execution_count": null,
      "outputs": [
        {
          "output_type": "stream",
          "name": "stdout",
          "text": [
            "\tPython\n",
            "\tC++\n",
            "\tJava\n"
          ]
        }
      ]
    },
    {
      "cell_type": "markdown",
      "source": [
        "### Espacios en python"
      ],
      "metadata": {
        "id": "uV4g9yt5It7q"
      }
    },
    {
      "cell_type": "code",
      "source": [
        "favorite_language = 'python '\n",
        "favorite_language"
      ],
      "metadata": {
        "id": "3WM1AbohIpnt",
        "outputId": "dc9268ac-73b0-4ef8-c1bb-285b59c38e73",
        "colab": {
          "base_uri": "https://localhost:8080/",
          "height": 35
        }
      },
      "execution_count": null,
      "outputs": [
        {
          "output_type": "execute_result",
          "data": {
            "text/plain": [
              "'python '"
            ],
            "application/vnd.google.colaboratory.intrinsic+json": {
              "type": "string"
            }
          },
          "metadata": {},
          "execution_count": 21
        }
      ]
    },
    {
      "cell_type": "code",
      "source": [
        "favorite_language.rstrip()"
      ],
      "metadata": {
        "id": "L465tOhkIqNd",
        "outputId": "3101ecec-a679-4559-e4ef-099997a67037",
        "colab": {
          "base_uri": "https://localhost:8080/",
          "height": 35
        }
      },
      "execution_count": null,
      "outputs": [
        {
          "output_type": "execute_result",
          "data": {
            "text/plain": [
              "'python'"
            ],
            "application/vnd.google.colaboratory.intrinsic+json": {
              "type": "string"
            }
          },
          "metadata": {},
          "execution_count": 22
        }
      ]
    },
    {
      "cell_type": "code",
      "source": [
        "favorite_language"
      ],
      "metadata": {
        "id": "7AFWklYBJzQ6",
        "outputId": "49a9fa99-7048-4fb1-eeb3-d716e59c25f3",
        "colab": {
          "base_uri": "https://localhost:8080/",
          "height": 35
        }
      },
      "execution_count": null,
      "outputs": [
        {
          "output_type": "execute_result",
          "data": {
            "text/plain": [
              "'python '"
            ],
            "application/vnd.google.colaboratory.intrinsic+json": {
              "type": "string"
            }
          },
          "metadata": {},
          "execution_count": 23
        }
      ]
    },
    {
      "cell_type": "code",
      "source": [
        "favorite_language = 'python '\n",
        "favorite_language = favorite_language.rstrip()\n",
        "favorite_language"
      ],
      "metadata": {
        "id": "9fqYGKCRJk1R",
        "outputId": "1640e4e9-3266-4f86-f0a8-c3828f8319fd",
        "colab": {
          "base_uri": "https://localhost:8080/",
          "height": 35
        }
      },
      "execution_count": null,
      "outputs": [
        {
          "output_type": "execute_result",
          "data": {
            "text/plain": [
              "'python'"
            ],
            "application/vnd.google.colaboratory.intrinsic+json": {
              "type": "string"
            }
          },
          "metadata": {},
          "execution_count": 24
        }
      ]
    },
    {
      "cell_type": "code",
      "source": [
        "favorite_language = ' python '\n",
        "favorite_language"
      ],
      "metadata": {
        "id": "3uDiKbdIKI0M",
        "outputId": "91aebcec-e122-494c-b87d-d5c5d7fefa1f",
        "colab": {
          "base_uri": "https://localhost:8080/",
          "height": 35
        }
      },
      "execution_count": null,
      "outputs": [
        {
          "output_type": "execute_result",
          "data": {
            "text/plain": [
              "' python '"
            ],
            "application/vnd.google.colaboratory.intrinsic+json": {
              "type": "string"
            }
          },
          "metadata": {},
          "execution_count": 25
        }
      ]
    },
    {
      "cell_type": "code",
      "source": [
        "favorite_language.rstrip()"
      ],
      "metadata": {
        "id": "FbVFEWqQKSwS",
        "outputId": "cb45d2f6-736c-43c7-efa5-de71d047ce3a",
        "colab": {
          "base_uri": "https://localhost:8080/",
          "height": 35
        }
      },
      "execution_count": null,
      "outputs": [
        {
          "output_type": "execute_result",
          "data": {
            "text/plain": [
              "' python'"
            ],
            "application/vnd.google.colaboratory.intrinsic+json": {
              "type": "string"
            }
          },
          "metadata": {},
          "execution_count": 26
        }
      ]
    },
    {
      "cell_type": "code",
      "source": [
        "favorite_language.lstrip()"
      ],
      "metadata": {
        "id": "tE4HafwRKJx6",
        "outputId": "294777c4-0f92-462e-9065-085813893a34",
        "colab": {
          "base_uri": "https://localhost:8080/",
          "height": 35
        }
      },
      "execution_count": null,
      "outputs": [
        {
          "output_type": "execute_result",
          "data": {
            "text/plain": [
              "'python '"
            ],
            "application/vnd.google.colaboratory.intrinsic+json": {
              "type": "string"
            }
          },
          "metadata": {},
          "execution_count": 27
        }
      ]
    },
    {
      "cell_type": "code",
      "source": [
        "favorite_language.strip()"
      ],
      "metadata": {
        "id": "ZgZ9X5kgKJUS",
        "outputId": "7ab6c3c2-23e8-448c-e641-a592513bad71",
        "colab": {
          "base_uri": "https://localhost:8080/",
          "height": 35
        }
      },
      "execution_count": null,
      "outputs": [
        {
          "output_type": "execute_result",
          "data": {
            "text/plain": [
              "'python'"
            ],
            "application/vnd.google.colaboratory.intrinsic+json": {
              "type": "string"
            }
          },
          "metadata": {},
          "execution_count": 28
        }
      ]
    },
    {
      "cell_type": "markdown",
      "source": [
        "### Problemas comunes"
      ],
      "metadata": {
        "id": "RSYDstcmLdkD"
      }
    },
    {
      "cell_type": "code",
      "source": [
        "message = \"El libro 'Harry Potter' fue un best seller\"\n",
        "print(message)"
      ],
      "metadata": {
        "id": "Tm8cU1yqLc5M",
        "outputId": "9204b47e-0572-4051-93e7-32bbd47bfa73",
        "colab": {
          "base_uri": "https://localhost:8080/"
        }
      },
      "execution_count": null,
      "outputs": [
        {
          "output_type": "stream",
          "name": "stdout",
          "text": [
            "El libro 'Harry Potter' fue un best seller\n"
          ]
        }
      ]
    },
    {
      "cell_type": "code",
      "source": [
        "message = \"One of Python's strengths is its diverse community.\"\n",
        "print(message)"
      ],
      "metadata": {
        "id": "nxUO09lkNFuk",
        "outputId": "656217af-84bf-47bc-f657-2c95e0738038",
        "colab": {
          "base_uri": "https://localhost:8080/"
        }
      },
      "execution_count": null,
      "outputs": [
        {
          "output_type": "stream",
          "name": "stdout",
          "text": [
            "One of Python's strengths is its diverse community.\n"
          ]
        }
      ]
    },
    {
      "cell_type": "markdown",
      "source": [
        "### Números"
      ],
      "metadata": {
        "id": "cf-y9DtENQLY"
      }
    },
    {
      "cell_type": "code",
      "source": [
        "2 + 3"
      ],
      "metadata": {
        "id": "NU8oYEG9NPWl",
        "outputId": "0b0409fd-6b3d-4ff3-fdf6-b5fc4082612b",
        "colab": {
          "base_uri": "https://localhost:8080/"
        }
      },
      "execution_count": null,
      "outputs": [
        {
          "output_type": "execute_result",
          "data": {
            "text/plain": [
              "5"
            ]
          },
          "metadata": {},
          "execution_count": 32
        }
      ]
    },
    {
      "cell_type": "code",
      "source": [
        "3 ** 2"
      ],
      "metadata": {
        "id": "UR4mC6E-Nbhw",
        "outputId": "d2a108d7-c525-483d-e3d2-a86e0699ea99",
        "colab": {
          "base_uri": "https://localhost:8080/"
        }
      },
      "execution_count": null,
      "outputs": [
        {
          "output_type": "execute_result",
          "data": {
            "text/plain": [
              "9"
            ]
          },
          "metadata": {},
          "execution_count": 33
        }
      ]
    },
    {
      "cell_type": "code",
      "source": [
        "(2 + 3) * 4"
      ],
      "metadata": {
        "id": "K_Gln-FfNeO9",
        "outputId": "5b4dd9a2-9bd2-47ee-86c6-a99f633aeb52",
        "colab": {
          "base_uri": "https://localhost:8080/"
        }
      },
      "execution_count": null,
      "outputs": [
        {
          "output_type": "execute_result",
          "data": {
            "text/plain": [
              "20"
            ]
          },
          "metadata": {},
          "execution_count": 37
        }
      ]
    },
    {
      "cell_type": "markdown",
      "source": [
        "### Floats"
      ],
      "metadata": {
        "id": "ubo6p0b-NhjD"
      }
    },
    {
      "cell_type": "code",
      "source": [
        "0.1 + 0.1"
      ],
      "metadata": {
        "id": "RQxlR6oyNmoG",
        "outputId": "1e3c3960-8fb7-4f9c-da7a-b4be30abd7cf",
        "colab": {
          "base_uri": "https://localhost:8080/"
        }
      },
      "execution_count": null,
      "outputs": [
        {
          "output_type": "execute_result",
          "data": {
            "text/plain": [
              "0.2"
            ]
          },
          "metadata": {},
          "execution_count": 38
        }
      ]
    },
    {
      "cell_type": "code",
      "source": [
        "2 * 0.2"
      ],
      "metadata": {
        "id": "uWQ-911qNskj",
        "outputId": "0842ca81-0e0f-43d6-bf90-04ca034853f3",
        "colab": {
          "base_uri": "https://localhost:8080/"
        }
      },
      "execution_count": null,
      "outputs": [
        {
          "output_type": "execute_result",
          "data": {
            "text/plain": [
              "0.4"
            ]
          },
          "metadata": {},
          "execution_count": 39
        }
      ]
    },
    {
      "cell_type": "code",
      "source": [
        "0.2 + 0.1"
      ],
      "metadata": {
        "id": "BcImgVOtNySt",
        "outputId": "cb23aa9b-b07f-41e1-9e31-2f609e593142",
        "colab": {
          "base_uri": "https://localhost:8080/"
        }
      },
      "execution_count": null,
      "outputs": [
        {
          "output_type": "execute_result",
          "data": {
            "text/plain": [
              "0.30000000000000004"
            ]
          },
          "metadata": {},
          "execution_count": 41
        }
      ]
    },
    {
      "cell_type": "markdown",
      "source": [
        "### Enteros y Floats"
      ],
      "metadata": {
        "id": "a_1vW_FNOIf5"
      }
    },
    {
      "cell_type": "code",
      "source": [
        "4/2"
      ],
      "metadata": {
        "id": "iN7X2ZWWOLFS",
        "outputId": "ac4a4d7d-db00-474d-9332-6bdc0e900ba0",
        "colab": {
          "base_uri": "https://localhost:8080/"
        }
      },
      "execution_count": null,
      "outputs": [
        {
          "output_type": "execute_result",
          "data": {
            "text/plain": [
              "2.0"
            ]
          },
          "metadata": {},
          "execution_count": 43
        }
      ]
    },
    {
      "cell_type": "code",
      "source": [
        "1 + 2.0"
      ],
      "metadata": {
        "id": "D9dA2ELhORGk",
        "outputId": "304fd231-4c9e-4330-ee05-d20c0395fb49",
        "colab": {
          "base_uri": "https://localhost:8080/"
        }
      },
      "execution_count": null,
      "outputs": [
        {
          "output_type": "execute_result",
          "data": {
            "text/plain": [
              "3.0"
            ]
          },
          "metadata": {},
          "execution_count": 44
        }
      ]
    },
    {
      "cell_type": "code",
      "source": [
        "1*3.0"
      ],
      "metadata": {
        "id": "wwDLo_S_Vhpr",
        "outputId": "b1ad986e-d405-4426-8025-b4e9b3eb48d9",
        "colab": {
          "base_uri": "https://localhost:8080/"
        }
      },
      "execution_count": null,
      "outputs": [
        {
          "output_type": "execute_result",
          "data": {
            "text/plain": [
              "3.0"
            ]
          },
          "metadata": {},
          "execution_count": 45
        }
      ]
    },
    {
      "cell_type": "markdown",
      "source": [
        "### Guiones bajos en números"
      ],
      "metadata": {
        "id": "8ICC-mT0OsHE"
      }
    },
    {
      "cell_type": "code",
      "source": [
        "universe_age = 14_000_000_000\n",
        "print(universe_age)"
      ],
      "metadata": {
        "id": "9a4-mKc8OqI8",
        "outputId": "099d976b-8979-4414-8ee9-f0b5bfb33bde",
        "colab": {
          "base_uri": "https://localhost:8080/"
        }
      },
      "execution_count": null,
      "outputs": [
        {
          "output_type": "stream",
          "name": "stdout",
          "text": [
            "14000000000\n"
          ]
        }
      ]
    },
    {
      "cell_type": "markdown",
      "source": [
        "### Asignación Múltiple"
      ],
      "metadata": {
        "id": "53q3i_pyPEey"
      }
    },
    {
      "cell_type": "code",
      "source": [
        "a, b = 1, 2\n"
      ],
      "metadata": {
        "id": "Tp7oXgPsWQzf"
      },
      "execution_count": null,
      "outputs": []
    },
    {
      "cell_type": "code",
      "source": [
        "x, y, z = 0, 0, 0"
      ],
      "metadata": {
        "id": "jZIDGHQePh6B"
      },
      "execution_count": null,
      "outputs": []
    },
    {
      "cell_type": "code",
      "source": [
        "y"
      ],
      "metadata": {
        "id": "lQR7E1gtPiyR",
        "outputId": "a7acd6f8-905f-4667-d0ea-abfaa08a5a71",
        "colab": {
          "base_uri": "https://localhost:8080/"
        }
      },
      "execution_count": null,
      "outputs": [
        {
          "output_type": "execute_result",
          "data": {
            "text/plain": [
              "0"
            ]
          },
          "metadata": {},
          "execution_count": 49
        }
      ]
    },
    {
      "cell_type": "markdown",
      "source": [
        "### Constantes"
      ],
      "metadata": {
        "id": "pncAPB7TPruo"
      }
    },
    {
      "cell_type": "code",
      "source": [
        "variable = input('Ingresa un número: ')\n",
        "print(f'Su número seleccionado fue {variable}')"
      ],
      "metadata": {
        "id": "U1FEphq_EUOV",
        "outputId": "82284a3d-2ed4-4e9b-a249-5b48335eef07",
        "colab": {
          "base_uri": "https://localhost:8080/"
        }
      },
      "execution_count": null,
      "outputs": [
        {
          "output_type": "stream",
          "name": "stdout",
          "text": [
            "Ingresa un número: 100\n",
            "Su número seleccionado fue 100\n"
          ]
        }
      ]
    },
    {
      "cell_type": "code",
      "source": [
        "MAX_CONNECTIONS = 5000"
      ],
      "metadata": {
        "id": "AUR_RlTEPvZZ"
      },
      "execution_count": null,
      "outputs": []
    },
    {
      "cell_type": "markdown",
      "source": [
        "<b> Ejercicio </b>\n",
        "\n",
        "Usa una variable para representar un número. Luego, usando esa variable, cree un mensaje que revele su número. Imprime ese mensaje."
      ],
      "metadata": {
        "id": "CpJsuNbVRKZ3"
      }
    },
    {
      "cell_type": "markdown",
      "source": [
        "Doble-click __aquí__ para ver la solución.\n",
        "<!-- La respuesta es:\n",
        "num = 12\n",
        "print(f\"El número es {num}\")\n",
        "-->\n",
        "\n"
      ],
      "metadata": {
        "id": "jMC81ZCBTmJc"
      }
    },
    {
      "cell_type": "markdown",
      "source": [
        "### Comentarios"
      ],
      "metadata": {
        "id": "VAUMMfzqQ_OK"
      }
    },
    {
      "cell_type": "code",
      "source": [
        "# Código para saludar.\n",
        "print(\"Hola programadores de Python!\")"
      ],
      "metadata": {
        "id": "MHCgX32dOnPy",
        "outputId": "780bcd02-8918-48dc-d56b-cca4d8100a60",
        "colab": {
          "base_uri": "https://localhost:8080/"
        }
      },
      "execution_count": null,
      "outputs": [
        {
          "output_type": "stream",
          "name": "stdout",
          "text": [
            "Hola programadores de Python!\n"
          ]
        }
      ]
    },
    {
      "cell_type": "markdown",
      "source": [
        "### El Zen de Python"
      ],
      "metadata": {
        "id": "XTsX-ps8mIBd"
      }
    },
    {
      "cell_type": "code",
      "source": [
        "import this"
      ],
      "metadata": {
        "id": "dB9VCvLST7Gp",
        "outputId": "fb134724-f335-414d-8b14-9d59c7d34aae",
        "colab": {
          "base_uri": "https://localhost:8080/"
        }
      },
      "execution_count": null,
      "outputs": [
        {
          "output_type": "stream",
          "name": "stdout",
          "text": [
            "The Zen of Python, by Tim Peters\n",
            "\n",
            "Beautiful is better than ugly.\n",
            "Explicit is better than implicit.\n",
            "Simple is better than complex.\n",
            "Complex is better than complicated.\n",
            "Flat is better than nested.\n",
            "Sparse is better than dense.\n",
            "Readability counts.\n",
            "Special cases aren't special enough to break the rules.\n",
            "Although practicality beats purity.\n",
            "Errors should never pass silently.\n",
            "Unless explicitly silenced.\n",
            "In the face of ambiguity, refuse the temptation to guess.\n",
            "There should be one-- and preferably only one --obvious way to do it.\n",
            "Although that way may not be obvious at first unless you're Dutch.\n",
            "Now is better than never.\n",
            "Although never is often better than *right* now.\n",
            "If the implementation is hard to explain, it's a bad idea.\n",
            "If the implementation is easy to explain, it may be a good idea.\n",
            "Namespaces are one honking great idea -- let's do more of those!\n"
          ]
        }
      ]
    },
    {
      "cell_type": "markdown",
      "source": [
        "### Ejemplo 1.1: Operaciones aritméticas"
      ],
      "metadata": {
        "id": "WVuNuyWsjXsU"
      }
    },
    {
      "cell_type": "code",
      "source": [
        "# Variables numéricas\n",
        "a = 15  # Entero\n",
        "b = 4.7  # Flotante\n"
      ],
      "metadata": {
        "id": "_nYyKe_bjHY5"
      },
      "execution_count": null,
      "outputs": []
    },
    {
      "cell_type": "code",
      "execution_count": null,
      "metadata": {
        "id": "MNGFUaC6hyfi",
        "outputId": "2309c24b-58ea-4a1e-abc0-76a807d66479",
        "colab": {
          "base_uri": "https://localhost:8080/"
        }
      },
      "outputs": [
        {
          "output_type": "stream",
          "name": "stdout",
          "text": [
            "Suma: 19.7\n"
          ]
        }
      ],
      "source": [
        "# Operaciones básicas\n",
        "print(\"Suma:\", a + b)"
      ]
    },
    {
      "cell_type": "code",
      "source": [
        "print(\"Resta:\", a - b)"
      ],
      "metadata": {
        "id": "hbnOS3lsjdWc",
        "outputId": "a53dbbd4-3a2f-4f2f-ee40-02e3fda88a09",
        "colab": {
          "base_uri": "https://localhost:8080/"
        }
      },
      "execution_count": null,
      "outputs": [
        {
          "output_type": "stream",
          "name": "stdout",
          "text": [
            "Resta: 10.3\n"
          ]
        }
      ]
    },
    {
      "cell_type": "code",
      "source": [
        "print(\"Multiplicación:\", a * b)"
      ],
      "metadata": {
        "id": "P4v5iGM2jeTc",
        "outputId": "b291d748-a563-4cb8-acd8-97b0e9c22d37",
        "colab": {
          "base_uri": "https://localhost:8080/"
        }
      },
      "execution_count": null,
      "outputs": [
        {
          "output_type": "stream",
          "name": "stdout",
          "text": [
            "Multiplicación: 70.5\n"
          ]
        }
      ]
    },
    {
      "cell_type": "code",
      "source": [
        "print(\"División:\", a / b)"
      ],
      "metadata": {
        "id": "bngfJL61jfLf",
        "outputId": "29e8aa95-aa72-4a35-81df-c3b2ffd9fbd2",
        "colab": {
          "base_uri": "https://localhost:8080/"
        }
      },
      "execution_count": null,
      "outputs": [
        {
          "output_type": "stream",
          "name": "stdout",
          "text": [
            "División: 3.1914893617021276\n"
          ]
        }
      ]
    },
    {
      "cell_type": "code",
      "source": [
        "print(\"Módulo:\", a % b)  # Residuo de la división"
      ],
      "metadata": {
        "id": "lRmdUaHajgTp",
        "outputId": "2c755ff1-3292-4488-f731-04fc99ec7356",
        "colab": {
          "base_uri": "https://localhost:8080/"
        }
      },
      "execution_count": null,
      "outputs": [
        {
          "output_type": "stream",
          "name": "stdout",
          "text": [
            "Módulo: 0.8999999999999995\n"
          ]
        }
      ]
    },
    {
      "cell_type": "markdown",
      "source": [
        "### Ejercicio 1.1: Operaciones con entrada de usuario\n",
        "\n",
        "Pide al usuario dos números, realiza las operaciones básicas (suma, resta, multiplicación y división) e imprime los resultados.\n",
        "Calcula la raíz cuadrada de un número utilizando la función ** (exponente)."
      ],
      "metadata": {
        "id": "oa1fRACgjlV_"
      }
    },
    {
      "cell_type": "code",
      "source": [],
      "metadata": {
        "id": "yrlpPiGWjol1"
      },
      "execution_count": null,
      "outputs": []
    },
    {
      "cell_type": "markdown",
      "source": [
        "## <b>2. Manipulación de strings</b>\n",
        "\n",
        "Las cadenas de texto (strings) en Python son secuencias de caracteres, y Python proporciona muchos métodos útiles para manipularlas.\n",
        "\n"
      ],
      "metadata": {
        "id": "8q_I9AOBjpH7"
      }
    },
    {
      "cell_type": "markdown",
      "source": [
        "### Ejemplo 2.1: Concatenación y repetición de cadenas"
      ],
      "metadata": {
        "id": "o3SzxNcajzk4"
      }
    },
    {
      "cell_type": "code",
      "source": [
        "nombre = \"Ana\"\n",
        "apellido = \"Sánchez\"\n",
        "nombre_completo = nombre + \" \" + apellido\n",
        "\n",
        "print(\"Nombre completo:\", nombre_completo)\n"
      ],
      "metadata": {
        "id": "Uu2JI0Ycj7DM",
        "outputId": "3f88244d-aaae-40e2-bd9e-bc9583c23ef7",
        "colab": {
          "base_uri": "https://localhost:8080/"
        }
      },
      "execution_count": null,
      "outputs": [
        {
          "output_type": "stream",
          "name": "stdout",
          "text": [
            "Nombre completo: Ana Sánchez\n"
          ]
        }
      ]
    },
    {
      "cell_type": "code",
      "source": [
        "# Repetición\n",
        "\n",
        "repetido = \"Python! \" * 3\n",
        "print(repetido)\n"
      ],
      "metadata": {
        "id": "j8UcjDF7j9JX",
        "outputId": "a42fad3d-04e3-49f4-a92a-5984fb5d7730",
        "colab": {
          "base_uri": "https://localhost:8080/"
        }
      },
      "execution_count": null,
      "outputs": [
        {
          "output_type": "stream",
          "name": "stdout",
          "text": [
            "Python! Python! Python! \n"
          ]
        }
      ]
    },
    {
      "cell_type": "markdown",
      "source": [
        "### Ejercicio 2.1: Creando saludos\n",
        "\n",
        "- Pide al usuario su nombre y apellido, luego genera un saludo en el formato: \"¡Hola, [Nombre Apellido]!\".\n",
        "\n",
        "- Usa repetición para imprimir el saludo 5 veces.\n"
      ],
      "metadata": {
        "id": "v9o0-F4FkBRa"
      }
    },
    {
      "cell_type": "code",
      "source": [
        "nombre1 = input('¿Cuál es tu nombre?: ')\n",
        "apellido2 = input('¿Cuál es tu apellido?: ')\n",
        "usuario = f'{nombre1} {apellido2}'\n",
        "print(f'¡Hola {usuario}!')\n",
        "\n"
      ],
      "metadata": {
        "id": "V3ZGMDOKkY29",
        "outputId": "dfe48b1e-9ea1-48e7-9917-4a61a632e816",
        "colab": {
          "base_uri": "https://localhost:8080/"
        }
      },
      "execution_count": null,
      "outputs": [
        {
          "output_type": "stream",
          "name": "stdout",
          "text": [
            "¿Cuál es tu nombre?: Rosalyn\n",
            "¿Cuál es tu apellido?: Levano\n",
            "¡Hola Rosalyn Levano!\n"
          ]
        }
      ]
    },
    {
      "cell_type": "markdown",
      "source": [
        "### Ejemplo 2.2: Métodos strip(), lstrip() y rstrip()\n"
      ],
      "metadata": {
        "id": "8FWZtWkzkZMW"
      }
    },
    {
      "cell_type": "code",
      "source": [
        "# Métodos para eliminar espacios\n",
        "\n",
        "texto = \"   Python es genial   \"\n",
        "print(\"Original:\", texto)\n"
      ],
      "metadata": {
        "id": "fBMrjpJgkdKk"
      },
      "execution_count": null,
      "outputs": []
    },
    {
      "cell_type": "code",
      "source": [
        "print(\"Con strip():\", texto.strip())    # Elimina espacios al inicio y final\n",
        "\n"
      ],
      "metadata": {
        "id": "sBFoDUsvkf76"
      },
      "execution_count": null,
      "outputs": []
    },
    {
      "cell_type": "code",
      "source": [
        "print(\"Con lstrip():\", texto.lstrip())  # Elimina espacios al inicio\n"
      ],
      "metadata": {
        "id": "Pi1FADDIkgVS"
      },
      "execution_count": null,
      "outputs": []
    },
    {
      "cell_type": "code",
      "source": [
        "print(\"Con rstrip():\", texto.rstrip())  # Elimina espacios al final"
      ],
      "metadata": {
        "id": "foufxFkLkhdR"
      },
      "execution_count": null,
      "outputs": []
    },
    {
      "cell_type": "markdown",
      "source": [
        "### Ejercicio 2.2: Eliminar espacios en cadenas\n",
        "\n",
        "Pide al usuario que ingrese una frase con espacios extra al inicio y al final.\n",
        "\n",
        "- Usa strip() para eliminar los espacios en blanco.\n",
        "- Usa lstrip() para eliminar los espacios al inicio.\n",
        "- Usa rstrip() para eliminar los espacios al final.\n",
        "\n",
        "Imprime los resultados después de aplicar cada método."
      ],
      "metadata": {
        "id": "ONAVddiUkk0I"
      }
    },
    {
      "cell_type": "code",
      "source": [],
      "metadata": {
        "id": "jfyhX8FmksPF"
      },
      "execution_count": null,
      "outputs": []
    },
    {
      "cell_type": "markdown",
      "source": [
        "### Ejemplo 2.3: Métodos adicionales de cadenas\n"
      ],
      "metadata": {
        "id": "-RVPfhVTksuv"
      }
    },
    {
      "cell_type": "code",
      "source": [
        "# Otros métodos útiles\n",
        "texto = \"Hola Pythonista\"\n"
      ],
      "metadata": {
        "id": "uP3nSEXMkupC"
      },
      "execution_count": null,
      "outputs": []
    },
    {
      "cell_type": "code",
      "source": [
        "print(texto.upper())  # Convierte todo a mayúsculas\n"
      ],
      "metadata": {
        "id": "Q6UBYyhFkxLX"
      },
      "execution_count": null,
      "outputs": []
    },
    {
      "cell_type": "code",
      "source": [
        "print(texto.lower())  # Convierte todo a minúsculas\n"
      ],
      "metadata": {
        "id": "4Yk0_9t9kxjV"
      },
      "execution_count": null,
      "outputs": []
    },
    {
      "cell_type": "code",
      "source": [
        "\n",
        "print(texto.replace(\"Pythonista\", \"Programador\"))  # Reemplaza una palabra\n"
      ],
      "metadata": {
        "id": "UH3Uf1t_kyBu"
      },
      "execution_count": null,
      "outputs": []
    },
    {
      "cell_type": "markdown",
      "source": [
        "### Ejercicio 2.3: Transformando cadenas\n",
        "\n",
        "Pide al usuario que ingrese una frase, luego:\n",
        "- Convierte toda la frase a mayúsculas.\n",
        "- Reemplaza una palabra de la frase por otra y muestra el resultado.\n",
        "- Imprime la longitud de la frase."
      ],
      "metadata": {
        "id": "N1k_7rlXk3M3"
      }
    },
    {
      "cell_type": "code",
      "source": [],
      "metadata": {
        "id": "wcDoawq0mrpr"
      },
      "execution_count": null,
      "outputs": []
    },
    {
      "cell_type": "markdown",
      "source": [
        "## <b>3. Estructuras de control: Condicionales</b>\n"
      ],
      "metadata": {
        "id": "8Pw1lVQAk_1c"
      }
    },
    {
      "cell_type": "markdown",
      "source": [
        "Las estructuras condicionales permiten que un programa tome decisiones en función de las condiciones que se cumplan."
      ],
      "metadata": {
        "id": "E4pOl2C8lKzF"
      }
    },
    {
      "cell_type": "markdown",
      "source": [
        "### Igualdades"
      ],
      "metadata": {
        "id": "NhyOyyLtnaLV"
      }
    },
    {
      "cell_type": "code",
      "source": [
        "1 = 2"
      ],
      "metadata": {
        "id": "YZkf5aLHmhde",
        "outputId": "2e64ee16-1749-4bd7-e612-06352119eb32",
        "colab": {
          "base_uri": "https://localhost:8080/",
          "height": 106
        }
      },
      "execution_count": null,
      "outputs": [
        {
          "output_type": "error",
          "ename": "SyntaxError",
          "evalue": "cannot assign to literal here. Maybe you meant '==' instead of '='? (<ipython-input-30-c0ab9e3898ea>, line 1)",
          "traceback": [
            "\u001b[0;36m  File \u001b[0;32m\"<ipython-input-30-c0ab9e3898ea>\"\u001b[0;36m, line \u001b[0;32m1\u001b[0m\n\u001b[0;31m    1 = 2\u001b[0m\n\u001b[0m    ^\u001b[0m\n\u001b[0;31mSyntaxError\u001b[0m\u001b[0;31m:\u001b[0m cannot assign to literal here. Maybe you meant '==' instead of '='?\n"
          ]
        }
      ]
    },
    {
      "cell_type": "code",
      "source": [
        "1 == 2"
      ],
      "metadata": {
        "id": "qi5sJLuUmR0m",
        "outputId": "56025f23-4069-446d-81ec-d987be8077a8",
        "colab": {
          "base_uri": "https://localhost:8080/"
        }
      },
      "execution_count": null,
      "outputs": [
        {
          "output_type": "execute_result",
          "data": {
            "text/plain": [
              "False"
            ]
          },
          "metadata": {},
          "execution_count": 31
        }
      ]
    },
    {
      "cell_type": "code",
      "source": [
        "2 == '2'"
      ],
      "metadata": {
        "id": "1lskyB4b2WUx",
        "outputId": "0683434e-71ae-4430-fb07-eaad50a88be5",
        "colab": {
          "base_uri": "https://localhost:8080/"
        }
      },
      "execution_count": null,
      "outputs": [
        {
          "output_type": "execute_result",
          "data": {
            "text/plain": [
              "False"
            ]
          },
          "metadata": {},
          "execution_count": 34
        }
      ]
    },
    {
      "cell_type": "code",
      "source": [
        "2 == 2"
      ],
      "metadata": {
        "id": "8T_pNL9gmoT8",
        "outputId": "a2088744-5d71-46b4-b421-26e0a4e8badf",
        "colab": {
          "base_uri": "https://localhost:8080/"
        }
      },
      "execution_count": null,
      "outputs": [
        {
          "output_type": "execute_result",
          "data": {
            "text/plain": [
              "True"
            ]
          },
          "metadata": {},
          "execution_count": 32
        }
      ]
    },
    {
      "cell_type": "code",
      "source": [
        "2 == 2.0"
      ],
      "metadata": {
        "id": "hSQ9bC3Vmy96",
        "outputId": "567ba316-4227-41ee-bfe6-5547a04b3d4d",
        "colab": {
          "base_uri": "https://localhost:8080/"
        }
      },
      "execution_count": null,
      "outputs": [
        {
          "output_type": "execute_result",
          "data": {
            "text/plain": [
              "True"
            ]
          },
          "metadata": {},
          "execution_count": 33
        }
      ]
    },
    {
      "cell_type": "code",
      "source": [
        "car = 'bmw'\n",
        "car == 'bmw'"
      ],
      "metadata": {
        "id": "PukwJABJm1rP",
        "outputId": "d5ee2293-f8be-48a9-acf8-b48fab9051c1",
        "colab": {
          "base_uri": "https://localhost:8080/"
        }
      },
      "execution_count": null,
      "outputs": [
        {
          "output_type": "execute_result",
          "data": {
            "text/plain": [
              "True"
            ]
          },
          "metadata": {},
          "execution_count": 35
        }
      ]
    },
    {
      "cell_type": "code",
      "source": [
        "car = 'audi'\n",
        "car == 'bmw'"
      ],
      "metadata": {
        "id": "cz5ibI_Wm9lq",
        "outputId": "31133ded-4f3c-4388-c553-118411ad6923",
        "colab": {
          "base_uri": "https://localhost:8080/"
        }
      },
      "execution_count": null,
      "outputs": [
        {
          "output_type": "execute_result",
          "data": {
            "text/plain": [
              "False"
            ]
          },
          "metadata": {},
          "execution_count": 36
        }
      ]
    },
    {
      "cell_type": "markdown",
      "source": [
        "Ignorando Mayusculas en igualdades"
      ],
      "metadata": {
        "id": "yEggshtHom4j"
      }
    },
    {
      "cell_type": "code",
      "source": [
        "car = 'Audi'\n",
        "car == 'audi'"
      ],
      "metadata": {
        "id": "2tLQKu9KnLC3",
        "outputId": "bcd89f34-b8ee-4bc3-98fd-2cc1eabd9935",
        "colab": {
          "base_uri": "https://localhost:8080/"
        }
      },
      "execution_count": null,
      "outputs": [
        {
          "output_type": "execute_result",
          "data": {
            "text/plain": [
              "False"
            ]
          },
          "metadata": {},
          "execution_count": 37
        }
      ]
    },
    {
      "cell_type": "code",
      "source": [
        "car.lower()"
      ],
      "metadata": {
        "id": "VFNGrgdfnZPK",
        "outputId": "65a4fae0-a744-4754-b646-04d0a673c61b",
        "colab": {
          "base_uri": "https://localhost:8080/",
          "height": 35
        }
      },
      "execution_count": null,
      "outputs": [
        {
          "output_type": "execute_result",
          "data": {
            "text/plain": [
              "'audi'"
            ],
            "application/vnd.google.colaboratory.intrinsic+json": {
              "type": "string"
            }
          },
          "metadata": {},
          "execution_count": 38
        }
      ]
    },
    {
      "cell_type": "code",
      "source": [
        "car.upper()"
      ],
      "metadata": {
        "id": "8SDmobRZnNsl",
        "outputId": "cf9576db-febb-4e54-da0f-8ab8e96a35b2",
        "colab": {
          "base_uri": "https://localhost:8080/",
          "height": 35
        }
      },
      "execution_count": null,
      "outputs": [
        {
          "output_type": "execute_result",
          "data": {
            "text/plain": [
              "'AUDI'"
            ],
            "application/vnd.google.colaboratory.intrinsic+json": {
              "type": "string"
            }
          },
          "metadata": {},
          "execution_count": 39
        }
      ]
    },
    {
      "cell_type": "code",
      "source": [
        "car = 'Audi'\n",
        "car.lower() == 'audi'"
      ],
      "metadata": {
        "id": "WOnmTIX9m3IQ",
        "outputId": "794f560e-2b00-4fd0-f8cf-c71e2832cf1a",
        "colab": {
          "base_uri": "https://localhost:8080/"
        }
      },
      "execution_count": null,
      "outputs": [
        {
          "output_type": "execute_result",
          "data": {
            "text/plain": [
              "True"
            ]
          },
          "metadata": {},
          "execution_count": 40
        }
      ]
    },
    {
      "cell_type": "markdown",
      "source": [
        "### Desigualdades"
      ],
      "metadata": {
        "id": "QJzj1X6undzm"
      }
    },
    {
      "cell_type": "code",
      "source": [
        "1 != 2"
      ],
      "metadata": {
        "id": "9u0Sho8vno-g",
        "outputId": "b25a9a7c-7e4f-4843-f1e7-f597a470f5f4",
        "colab": {
          "base_uri": "https://localhost:8080/"
        }
      },
      "execution_count": null,
      "outputs": [
        {
          "output_type": "execute_result",
          "data": {
            "text/plain": [
              "True"
            ]
          },
          "metadata": {},
          "execution_count": 41
        }
      ]
    },
    {
      "cell_type": "code",
      "source": [
        "'Audi' != 'audi'"
      ],
      "metadata": {
        "id": "EADKhXulntOP",
        "outputId": "49321b25-b942-4283-b6e8-66d6ff0a591a",
        "colab": {
          "base_uri": "https://localhost:8080/"
        }
      },
      "execution_count": null,
      "outputs": [
        {
          "output_type": "execute_result",
          "data": {
            "text/plain": [
              "True"
            ]
          },
          "metadata": {},
          "execution_count": 42
        }
      ]
    },
    {
      "cell_type": "code",
      "source": [
        "2 != 2.0"
      ],
      "metadata": {
        "id": "lRCCtFKBnweq",
        "outputId": "e83eb4bc-42cb-49a4-8441-c2986f6699f3",
        "colab": {
          "base_uri": "https://localhost:8080/"
        }
      },
      "execution_count": null,
      "outputs": [
        {
          "output_type": "execute_result",
          "data": {
            "text/plain": [
              "False"
            ]
          },
          "metadata": {},
          "execution_count": 43
        }
      ]
    },
    {
      "cell_type": "code",
      "source": [
        "requested_topping = 'champiñones'\n",
        "\n",
        "if requested_topping != 'Anchoas':\n",
        "  print(\"Sostén las Anchoas!\")\n"
      ],
      "metadata": {
        "id": "4x_KuchGnhHR",
        "outputId": "a9e9ede4-141b-4ef6-f375-c2383a14abc8",
        "colab": {
          "base_uri": "https://localhost:8080/"
        }
      },
      "execution_count": null,
      "outputs": [
        {
          "output_type": "stream",
          "name": "stdout",
          "text": [
            "Sostén las Anchoas!\n"
          ]
        }
      ]
    },
    {
      "cell_type": "markdown",
      "source": [
        "### Comparar Números"
      ],
      "metadata": {
        "id": "9hZEAyQNpIDq"
      }
    },
    {
      "cell_type": "code",
      "source": [
        "age = 18\n",
        "age == 18"
      ],
      "metadata": {
        "id": "TkAawBSMpHmN",
        "outputId": "e61cb8da-bfa3-4cc3-fadc-783d85468a42",
        "colab": {
          "base_uri": "https://localhost:8080/"
        }
      },
      "execution_count": null,
      "outputs": [
        {
          "output_type": "execute_result",
          "data": {
            "text/plain": [
              "True"
            ]
          },
          "metadata": {},
          "execution_count": 1
        }
      ]
    },
    {
      "cell_type": "code",
      "source": [
        "answer = 17\n",
        "\n",
        "if answer != 42:\n",
        "  print(\"Respuesta incorrecta, intenta nuevamente!\")"
      ],
      "metadata": {
        "id": "cuh3qVzEp14h",
        "outputId": "81929738-c17c-4b66-c12a-921c04711643",
        "colab": {
          "base_uri": "https://localhost:8080/"
        }
      },
      "execution_count": null,
      "outputs": [
        {
          "output_type": "stream",
          "name": "stdout",
          "text": [
            "Respuesta incorrecta, intenta nuevamente!\n"
          ]
        }
      ]
    },
    {
      "cell_type": "code",
      "source": [
        "var_a = 25\n",
        "\n",
        "if var_a != 29:\n",
        "  print('Respuesta incorrecta, intenta nuevamente')"
      ],
      "metadata": {
        "id": "Xvn0Mrc29bmB",
        "outputId": "c5dc82af-95c3-4d55-d678-66084c188525",
        "colab": {
          "base_uri": "https://localhost:8080/"
        }
      },
      "execution_count": null,
      "outputs": [
        {
          "output_type": "stream",
          "name": "stdout",
          "text": [
            "Respuesta incorrecta, intenta nuevamente\n"
          ]
        }
      ]
    },
    {
      "cell_type": "code",
      "source": [
        "answer = int(input('Ingrese su respuesta: '))\n",
        "\n",
        "if answer != 49:\n",
        "  print(\"Respuesta incorrecta, intenta nuevamente!\")"
      ],
      "metadata": {
        "id": "Q8P2FyvworiB",
        "outputId": "a1963a5e-9b04-4df6-a24a-109979d9218e",
        "colab": {
          "base_uri": "https://localhost:8080/"
        }
      },
      "execution_count": null,
      "outputs": [
        {
          "output_type": "stream",
          "name": "stdout",
          "text": [
            "Ingrese su respuesta: 50\n",
            "Respuesta incorrecta, intenta nuevamente!\n"
          ]
        }
      ]
    },
    {
      "cell_type": "code",
      "source": [
        "age = 19\n",
        "age < 21"
      ],
      "metadata": {
        "id": "BSGJ9oNEqCOj",
        "outputId": "8f228fb5-0143-451f-e9f3-6a6189397a44",
        "colab": {
          "base_uri": "https://localhost:8080/"
        }
      },
      "execution_count": null,
      "outputs": [
        {
          "output_type": "execute_result",
          "data": {
            "text/plain": [
              "True"
            ]
          },
          "metadata": {},
          "execution_count": 15
        }
      ]
    },
    {
      "cell_type": "code",
      "source": [
        "age <= 21"
      ],
      "metadata": {
        "id": "wf3dMEHIqGh-",
        "outputId": "03961631-1adf-4d48-8161-5c278d48c12a",
        "colab": {
          "base_uri": "https://localhost:8080/"
        }
      },
      "execution_count": null,
      "outputs": [
        {
          "output_type": "execute_result",
          "data": {
            "text/plain": [
              "True"
            ]
          },
          "metadata": {},
          "execution_count": 16
        }
      ]
    },
    {
      "cell_type": "code",
      "source": [
        "age > 21"
      ],
      "metadata": {
        "id": "ALtGWaW_qIEG",
        "outputId": "371b7039-1f6c-44ab-e3a3-c957d6ae237f",
        "colab": {
          "base_uri": "https://localhost:8080/"
        }
      },
      "execution_count": null,
      "outputs": [
        {
          "output_type": "execute_result",
          "data": {
            "text/plain": [
              "False"
            ]
          },
          "metadata": {},
          "execution_count": 17
        }
      ]
    },
    {
      "cell_type": "code",
      "source": [
        "age >= 21"
      ],
      "metadata": {
        "id": "U-sv2_SKqJ3T",
        "outputId": "5fa09e8c-c8b2-456b-f974-8de704599798",
        "colab": {
          "base_uri": "https://localhost:8080/"
        }
      },
      "execution_count": null,
      "outputs": [
        {
          "output_type": "execute_result",
          "data": {
            "text/plain": [
              "False"
            ]
          },
          "metadata": {},
          "execution_count": 18
        }
      ]
    },
    {
      "cell_type": "markdown",
      "source": [
        "### Condicionales múltiples"
      ],
      "metadata": {
        "id": "Ul7K_VXA69Hg"
      }
    },
    {
      "cell_type": "code",
      "source": [
        "age_0 = 22\n",
        "age_1 = 18\n",
        "age_0 >= 21 and age_1 >= 21"
      ],
      "metadata": {
        "id": "fPhw2J5U7Fgs",
        "outputId": "9c8767f6-7572-4b09-a518-7441fc91c03a",
        "colab": {
          "base_uri": "https://localhost:8080/"
        }
      },
      "execution_count": null,
      "outputs": [
        {
          "output_type": "execute_result",
          "data": {
            "text/plain": [
              "False"
            ]
          },
          "metadata": {},
          "execution_count": 19
        }
      ]
    },
    {
      "cell_type": "code",
      "source": [
        "age_1 = 22\n",
        "age_0 >= 21 and age_1 >= 21"
      ],
      "metadata": {
        "id": "vxSjikcs7zkf"
      },
      "execution_count": null,
      "outputs": []
    },
    {
      "cell_type": "code",
      "source": [
        "(age_0 >= 21) and (age_1 >= 21)"
      ],
      "metadata": {
        "id": "4sdZ7nWN75LC",
        "outputId": "fc8d46cb-ffad-41cc-ce5f-30792908a070",
        "colab": {
          "base_uri": "https://localhost:8080/"
        }
      },
      "execution_count": null,
      "outputs": [
        {
          "output_type": "execute_result",
          "data": {
            "text/plain": [
              "False"
            ]
          },
          "metadata": {},
          "execution_count": 20
        }
      ]
    },
    {
      "cell_type": "code",
      "source": [
        "age_0 = 22\n",
        "age_1 = 18\n",
        "age_0 >= 21 or age_1 >= 21"
      ],
      "metadata": {
        "id": "I_gV0j1n8NJA",
        "outputId": "0974c0df-74b3-4ee2-a784-e22809bc0ecc",
        "colab": {
          "base_uri": "https://localhost:8080/"
        }
      },
      "execution_count": null,
      "outputs": [
        {
          "output_type": "execute_result",
          "data": {
            "text/plain": [
              "True"
            ]
          },
          "metadata": {},
          "execution_count": 21
        }
      ]
    },
    {
      "cell_type": "code",
      "source": [
        "age_0 = 18\n",
        "age_0 >= 21 or age_1 >= 21"
      ],
      "metadata": {
        "id": "OutmfEzZ-9jQ",
        "outputId": "bbb7ff4e-97cc-4147-a57b-c7aa169f82c4",
        "colab": {
          "base_uri": "https://localhost:8080/"
        }
      },
      "execution_count": null,
      "outputs": [
        {
          "output_type": "execute_result",
          "data": {
            "text/plain": [
              "False"
            ]
          },
          "metadata": {},
          "execution_count": 22
        }
      ]
    },
    {
      "cell_type": "markdown",
      "source": [
        "### Ejemplo 3.1: Condicionales simples (if, else, elif)\n"
      ],
      "metadata": {
        "id": "KA3FsiMQlLp_"
      }
    },
    {
      "cell_type": "code",
      "source": [
        "edad = int(input(\"¿Cuántos años tienes? \"))\n",
        "\n",
        "if edad >= 18:\n",
        "    print(\"Eres mayor de edad.\")\n",
        "else:\n",
        "    print(\"Eres menor de edad.\")\n"
      ],
      "metadata": {
        "id": "FgqtGbP8lNvd",
        "outputId": "8c7ebc8d-b5df-4ea5-861f-f26827c96bb1",
        "colab": {
          "base_uri": "https://localhost:8080/"
        }
      },
      "execution_count": null,
      "outputs": [
        {
          "output_type": "stream",
          "name": "stdout",
          "text": [
            "¿Cuántos años tienes? 24\n",
            "Eres mayor de edad.\n"
          ]
        }
      ]
    },
    {
      "cell_type": "markdown",
      "source": [
        "### Ejercicio 3.1: Descuento basado en la edad\n",
        "\n",
        "Pide al usuario ingresar su edad y usa condicionales para aplicar los siguientes descuentos:\n",
        "- Si es menor de 18 años, obtiene un 50% de descuento.\n",
        "- Si tiene entre 18 y 65 años, obtiene un 10% de descuento.\n",
        "- Si es mayor de 65 años, obtiene un 30% de descuento."
      ],
      "metadata": {
        "id": "vp3MgC__lQyw"
      }
    },
    {
      "cell_type": "code",
      "source": [
        "edad = int(input('Ingresa tu edad y enterate que descuento tenemos para ti: '))\n",
        "\n",
        "if edad < 18:\n",
        "  print('Felicitaciones, tienes un descuento de 50%')\n",
        "elif edad >= 18 and edad <= 65:\n",
        "  print('Felicitaciones, tienes un descuento de 10%')\n",
        "else:\n",
        "  print('Felicitaciones, tienes un descuento de 30%')"
      ],
      "metadata": {
        "id": "8wxUXYwOlYNE",
        "outputId": "d23c3dd1-2677-4e30-d365-a77dfd31f20c",
        "colab": {
          "base_uri": "https://localhost:8080/"
        }
      },
      "execution_count": null,
      "outputs": [
        {
          "output_type": "stream",
          "name": "stdout",
          "text": [
            "Ingresa tu edad y enterate que descuento tenemos para ti: 20\n",
            "Felicitaciones, tienes un descuento de 10%\n"
          ]
        }
      ]
    },
    {
      "cell_type": "markdown",
      "source": [
        "### Ejemplo 3.2: Condicionales con varias condiciones\n"
      ],
      "metadata": {
        "id": "x69-544MlYj_"
      }
    },
    {
      "cell_type": "code",
      "source": [
        "temperatura = int(input(\"¿Cuál es la temperatura actual en grados? \"))\n",
        "\n",
        "if temperatura > 30:\n",
        "    print(\"Hace mucho calor.\")\n",
        "elif temperatura > 20:\n",
        "    print(\"El clima es agradable.\")\n",
        "else:\n",
        "    print(\"Hace frío.\")\n"
      ],
      "metadata": {
        "id": "NJsA92zIlaox",
        "outputId": "473c9150-5a53-4b1e-9b6c-fa00bf9a0a39",
        "colab": {
          "base_uri": "https://localhost:8080/"
        }
      },
      "execution_count": null,
      "outputs": [
        {
          "output_type": "stream",
          "name": "stdout",
          "text": [
            "¿Cuál es la temperatura actual en grados? 18\n",
            "Hace frío.\n"
          ]
        }
      ]
    },
    {
      "cell_type": "markdown",
      "source": [
        "### Ejercicio 3.2: Estado de la temperatura\n",
        "\n",
        "Crea un programa que pida al usuario la temperatura en su ciudad y determine:\n",
        "- Si es mayor de 30 grados, imprime \"Hace mucho calor\".\n",
        "- Si está entre 20 y 30 grados, imprime \"El clima es agradable\".\n",
        "- Si es menor de 20 grados, imprime \"Hace frío\"."
      ],
      "metadata": {
        "id": "803QF-Ubldb2"
      }
    },
    {
      "cell_type": "code",
      "source": [
        "temperatura = int(input('¿Cuál es la temperatura, en grados, en tu ciudad?: '))\n",
        "if temperatura > 30:\n",
        "  print('Hace mucho calor')\n",
        "elif temperatura > 20 and temperatura <= 30:\n",
        "  print('El clima es agradable')\n",
        "else:\n",
        "  print('Hace frío')"
      ],
      "metadata": {
        "id": "UkrBmkIcmoP_",
        "outputId": "0eefa8a8-00ce-4c07-9e8a-e4153faaabc6",
        "colab": {
          "base_uri": "https://localhost:8080/"
        }
      },
      "execution_count": null,
      "outputs": [
        {
          "output_type": "stream",
          "name": "stdout",
          "text": [
            "¿Cuál es la temperatura en grados en tu ciudad?: 10\n",
            "Hace frío\n"
          ]
        }
      ]
    },
    {
      "cell_type": "markdown",
      "source": [
        "### Ejemplo 3.3: Anidamiento de condicionales\n"
      ],
      "metadata": {
        "id": "mZr5Inw5llEd"
      }
    },
    {
      "cell_type": "code",
      "source": [
        "edad = int(input(\"¿Cuál es tu edad? \"))\n",
        "ingreso = int(input(\"¿Cuál es tu ingreso mensual en USD? \"))\n",
        "\n",
        "if edad >= 18:\n",
        "    if ingreso >= 1000:\n",
        "        print(\"Puedes solicitar una tarjeta de crédito.\")\n",
        "    else:\n",
        "        print(\"No tienes suficiente ingreso para solicitar una tarjeta.\")\n",
        "else:\n",
        "    print(\"Debes ser mayor de 18 para solicitar una tarjeta.\")\n"
      ],
      "metadata": {
        "id": "-9keYMbAlnBd",
        "outputId": "73765670-0dac-4b8e-cb6f-572d4fd289b6",
        "colab": {
          "base_uri": "https://localhost:8080/"
        }
      },
      "execution_count": null,
      "outputs": [
        {
          "output_type": "stream",
          "name": "stdout",
          "text": [
            "¿Cuál es tu edad? 25\n",
            "¿Cuál es tu ingreso mensual en USD? 1500\n",
            "Puedes solicitar una tarjeta de crédito.\n"
          ]
        }
      ]
    },
    {
      "cell_type": "markdown",
      "source": [
        "### Ejercicio 3.3: Sistema de votación\n",
        "\n",
        "Crea un programa que determine si una persona puede votar. Pide al usuario su nacionalidad y edad.\n",
        "- Si la persona es de nacionalidad \"Peruana\" y mayor de 18 años, permite que vote.\n",
        "- Si es menor de edad o no es de esa nacionalidad, no puede votar."
      ],
      "metadata": {
        "id": "s98IAPjIlpkY"
      }
    },
    {
      "cell_type": "code",
      "source": [
        "pais = str(input('¿Cuál es tu nacionalidad?: '))\n",
        "edad = int(input('¿Cuál es tu edad?: '))\n",
        "if pais == 'Peruana':\n",
        "  if edad >= 18:\n",
        "    print('Puedes votar en las elecciones')\n",
        "  else:\n",
        "    print('No puedes votar en las elecciones')\n",
        "else:\n",
        "  print('No puedes votar en las elecciones')"
      ],
      "metadata": {
        "id": "Ii171M1omnjG",
        "outputId": "2d2d45fb-cb2b-44f5-d121-a232d3ebd63e",
        "colab": {
          "base_uri": "https://localhost:8080/"
        }
      },
      "execution_count": null,
      "outputs": [
        {
          "output_type": "stream",
          "name": "stdout",
          "text": [
            "¿Cuál es tu nacionalidad?: Peruana\n",
            "¿Cuál es tu edad?: 25\n",
            "Puedes votar en las elecciones\n"
          ]
        }
      ]
    },
    {
      "cell_type": "markdown",
      "source": [
        "### Ejemplo 3.4: Condicionales con operadores lógicos\n"
      ],
      "metadata": {
        "id": "NTCPiw7Mlv8N"
      }
    },
    {
      "cell_type": "code",
      "source": [
        "nota = int(input(\"¿Cuál es tu nota? \"))\n",
        "\n",
        "if nota >= 90 and nota <= 100:\n",
        "    print(\"Excelente\")\n",
        "elif nota >= 70 and nota < 90:\n",
        "    print(\"Aprobado\")\n",
        "else:\n",
        "    print(\"Reprobado\")\n"
      ],
      "metadata": {
        "id": "hp478v7tlyAz",
        "outputId": "d654bd63-08a5-4c0c-b6af-e53805446a2f",
        "colab": {
          "base_uri": "https://localhost:8080/"
        }
      },
      "execution_count": null,
      "outputs": [
        {
          "output_type": "stream",
          "name": "stdout",
          "text": [
            "¿Cuál es tu nota? 80\n",
            "Aprobado\n"
          ]
        }
      ]
    },
    {
      "cell_type": "markdown",
      "source": [
        "### Ejercicio 3.4: Notas de estudiantes\n",
        "\n",
        "Escribe un programa que determine la calificación de un estudiante en función de su nota:\n",
        "- Si la nota es mayor o igual a 90: \"Sobresaliente\".\n",
        "- Si está entre 70 y 89: \"Aprobado\".\n",
        "- Si es menor de 70: \"Desaprobado\"."
      ],
      "metadata": {
        "id": "GdtTJckEl0TL"
      }
    },
    {
      "cell_type": "code",
      "source": [
        "nota = int(input('Ingresa tu nota a fin de conocer tu rendimiento actual: '))\n",
        "if nota >= 90:\n",
        "  print('Sobresaliente')\n",
        "elif nota >= 70 and nota <= 89:\n",
        "  print('Aprobado')\n",
        "else:\n",
        "  print('Desaprobado')"
      ],
      "metadata": {
        "id": "Mo1leF6PmnG4",
        "outputId": "e997a3ce-8240-4ac8-9a16-f9b0b27fadc4",
        "colab": {
          "base_uri": "https://localhost:8080/"
        }
      },
      "execution_count": null,
      "outputs": [
        {
          "output_type": "stream",
          "name": "stdout",
          "text": [
            "Ingresa tu nota a fin de conocer tu rendimiento actual: 100\n",
            "Sobresaliente\n"
          ]
        }
      ]
    },
    {
      "cell_type": "markdown",
      "source": [
        "## <b>4. Desafío</b>"
      ],
      "metadata": {
        "id": "K8ioDMpJl8zI"
      }
    },
    {
      "cell_type": "markdown",
      "source": [
        "### Desafío 1: Calculadora de propinas inteligente\n",
        "\n",
        "Crea un programa que simule una calculadora de propinas en un restaurante. El programa debe:\n",
        "\n",
        "- Pedir al usuario que ingrese el total de la cuenta.\n",
        "- Pedir el porcentaje de propina que le gustaría dejar (por ejemplo, 10%, 15%, 20%).\n",
        "\n",
        "Usar condicionales para sugerir automáticamente un valor si no se ingresa un porcentaje, basándose en la experiencia:\n",
        "\n",
        "- Si el servicio fue excelente, sugerir 20%.\n",
        "- Si el servicio fue bueno, sugerir 15%.\n",
        "- Si el servicio fue mediocre, sugerir 10%.\n",
        "- Si el servicio fue malo, no sugerir propina.\n",
        "\n",
        "Calcular e imprimir la cantidad de propina y el total a pagar (cuenta + propina)."
      ],
      "metadata": {
        "id": "mQkPuK6ymKTk"
      }
    },
    {
      "cell_type": "code",
      "source": [
        "cuenta = int(input('Ingrese su cuenta: '))\n",
        "calificacion = int(input('Indique como calificaría el servicio (excelente:20, bueno:15, mediocre:10 o malo:0): '))\n",
        "if calificacion == 20:\n",
        "  print('La propina a adicionar sería del 20%')\n",
        "elif calificacion == 15:\n",
        "    print('La propina a adicionar sería del 15%')\n",
        "elif calificacion == 10:\n",
        "  print('La propina a adicionar sería del 10%')\n",
        "else:\n",
        "  print('No sugiere propina')\n",
        "\n",
        "print(f'El monto a pagar incluido propina es ({cuenta*(1+(calificacion/100))})')\n"
      ],
      "metadata": {
        "id": "43HiaKjEmmPg",
        "outputId": "88dd817b-84f6-4541-a8ee-4a1a60238648",
        "colab": {
          "base_uri": "https://localhost:8080/"
        }
      },
      "execution_count": null,
      "outputs": [
        {
          "output_type": "stream",
          "name": "stdout",
          "text": [
            "Ingrese su cuenta: 100\n",
            "Indique como calificaría el servicio (excelente:20, bueno:15, mediocre:10 o malo:0): 15\n",
            "La propina a adicionar sería del 15%\n",
            "El monto a pagar incluido propina es (114.99999999999999)\n"
          ]
        }
      ]
    },
    {
      "cell_type": "markdown",
      "source": [
        "### Desafío 2: Clasificación de Números\n",
        "\n",
        "Escribe un programa que clasifique un número dado por el usuario según sus características numéricas. El programa debe:\n",
        "\n",
        "Pedir al usuario que ingrese un número entero.\n",
        "\n",
        "Determinar si el número es:\n",
        "- Par o impar.\n",
        "- Positivo, negativo o cero.\n",
        "- Primo o no primo (un número primo solo es divisible por 1 y por sí mismo).\n",
        "- Imprimir una clasificación completa del número según las tres categorías anteriores."
      ],
      "metadata": {
        "id": "GO8pGoUJmuMM"
      }
    },
    {
      "cell_type": "code",
      "source": [],
      "metadata": {
        "id": "9cSqIXwvnnT_"
      },
      "execution_count": null,
      "outputs": []
    },
    {
      "cell_type": "markdown",
      "source": [
        "---\n",
        "\n",
        "# Gracias por completar este laboratorio!\n",
        "\n",
        "---"
      ],
      "metadata": {
        "id": "_G9dWzTgp6-m"
      }
    }
  ]
}