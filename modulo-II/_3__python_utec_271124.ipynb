{
  "nbformat": 4,
  "nbformat_minor": 0,
  "metadata": {
    "colab": {
      "provenance": [],
      "include_colab_link": true
    },
    "kernelspec": {
      "name": "python3",
      "display_name": "Python 3"
    },
    "language_info": {
      "name": "python"
    }
  },
  "cells": [
    {
      "cell_type": "markdown",
      "metadata": {
        "id": "view-in-github",
        "colab_type": "text"
      },
      "source": [
        "<a href=\"https://colab.research.google.com/github/elevano1/UTEC_Phyton/blob/main/modulo-II/_3__python_utec_271124.ipynb\" target=\"_parent\"><img src=\"https://colab.research.google.com/assets/colab-badge.svg\" alt=\"Open In Colab\"/></a>"
      ]
    },
    {
      "cell_type": "markdown",
      "source": [
        "# Listas"
      ],
      "metadata": {
        "id": "kgxLa1nnL9mg"
      }
    },
    {
      "cell_type": "markdown",
      "source": [
        "## Crear listas e identificar los tipos de listas"
      ],
      "metadata": {
        "id": "iVvjZRL9MIzV"
      }
    },
    {
      "cell_type": "code",
      "execution_count": null,
      "metadata": {
        "id": "016n8dvMLwDu"
      },
      "outputs": [],
      "source": [
        "# Listas homogéneas\n",
        "\n",
        "numeros = [1,2,3,4]"
      ]
    },
    {
      "cell_type": "code",
      "source": [
        "letras = [\"a\",\"b\",\"c\",\"d\",\"e\",\"f\"]"
      ],
      "metadata": {
        "id": "eRayCmfAMjF3"
      },
      "execution_count": null,
      "outputs": []
    },
    {
      "cell_type": "code",
      "source": [
        "print(f\"El objeto {numeros} es del tipo {type(numeros)}\")"
      ],
      "metadata": {
        "colab": {
          "base_uri": "https://localhost:8080/"
        },
        "id": "wgqTrakuMxNt",
        "outputId": "6cec9a10-af93-4a38-8c49-5584b8aff784"
      },
      "execution_count": null,
      "outputs": [
        {
          "output_type": "stream",
          "name": "stdout",
          "text": [
            "El objeto [1, 2, 3, 4] es del tipo <class 'list'>\n"
          ]
        }
      ]
    },
    {
      "cell_type": "code",
      "source": [
        "print(f\"El objeto {letras} es del tipo {type(letras)}\")"
      ],
      "metadata": {
        "colab": {
          "base_uri": "https://localhost:8080/"
        },
        "id": "Ud5-cyAJNL-L",
        "outputId": "dad5b439-c4fc-466a-c3bc-ba8877a130db"
      },
      "execution_count": null,
      "outputs": [
        {
          "output_type": "stream",
          "name": "stdout",
          "text": [
            "El objeto ['a', 'b', 'c', 'd', 'e', 'f'] es del tipo <class 'list'>\n"
          ]
        }
      ]
    },
    {
      "cell_type": "code",
      "source": [
        "# Listas heterogéneas\n",
        "\n",
        "datos = [4,\"Jorge\",-15.5,\"UTEC\",True]"
      ],
      "metadata": {
        "id": "lkuml3PNNTCE"
      },
      "execution_count": null,
      "outputs": []
    },
    {
      "cell_type": "code",
      "source": [
        "print(f\"El objeto {datos} es del tipo {type(datos)}\")"
      ],
      "metadata": {
        "colab": {
          "base_uri": "https://localhost:8080/"
        },
        "id": "t5wncZYmN-bU",
        "outputId": "e9834149-417a-4c19-a2c2-2f5edec37c91"
      },
      "execution_count": null,
      "outputs": [
        {
          "output_type": "stream",
          "name": "stdout",
          "text": [
            "El objeto [4, 'Jorge', -15.5, 'UTEC', True] es del tipo <class 'list'>\n"
          ]
        }
      ]
    },
    {
      "cell_type": "code",
      "source": [
        "%whos"
      ],
      "metadata": {
        "colab": {
          "base_uri": "https://localhost:8080/"
        },
        "id": "JMzbT6veOAfK",
        "outputId": "d85af18d-3a45-4876-85f1-9e24c794cfe8"
      },
      "execution_count": null,
      "outputs": [
        {
          "output_type": "stream",
          "name": "stdout",
          "text": [
            "Variable   Type    Data/Info\n",
            "----------------------------\n",
            "datos      list    n=5\n",
            "letras     list    n=6\n",
            "numeros    list    n=4\n"
          ]
        }
      ]
    },
    {
      "cell_type": "markdown",
      "source": [
        "## Acceder a los elementos de las listas"
      ],
      "metadata": {
        "id": "QGyMD-ghOVnD"
      }
    },
    {
      "cell_type": "code",
      "source": [
        "print(f\"La lista {datos}\")"
      ],
      "metadata": {
        "colab": {
          "base_uri": "https://localhost:8080/"
        },
        "id": "_43JwrFKOLfS",
        "outputId": "d18264bb-0109-4ef7-89a6-c0a376aa37af"
      },
      "execution_count": null,
      "outputs": [
        {
          "output_type": "stream",
          "name": "stdout",
          "text": [
            "La lista [4, 'Jorge', -15.5, 'UTEC', True]\n"
          ]
        }
      ]
    },
    {
      "cell_type": "code",
      "source": [
        "print(f\"El elemento ubicado en el índice 3 de la lista es {datos[3]}\")"
      ],
      "metadata": {
        "colab": {
          "base_uri": "https://localhost:8080/"
        },
        "id": "3h7zL-1AOmQm",
        "outputId": "5f819e96-84df-40fe-a75d-04683638bec0"
      },
      "execution_count": null,
      "outputs": [
        {
          "output_type": "stream",
          "name": "stdout",
          "text": [
            "El elemento ubicado en el índice 3 de la lista es UTEC\n"
          ]
        }
      ]
    },
    {
      "cell_type": "code",
      "source": [
        "print(f\"El elemento ubicado en el índice 4 de la lista es {datos[4]}\")"
      ],
      "metadata": {
        "colab": {
          "base_uri": "https://localhost:8080/"
        },
        "id": "AQJs4ry7PlAH",
        "outputId": "cf2712e6-47db-44f5-bb23-d5ee56e3ae26"
      },
      "execution_count": null,
      "outputs": [
        {
          "output_type": "stream",
          "name": "stdout",
          "text": [
            "El elemento ubicado en el índice 4 de la lista es True\n"
          ]
        }
      ]
    },
    {
      "cell_type": "code",
      "source": [
        "print(f\"El último elemento de la lista es {datos[-1]}\")"
      ],
      "metadata": {
        "colab": {
          "base_uri": "https://localhost:8080/"
        },
        "id": "RudZOpWQQL--",
        "outputId": "d3da7280-1b8f-49a9-dc8c-678489357abf"
      },
      "execution_count": null,
      "outputs": [
        {
          "output_type": "stream",
          "name": "stdout",
          "text": [
            "El último elemento de la lista es True\n"
          ]
        }
      ]
    },
    {
      "cell_type": "code",
      "source": [
        "print(f\"Los primeros elementos de la lista son {datos[0:3]}\")"
      ],
      "metadata": {
        "colab": {
          "base_uri": "https://localhost:8080/"
        },
        "id": "9JRlM7BZQv-X",
        "outputId": "b9be1446-e7f7-4f48-d16d-cfedca2f8301"
      },
      "execution_count": null,
      "outputs": [
        {
          "output_type": "stream",
          "name": "stdout",
          "text": [
            "Los primeros elementos de la lista son [4, 'Jorge', -15.5]\n"
          ]
        }
      ]
    },
    {
      "cell_type": "code",
      "source": [
        "print(f\"Los primeros elementos de la lista son {datos[:3]}\")"
      ],
      "metadata": {
        "colab": {
          "base_uri": "https://localhost:8080/"
        },
        "id": "pcs4SirPRtbv",
        "outputId": "f4ec71f6-2f3f-40b7-d400-31e34e95e609"
      },
      "execution_count": null,
      "outputs": [
        {
          "output_type": "stream",
          "name": "stdout",
          "text": [
            "Los primeros elementos de la lista son [4, 'Jorge', -15.5]\n"
          ]
        }
      ]
    },
    {
      "cell_type": "code",
      "source": [
        "# Mostrar todos los elementos de la lista letras\n",
        "# Mostrar el cuarto, quinto y sexto elemento de la lista letras"
      ],
      "metadata": {
        "id": "-GX1s7V4SDoy"
      },
      "execution_count": null,
      "outputs": []
    },
    {
      "cell_type": "code",
      "source": [
        "#Mostrar todos los elementos de la lista letras\n",
        "print(f\"Los elementos de la lista son:\\n {letras[:]}\")\n",
        "#Mostrar el cuarto, quinto y sexto elemento de la lista\n",
        "print(f\"Los elementos seleccionados de la lista son:\\n {letras[3:6]}\")"
      ],
      "metadata": {
        "colab": {
          "base_uri": "https://localhost:8080/"
        },
        "id": "m6yYK99iTJej",
        "outputId": "44d74caa-58f6-4f19-c3b4-34f2225bf10f"
      },
      "execution_count": null,
      "outputs": [
        {
          "output_type": "stream",
          "name": "stdout",
          "text": [
            "Los elementos de la lista son:\n",
            " ['a', 'b', 'c', 'd', 'e', 'f']\n",
            "Los elementos seleccionados de la lista son:\n",
            " ['d', 'e', 'f']\n"
          ]
        }
      ]
    },
    {
      "cell_type": "code",
      "source": [
        "#Mostrar el cuarto, quinto y sexto elemento de la lista\n",
        "print(f\"Los elementos seleccionados de la lista son:\\n {letras[3:]}\")"
      ],
      "metadata": {
        "colab": {
          "base_uri": "https://localhost:8080/"
        },
        "id": "9tJgrTT_ThKu",
        "outputId": "d66d5182-69c6-4f5a-f41e-a6b3579103b7"
      },
      "execution_count": null,
      "outputs": [
        {
          "output_type": "stream",
          "name": "stdout",
          "text": [
            "Los elementos seleccionados de la lista son:\n",
            " ['d', 'e', 'f']\n"
          ]
        }
      ]
    },
    {
      "cell_type": "code",
      "source": [
        "print(f\"Los elementos seleccionados de la lista son:\\n {letras[2:4]}\")"
      ],
      "metadata": {
        "colab": {
          "base_uri": "https://localhost:8080/"
        },
        "id": "pDvhWDJCWKPC",
        "outputId": "306eef58-cd08-4d46-96b4-d232af5cc113"
      },
      "execution_count": null,
      "outputs": [
        {
          "output_type": "stream",
          "name": "stdout",
          "text": [
            "Los elementos seleccionados de la lista son:\n",
            " ['c', 'd']\n"
          ]
        }
      ]
    },
    {
      "cell_type": "markdown",
      "source": [
        "## Insertar elemenos en una lista"
      ],
      "metadata": {
        "id": "i1_S_JH3W03N"
      }
    },
    {
      "cell_type": "code",
      "source": [
        "pares = [0,2,4,6,8,10] # lista homogénea"
      ],
      "metadata": {
        "id": "N44yWifoWth-"
      },
      "execution_count": null,
      "outputs": []
    },
    {
      "cell_type": "code",
      "source": [
        "type(pares)"
      ],
      "metadata": {
        "colab": {
          "base_uri": "https://localhost:8080/"
        },
        "id": "KX1qQun1XKL_",
        "outputId": "768f47b4-d384-492a-ca02-33a15e69127c"
      },
      "execution_count": null,
      "outputs": [
        {
          "output_type": "execute_result",
          "data": {
            "text/plain": [
              "list"
            ]
          },
          "metadata": {},
          "execution_count": 19
        }
      ]
    },
    {
      "cell_type": "code",
      "source": [
        "# Insertar un elemento al final de la lista\n",
        "pares.append(12)"
      ],
      "metadata": {
        "id": "v88EYqYIXLka"
      },
      "execution_count": null,
      "outputs": []
    },
    {
      "cell_type": "code",
      "source": [
        "print(f\"La lista actualizada es \\n{pares}\")"
      ],
      "metadata": {
        "colab": {
          "base_uri": "https://localhost:8080/"
        },
        "id": "01KP1c38X1Xy",
        "outputId": "d0814cf9-5b00-46c5-d6f7-15903150992c"
      },
      "execution_count": null,
      "outputs": [
        {
          "output_type": "stream",
          "name": "stdout",
          "text": [
            "La lista actualizada es \n",
            "[0, 2, 4, 6, 8, 10, 12]\n"
          ]
        }
      ]
    },
    {
      "cell_type": "code",
      "source": [
        "pares.insert(1,100) # insertar elementos en un determinado índice"
      ],
      "metadata": {
        "id": "ubgAnikrYCV-"
      },
      "execution_count": null,
      "outputs": []
    },
    {
      "cell_type": "code",
      "source": [
        "print(f\"La lista actualizada es \\n{pares}\")"
      ],
      "metadata": {
        "colab": {
          "base_uri": "https://localhost:8080/"
        },
        "id": "xf6wiYdpZMZL",
        "outputId": "70187804-3bbe-4f5b-de43-ebca7b9335a2"
      },
      "execution_count": null,
      "outputs": [
        {
          "output_type": "stream",
          "name": "stdout",
          "text": [
            "La lista actualizada es \n",
            "[0, 100, 2, 4, 6, 8, 10, 12]\n"
          ]
        }
      ]
    },
    {
      "cell_type": "code",
      "source": [
        "print(f\"La lista letras tiene los siguientes elementos \\n{letras}\")"
      ],
      "metadata": {
        "colab": {
          "base_uri": "https://localhost:8080/"
        },
        "id": "L-iQbNAKZQGq",
        "outputId": "c8f123d1-1e4a-431f-9584-cbb0ce8e2703"
      },
      "execution_count": null,
      "outputs": [
        {
          "output_type": "stream",
          "name": "stdout",
          "text": [
            "La lista letras tiene los siguientes elementos \n",
            "['a', 'b', 'c', 'd', 'e', 'f']\n"
          ]
        }
      ]
    },
    {
      "cell_type": "code",
      "source": [
        "letras.insert(-1,\"AAA\")\n",
        "print(f\"La lista actualizada \\n{letras}\")"
      ],
      "metadata": {
        "colab": {
          "base_uri": "https://localhost:8080/"
        },
        "id": "YKrewjG-Zs6R",
        "outputId": "7b7ae402-6595-4f13-ebd1-9e4a111347da"
      },
      "execution_count": null,
      "outputs": [
        {
          "output_type": "stream",
          "name": "stdout",
          "text": [
            "La lista actualizada \n",
            "['a', 'b', 'c', 'd', 'e', 'AAA', 'f']\n"
          ]
        }
      ]
    },
    {
      "cell_type": "code",
      "source": [
        "letras.insert(9,\"X\")\n",
        "print(f\"La lista actualizada \\n{letras}\")"
      ],
      "metadata": {
        "colab": {
          "base_uri": "https://localhost:8080/"
        },
        "id": "8NtaR8uYamVy",
        "outputId": "810b4b40-368f-46d4-b5aa-6baf13489c5c"
      },
      "execution_count": null,
      "outputs": [
        {
          "output_type": "stream",
          "name": "stdout",
          "text": [
            "La lista actualizada \n",
            "['a', 'b', 'c', 'd', 'e', 'AAA', 'f', 'X']\n"
          ]
        }
      ]
    },
    {
      "cell_type": "code",
      "source": [
        "letras[7]"
      ],
      "metadata": {
        "colab": {
          "base_uri": "https://localhost:8080/",
          "height": 36
        },
        "id": "IirG99rTbFMG",
        "outputId": "d9ffec17-24b2-4027-c903-2f0986ab381e"
      },
      "execution_count": null,
      "outputs": [
        {
          "output_type": "execute_result",
          "data": {
            "text/plain": [
              "'X'"
            ],
            "application/vnd.google.colaboratory.intrinsic+json": {
              "type": "string"
            }
          },
          "metadata": {},
          "execution_count": 27
        }
      ]
    },
    {
      "cell_type": "markdown",
      "source": [
        "## Las listas son mutables"
      ],
      "metadata": {
        "id": "xe-j09dgfbgl"
      }
    },
    {
      "cell_type": "code",
      "source": [
        "print(f\"Los elementos de la lista letras son \\n{letras[:]}\")"
      ],
      "metadata": {
        "colab": {
          "base_uri": "https://localhost:8080/"
        },
        "id": "PhBEqiwQbckK",
        "outputId": "ae0e64d1-a8b1-4885-c821-b1b10bb3570d"
      },
      "execution_count": null,
      "outputs": [
        {
          "output_type": "stream",
          "name": "stdout",
          "text": [
            "Los elementos de la lista letras son \n",
            "['a', 'b', 'c', 'd', 'e', 'AAA', 'f', 'X']\n"
          ]
        }
      ]
    },
    {
      "cell_type": "code",
      "source": [
        "# Acceder a los primeros 3 elementos\n",
        "print(f\"Los primeros tres elementos de la lista letras son \\n{letras[:3]}\")"
      ],
      "metadata": {
        "colab": {
          "base_uri": "https://localhost:8080/"
        },
        "id": "UbbmZ19wfj5y",
        "outputId": "4952e45a-0bf3-4c05-8907-4a5463ec77b7"
      },
      "execution_count": null,
      "outputs": [
        {
          "output_type": "stream",
          "name": "stdout",
          "text": [
            "Los primeros tres elementos de la lista letras son \n",
            "['a', 'b', 'c']\n"
          ]
        }
      ]
    },
    {
      "cell_type": "code",
      "source": [
        "# Acceder a los primeros 3 elementos\n",
        "print(f\"Los primeros tres elementos de la lista letras son \\n{letras[0:3]}\")"
      ],
      "metadata": {
        "colab": {
          "base_uri": "https://localhost:8080/"
        },
        "id": "ABAp23aIgv7x",
        "outputId": "e5b2b68c-d0e6-49d5-d7b7-6d9bd66643ca"
      },
      "execution_count": null,
      "outputs": [
        {
          "output_type": "stream",
          "name": "stdout",
          "text": [
            "Los primeros tres elementos de la lista letras son \n",
            "['a', 'b', 'c']\n"
          ]
        }
      ]
    },
    {
      "cell_type": "code",
      "source": [
        "letras[:3] = [\"A\",\"B\",\"C\"]\n",
        "print(f\"La lista actualizada es \\n{letras}\")"
      ],
      "metadata": {
        "colab": {
          "base_uri": "https://localhost:8080/"
        },
        "id": "sSRBMuH9gzj0",
        "outputId": "c2504b99-a404-4383-bba8-624d6d79f63b"
      },
      "execution_count": null,
      "outputs": [
        {
          "output_type": "stream",
          "name": "stdout",
          "text": [
            "La lista actualizada es \n",
            "['A', 'B', 'C', 'd', 'e', 'AAA', 'f', 'X']\n"
          ]
        }
      ]
    },
    {
      "cell_type": "code",
      "source": [
        "letras[:3] = []\n",
        "print(f\"La lista actualizada es \\n{letras}\")"
      ],
      "metadata": {
        "colab": {
          "base_uri": "https://localhost:8080/"
        },
        "id": "nsWXy7r7hG0U",
        "outputId": "b80b0385-adb2-4f8d-fbb7-193f4d4cd2c7"
      },
      "execution_count": null,
      "outputs": [
        {
          "output_type": "stream",
          "name": "stdout",
          "text": [
            "La lista actualizada es \n",
            "['d', 'e', 'AAA', 'f', 'X']\n"
          ]
        }
      ]
    },
    {
      "cell_type": "markdown",
      "source": [
        "## Eliminar elementos de una lista"
      ],
      "metadata": {
        "id": "DTaWCtQ5hyNZ"
      }
    },
    {
      "cell_type": "code",
      "source": [
        "print(f\"La lista inicial es \\n{letras}\")\n",
        "elemento = letras.pop(2)\n",
        "print(f\"La lista actualizada es \\n{letras}\")\n",
        "print(f\"El elemento eliminado de la lista es {elemento}\")"
      ],
      "metadata": {
        "colab": {
          "base_uri": "https://localhost:8080/"
        },
        "id": "c9Rcb6a7hj9b",
        "outputId": "8bef4505-04e1-4fc8-8eaa-beb45530b857"
      },
      "execution_count": null,
      "outputs": [
        {
          "output_type": "stream",
          "name": "stdout",
          "text": [
            "La lista inicial es \n",
            "['d', 'e', 'AAA', 'f', 'X']\n",
            "La lista actualizada es \n",
            "['d', 'e', 'f', 'X']\n",
            "El elemento eliminado de la lista es AAA\n"
          ]
        }
      ]
    },
    {
      "cell_type": "code",
      "source": [
        "print(f\"La lista inicial es \\n{pares}\")\n",
        "pares.remove(100)\n",
        "print(f\"La lista actualizada es \\n{pares}\")"
      ],
      "metadata": {
        "colab": {
          "base_uri": "https://localhost:8080/"
        },
        "id": "1tsFnKUYjAlM",
        "outputId": "f89a40d2-03df-45de-a21d-5ffdb6a8710c"
      },
      "execution_count": null,
      "outputs": [
        {
          "output_type": "stream",
          "name": "stdout",
          "text": [
            "La lista inicial es \n",
            "[0, 100, 2, 4, 6, 8, 10, 12]\n",
            "La lista actualizada es \n",
            "[0, 2, 4, 6, 8, 10, 12]\n"
          ]
        }
      ]
    },
    {
      "cell_type": "code",
      "source": [
        "pares.append(12)\n",
        "print(f\"La lista actualizada es \\n{pares}\")"
      ],
      "metadata": {
        "colab": {
          "base_uri": "https://localhost:8080/"
        },
        "id": "y5wIhUKvjUQp",
        "outputId": "55eac8c5-20e7-47c3-ee97-dc55904f2480"
      },
      "execution_count": null,
      "outputs": [
        {
          "output_type": "stream",
          "name": "stdout",
          "text": [
            "La lista actualizada es \n",
            "[0, 2, 4, 6, 8, 10, 12, 12]\n"
          ]
        }
      ]
    },
    {
      "cell_type": "code",
      "source": [
        "pares.remove(12)\n",
        "print(f\"La lista actualizada es \\n{pares}\")"
      ],
      "metadata": {
        "colab": {
          "base_uri": "https://localhost:8080/"
        },
        "id": "XfpLlimLkLK9",
        "outputId": "669468d9-3dcc-4536-cc90-b56005496e6f"
      },
      "execution_count": null,
      "outputs": [
        {
          "output_type": "stream",
          "name": "stdout",
          "text": [
            "La lista actualizada es \n",
            "[0, 2, 4, 6, 8, 10, 12]\n"
          ]
        }
      ]
    },
    {
      "cell_type": "code",
      "source": [
        "print(f\"La lista inicial es \\n{pares}\")\n",
        "del pares[4:]\n",
        "print(f\"La lista actualizada es \\n{pares}\")"
      ],
      "metadata": {
        "colab": {
          "base_uri": "https://localhost:8080/"
        },
        "id": "xCthRWfYkS6G",
        "outputId": "d33afacb-32c2-4ef7-de63-05868abf1665"
      },
      "execution_count": null,
      "outputs": [
        {
          "output_type": "stream",
          "name": "stdout",
          "text": [
            "La lista inicial es \n",
            "[0, 2, 4, 6, 8, 10, 12]\n",
            "La lista actualizada es \n",
            "[0, 2, 4, 6]\n"
          ]
        }
      ]
    },
    {
      "cell_type": "code",
      "source": [
        "%whos"
      ],
      "metadata": {
        "colab": {
          "base_uri": "https://localhost:8080/"
        },
        "id": "ERZ-5xpIlFgp",
        "outputId": "d0317a4e-81cd-424c-e150-7e5210810ea4"
      },
      "execution_count": null,
      "outputs": [
        {
          "output_type": "stream",
          "name": "stdout",
          "text": [
            "Variable   Type    Data/Info\n",
            "----------------------------\n",
            "datos      list    n=5\n",
            "elemento   str     AAA\n",
            "letras     list    n=4\n",
            "numeros    list    n=4\n",
            "pares      list    n=4\n"
          ]
        }
      ]
    },
    {
      "cell_type": "markdown",
      "source": [
        "## Ordenar los elementos de una lista"
      ],
      "metadata": {
        "id": "7zfEZNpclvhu"
      }
    },
    {
      "cell_type": "code",
      "source": [
        "lista_0 = [10, 100, 1, 50, 23, 120, 1000, 3, 25]\n",
        "print(f\"La lista tiene los elementos \\n{lista_0}\")"
      ],
      "metadata": {
        "colab": {
          "base_uri": "https://localhost:8080/"
        },
        "id": "FsYGw7dklqfX",
        "outputId": "db601988-0875-4f99-df63-0f5c0b385dbe"
      },
      "execution_count": null,
      "outputs": [
        {
          "output_type": "stream",
          "name": "stdout",
          "text": [
            "La lista tiene los elementos \n",
            "[10, 100, 1, 50, 23, 120, 1000, 3, 25]\n"
          ]
        }
      ]
    },
    {
      "cell_type": "code",
      "source": [
        "print(f\"La lista tiene los elementos \\n{lista_0}\")\n",
        "lista_0.sort()\n",
        "print(f\"\\nLa lista ordenada tiene los elementos \\n{lista_0}\")"
      ],
      "metadata": {
        "colab": {
          "base_uri": "https://localhost:8080/"
        },
        "id": "FH9upuKilsxK",
        "outputId": "69d72e57-65e8-4e6b-8531-6fc4228a57ef"
      },
      "execution_count": null,
      "outputs": [
        {
          "output_type": "stream",
          "name": "stdout",
          "text": [
            "La lista tiene los elementos \n",
            "[10, 100, 1, 50, 23, 120, 1000, 3, 25]\n",
            "\n",
            "La lista ordenada tiene los elementos \n",
            "[1, 3, 10, 23, 25, 50, 100, 120, 1000]\n"
          ]
        }
      ]
    },
    {
      "cell_type": "code",
      "source": [
        "lista_0 = [10, 100, 1, 50, 23, 120, 1000, 3, 25]\n",
        "print(f\"La lista tiene los elementos \\n{lista_0}\")\n",
        "lista_0.sort(reverse=True)\n",
        "print(f\"\\nLa lista ordenada (descendente) tiene los elementos \\n{lista_0}\")"
      ],
      "metadata": {
        "colab": {
          "base_uri": "https://localhost:8080/"
        },
        "id": "1abrXa_2mU32",
        "outputId": "f2e45e48-c693-4ef7-f826-393ecfd8b371"
      },
      "execution_count": null,
      "outputs": [
        {
          "output_type": "stream",
          "name": "stdout",
          "text": [
            "La lista tiene los elementos \n",
            "[10, 100, 1, 50, 23, 120, 1000, 3, 25]\n",
            "\n",
            "La lista ordenada (descendente) tiene los elementos \n",
            "[1000, 120, 100, 50, 25, 23, 10, 3, 1]\n"
          ]
        }
      ]
    },
    {
      "cell_type": "code",
      "source": [
        "print(f\"El último elemento de la lista es {lista_0[-1]}\")"
      ],
      "metadata": {
        "colab": {
          "base_uri": "https://localhost:8080/"
        },
        "id": "booZAGmmm7hv",
        "outputId": "e8c819f5-def8-4bab-985e-9a69d6972c31"
      },
      "execution_count": null,
      "outputs": [
        {
          "output_type": "stream",
          "name": "stdout",
          "text": [
            "El último elemento de la lista es 1\n"
          ]
        }
      ]
    },
    {
      "cell_type": "markdown",
      "source": [
        "## Buscar elementos en una lista"
      ],
      "metadata": {
        "id": "TuYynzRYngYs"
      }
    },
    {
      "cell_type": "code",
      "source": [
        "print(f\"Los elmentos de la lista son \\n{lista_0}\")"
      ],
      "metadata": {
        "colab": {
          "base_uri": "https://localhost:8080/"
        },
        "id": "s5mLemB9nMBV",
        "outputId": "32ffea2d-119d-46a8-8874-9f6269cb96e5"
      },
      "execution_count": null,
      "outputs": [
        {
          "output_type": "stream",
          "name": "stdout",
          "text": [
            "Los elmentos de la lista son \n",
            "[1000, 120, 100, 50, 25, 23, 10, 3, 1]\n"
          ]
        }
      ]
    },
    {
      "cell_type": "code",
      "source": [
        "100 in lista_0"
      ],
      "metadata": {
        "colab": {
          "base_uri": "https://localhost:8080/"
        },
        "id": "1bzc2rOnnp9F",
        "outputId": "12291cd7-8a6a-493b-a82f-c182c6dad254"
      },
      "execution_count": null,
      "outputs": [
        {
          "output_type": "execute_result",
          "data": {
            "text/plain": [
              "True"
            ]
          },
          "metadata": {},
          "execution_count": 44
        }
      ]
    },
    {
      "cell_type": "code",
      "source": [
        "190 in lista_0"
      ],
      "metadata": {
        "colab": {
          "base_uri": "https://localhost:8080/"
        },
        "id": "x3VcfM-Snviz",
        "outputId": "fb283baa-ee8d-4828-b7c3-1770ec480226"
      },
      "execution_count": null,
      "outputs": [
        {
          "output_type": "execute_result",
          "data": {
            "text/plain": [
              "False"
            ]
          },
          "metadata": {},
          "execution_count": 45
        }
      ]
    },
    {
      "cell_type": "code",
      "source": [
        "print(f\"El elemento 1000 está en el índice {lista_0.index(1000)}\")"
      ],
      "metadata": {
        "colab": {
          "base_uri": "https://localhost:8080/"
        },
        "id": "KNxpNRWlnzFe",
        "outputId": "fbed89af-251b-45a1-fe75-1e60a8b12e16"
      },
      "execution_count": null,
      "outputs": [
        {
          "output_type": "stream",
          "name": "stdout",
          "text": [
            "El elemento 1000 está en el índice 0\n"
          ]
        }
      ]
    },
    {
      "cell_type": "code",
      "source": [
        "lista_0.index(1000,0)"
      ],
      "metadata": {
        "colab": {
          "base_uri": "https://localhost:8080/"
        },
        "id": "HYvxug23oLxj",
        "outputId": "559037c1-98a5-4448-a4ca-6b4b30258a22"
      },
      "execution_count": null,
      "outputs": [
        {
          "output_type": "execute_result",
          "data": {
            "text/plain": [
              "0"
            ]
          },
          "metadata": {},
          "execution_count": 47
        }
      ]
    },
    {
      "cell_type": "code",
      "source": [
        "lista_0.index(1000,3)"
      ],
      "metadata": {
        "colab": {
          "base_uri": "https://localhost:8080/",
          "height": 144
        },
        "id": "bJUszH0No9Dv",
        "outputId": "543b7cc7-eb98-40af-ec19-787143bebb10"
      },
      "execution_count": null,
      "outputs": [
        {
          "output_type": "error",
          "ename": "ValueError",
          "evalue": "1000 is not in list",
          "traceback": [
            "\u001b[0;31m---------------------------------------------------------------------------\u001b[0m",
            "\u001b[0;31mValueError\u001b[0m                                Traceback (most recent call last)",
            "\u001b[0;32m<ipython-input-49-b76545b00adb>\u001b[0m in \u001b[0;36m<cell line: 1>\u001b[0;34m()\u001b[0m\n\u001b[0;32m----> 1\u001b[0;31m \u001b[0mlista_0\u001b[0m\u001b[0;34m.\u001b[0m\u001b[0mindex\u001b[0m\u001b[0;34m(\u001b[0m\u001b[0;36m1000\u001b[0m\u001b[0;34m,\u001b[0m\u001b[0;36m3\u001b[0m\u001b[0;34m)\u001b[0m\u001b[0;34m\u001b[0m\u001b[0;34m\u001b[0m\u001b[0m\n\u001b[0m",
            "\u001b[0;31mValueError\u001b[0m: 1000 is not in list"
          ]
        }
      ]
    },
    {
      "cell_type": "code",
      "source": [
        "lista_0.index(1000,1,6)"
      ],
      "metadata": {
        "colab": {
          "base_uri": "https://localhost:8080/",
          "height": 144
        },
        "id": "06vNxQrrpAb_",
        "outputId": "b598f936-7861-4661-e2f2-04a544aa744b"
      },
      "execution_count": null,
      "outputs": [
        {
          "output_type": "error",
          "ename": "ValueError",
          "evalue": "1000 is not in list",
          "traceback": [
            "\u001b[0;31m---------------------------------------------------------------------------\u001b[0m",
            "\u001b[0;31mValueError\u001b[0m                                Traceback (most recent call last)",
            "\u001b[0;32m<ipython-input-51-2fef7fc97f8d>\u001b[0m in \u001b[0;36m<cell line: 1>\u001b[0;34m()\u001b[0m\n\u001b[0;32m----> 1\u001b[0;31m \u001b[0mlista_0\u001b[0m\u001b[0;34m.\u001b[0m\u001b[0mindex\u001b[0m\u001b[0;34m(\u001b[0m\u001b[0;36m1000\u001b[0m\u001b[0;34m,\u001b[0m\u001b[0;36m1\u001b[0m\u001b[0;34m,\u001b[0m\u001b[0;36m6\u001b[0m\u001b[0;34m)\u001b[0m\u001b[0;34m\u001b[0m\u001b[0;34m\u001b[0m\u001b[0m\n\u001b[0m",
            "\u001b[0;31mValueError\u001b[0m: 1000 is not in list"
          ]
        }
      ]
    },
    {
      "cell_type": "code",
      "source": [
        "lista_0.index(50,1,6)"
      ],
      "metadata": {
        "colab": {
          "base_uri": "https://localhost:8080/"
        },
        "id": "jyhwHg8FpOqM",
        "outputId": "fa1e57c1-8f6b-4a93-eb82-cf55ce259636"
      },
      "execution_count": null,
      "outputs": [
        {
          "output_type": "execute_result",
          "data": {
            "text/plain": [
              "3"
            ]
          },
          "metadata": {},
          "execution_count": 52
        }
      ]
    },
    {
      "cell_type": "code",
      "source": [
        "lista_0.index(10,1,6)"
      ],
      "metadata": {
        "colab": {
          "base_uri": "https://localhost:8080/",
          "height": 144
        },
        "id": "ALJPyDoDpXd2",
        "outputId": "e093707f-7cc3-4196-d304-14aa028e859f"
      },
      "execution_count": null,
      "outputs": [
        {
          "output_type": "error",
          "ename": "ValueError",
          "evalue": "10 is not in list",
          "traceback": [
            "\u001b[0;31m---------------------------------------------------------------------------\u001b[0m",
            "\u001b[0;31mValueError\u001b[0m                                Traceback (most recent call last)",
            "\u001b[0;32m<ipython-input-54-39938f902f12>\u001b[0m in \u001b[0;36m<cell line: 1>\u001b[0;34m()\u001b[0m\n\u001b[0;32m----> 1\u001b[0;31m \u001b[0mlista_0\u001b[0m\u001b[0;34m.\u001b[0m\u001b[0mindex\u001b[0m\u001b[0;34m(\u001b[0m\u001b[0;36m10\u001b[0m\u001b[0;34m,\u001b[0m\u001b[0;36m1\u001b[0m\u001b[0;34m,\u001b[0m\u001b[0;36m6\u001b[0m\u001b[0;34m)\u001b[0m\u001b[0;34m\u001b[0m\u001b[0;34m\u001b[0m\u001b[0m\n\u001b[0m",
            "\u001b[0;31mValueError\u001b[0m: 10 is not in list"
          ]
        }
      ]
    },
    {
      "cell_type": "code",
      "source": [
        "lista_0.index(10,1,7)"
      ],
      "metadata": {
        "colab": {
          "base_uri": "https://localhost:8080/"
        },
        "id": "JFjBvbeApcJU",
        "outputId": "c6c78719-26d7-4cba-9ed0-2be138adfe83"
      },
      "execution_count": null,
      "outputs": [
        {
          "output_type": "execute_result",
          "data": {
            "text/plain": [
              "6"
            ]
          },
          "metadata": {},
          "execution_count": 55
        }
      ]
    },
    {
      "cell_type": "markdown",
      "source": [
        "## Concatenar listas"
      ],
      "metadata": {
        "id": "4DPn-9fL6dtA"
      }
    },
    {
      "cell_type": "code",
      "source": [
        "marcas_favoritas = [\"apple\",\"hp\",\"ferrari\"]\n",
        "marcas_complementarias = [\"dell\",\"toyota\",\"coca_cola\"]"
      ],
      "metadata": {
        "id": "EjoCoi7cptfO"
      },
      "execution_count": null,
      "outputs": []
    },
    {
      "cell_type": "code",
      "source": [
        "%whos"
      ],
      "metadata": {
        "colab": {
          "base_uri": "https://localhost:8080/"
        },
        "id": "qLoyGjut663X",
        "outputId": "b8936863-ef40-42bd-ee1d-e7a1645d459a"
      },
      "execution_count": null,
      "outputs": [
        {
          "output_type": "stream",
          "name": "stdout",
          "text": [
            "Variable                 Type    Data/Info\n",
            "------------------------------------------\n",
            "datos                    list    n=5\n",
            "elemento                 str     AAA\n",
            "letras                   list    n=4\n",
            "lista_0                  list    n=9\n",
            "marcas_complementarias   list    n=3\n",
            "marcas_favoritas         list    n=3\n",
            "numeros                  list    n=4\n",
            "pares                    list    n=4\n"
          ]
        }
      ]
    },
    {
      "cell_type": "code",
      "source": [
        "print(f\"Mis marcas favoritas son \\n{marcas_favoritas}\")\n",
        "print(f\"\\nMis marcas complementarias son \\n{marcas_complementarias}\")"
      ],
      "metadata": {
        "colab": {
          "base_uri": "https://localhost:8080/"
        },
        "id": "yOAWvgV86-wr",
        "outputId": "c5f235d5-8f34-4080-fd82-9c344b401f3a"
      },
      "execution_count": null,
      "outputs": [
        {
          "output_type": "stream",
          "name": "stdout",
          "text": [
            "Mis marcas favoritas son \n",
            "['apple', 'hp', 'ferrari']\n",
            "\n",
            "Mis marcas complementarias son \n",
            "['dell', 'toyota', 'coca_cola']\n"
          ]
        }
      ]
    },
    {
      "cell_type": "code",
      "source": [
        "# El símbolo \"+\" me sirve para concatenar listas\n",
        "print(f\"Mi lista de marcas son \\n{marcas_favoritas + marcas_complementarias}\")\n",
        "print(f\"\\nMis marcas favoritas son \\n{marcas_favoritas}\")\n",
        "print(f\"\\nMis marcas complementarias son \\n{marcas_complementarias}\")"
      ],
      "metadata": {
        "colab": {
          "base_uri": "https://localhost:8080/"
        },
        "id": "wHsl9dqq7Nay",
        "outputId": "cca04dac-2818-4a0f-c2ce-42937301f7ea"
      },
      "execution_count": null,
      "outputs": [
        {
          "output_type": "stream",
          "name": "stdout",
          "text": [
            "Mi lista de marcas son \n",
            "['apple', 'hp', 'ferrari', 'dell', 'toyota', 'coca_cola']\n",
            "\n",
            "Mis marcas favoritas son \n",
            "['apple', 'hp', 'ferrari']\n",
            "\n",
            "Mis marcas complementarias son \n",
            "['dell', 'toyota', 'coca_cola']\n"
          ]
        }
      ]
    },
    {
      "cell_type": "code",
      "source": [
        "# El símbolo \"+\" me sirve para concatenar listas\n",
        "print(f\"Mi lista de valores numéricos es \\n{numeros + pares}\")\n",
        "print(f\"\\nMi lista de números es \\n{numeros}\")\n",
        "print(f\"\\nMi lista de números pares es \\n{pares}\")"
      ],
      "metadata": {
        "colab": {
          "base_uri": "https://localhost:8080/"
        },
        "id": "ZPKE-ryK7uOj",
        "outputId": "cc94c5ee-8413-4179-a715-e18ee95309e7"
      },
      "execution_count": null,
      "outputs": [
        {
          "output_type": "stream",
          "name": "stdout",
          "text": [
            "Mi lista de valores numéricos es \n",
            "[1, 2, 3, 4, 0, 2, 4, 6]\n",
            "\n",
            "Mi lista de números es \n",
            "[1, 2, 3, 4]\n",
            "\n",
            "Mi lista de números pares es \n",
            "[0, 2, 4, 6]\n"
          ]
        }
      ]
    },
    {
      "cell_type": "code",
      "source": [
        "# El comando extend me sirve para concatenar listas\n",
        "marcas_favoritas.extend(marcas_complementarias)\n",
        "print(f\"\\nMis marcas favoritas son \\n{marcas_favoritas}\")\n",
        "print(f\"\\nMis marcas complementarias son \\n{marcas_complementarias}\")"
      ],
      "metadata": {
        "colab": {
          "base_uri": "https://localhost:8080/"
        },
        "id": "zDmnZMjg81aK",
        "outputId": "c9715abc-8c37-4dec-c4b3-8e7beef766c2"
      },
      "execution_count": null,
      "outputs": [
        {
          "output_type": "stream",
          "name": "stdout",
          "text": [
            "Mi lista de marcas son \n",
            "None\n",
            "\n",
            "Mis marcas favoritas son \n",
            "['apple', 'hp', 'ferrari', 'dell', 'toyota', 'coca_cola']\n",
            "\n",
            "Mis marcas complementarias son \n",
            "['dell', 'toyota', 'coca_cola']\n"
          ]
        }
      ]
    },
    {
      "cell_type": "code",
      "source": [
        "# Listas numéricas\n",
        "\n",
        "numeros_ = [10, 20]\n",
        "\n",
        "numeros_2 = list(range(30,300,10))"
      ],
      "metadata": {
        "id": "AgTUki7D8P7C"
      },
      "execution_count": null,
      "outputs": []
    },
    {
      "cell_type": "code",
      "source": [
        "range(30,300,10)"
      ],
      "metadata": {
        "colab": {
          "base_uri": "https://localhost:8080/"
        },
        "id": "JqrAB-VS90nS",
        "outputId": "c68b244c-e919-4f00-ee98-dae7f94e9d34"
      },
      "execution_count": null,
      "outputs": [
        {
          "output_type": "execute_result",
          "data": {
            "text/plain": [
              "range(30, 300, 10)"
            ]
          },
          "metadata": {},
          "execution_count": 63
        }
      ]
    },
    {
      "cell_type": "code",
      "source": [
        "list(range(30,300,10))"
      ],
      "metadata": {
        "colab": {
          "base_uri": "https://localhost:8080/"
        },
        "id": "w8WoJh8Z91P9",
        "outputId": "70223445-1a47-454c-fc3f-3a087bbda97a"
      },
      "execution_count": null,
      "outputs": [
        {
          "output_type": "execute_result",
          "data": {
            "text/plain": [
              "[30,\n",
              " 40,\n",
              " 50,\n",
              " 60,\n",
              " 70,\n",
              " 80,\n",
              " 90,\n",
              " 100,\n",
              " 110,\n",
              " 120,\n",
              " 130,\n",
              " 140,\n",
              " 150,\n",
              " 160,\n",
              " 170,\n",
              " 180,\n",
              " 190,\n",
              " 200,\n",
              " 210,\n",
              " 220,\n",
              " 230,\n",
              " 240,\n",
              " 250,\n",
              " 260,\n",
              " 270,\n",
              " 280,\n",
              " 290]"
            ]
          },
          "metadata": {},
          "execution_count": 64
        }
      ]
    },
    {
      "cell_type": "code",
      "source": [
        "type(numeros_2)"
      ],
      "metadata": {
        "colab": {
          "base_uri": "https://localhost:8080/"
        },
        "id": "NGdjtClD-Xko",
        "outputId": "e14e5ffd-4137-4c3a-e640-695538dc456a"
      },
      "execution_count": null,
      "outputs": [
        {
          "output_type": "execute_result",
          "data": {
            "text/plain": [
              "list"
            ]
          },
          "metadata": {},
          "execution_count": 66
        }
      ]
    },
    {
      "cell_type": "code",
      "source": [
        "print(f\"La lista de valores numéricos es \\n{numeros_}\")\n",
        "numeros_.extend(numeros_2)\n",
        "print(f\"\\nLa lista de valores numéricos es \\n{numeros_}\")\n"
      ],
      "metadata": {
        "colab": {
          "base_uri": "https://localhost:8080/"
        },
        "id": "Tcs8lfdQ-reo",
        "outputId": "6b5bad69-b1a5-4142-b42a-ae0785b7b9d0"
      },
      "execution_count": null,
      "outputs": [
        {
          "output_type": "stream",
          "name": "stdout",
          "text": [
            "La lista de valores numéricos es \n",
            "[10, 20]\n",
            "\n",
            "La lista de valores numéricos es \n",
            "[10, 20, 30, 40, 50, 60, 70, 80, 90, 100, 110, 120, 130, 140, 150, 160, 170, 180, 190, 200, 210, 220, 230, 240, 250, 260, 270, 280, 290]\n"
          ]
        }
      ]
    },
    {
      "cell_type": "markdown",
      "source": [
        "## Operaciones numéricas con las listas"
      ],
      "metadata": {
        "id": "BPitXKz__SGc"
      }
    },
    {
      "cell_type": "code",
      "source": [
        "# Cuantificar la cantidad de elementos de una lista\n",
        "len(numeros_)"
      ],
      "metadata": {
        "colab": {
          "base_uri": "https://localhost:8080/"
        },
        "id": "ZDIkwlPT-h0F",
        "outputId": "55d5fc98-195c-4d7e-f21c-a72e5c3fb251"
      },
      "execution_count": null,
      "outputs": [
        {
          "output_type": "execute_result",
          "data": {
            "text/plain": [
              "29"
            ]
          },
          "metadata": {},
          "execution_count": 68
        }
      ]
    },
    {
      "cell_type": "code",
      "source": [
        "print(f\"La suma de los elementos de la lista es \\n{sum(numeros_)}\")\n",
        "print(f\"El promedio de los elementos de la lista es \\n{sum(numeros_)/len(numeros_)}\")\n",
        "print(f\"El mínimo de los elementos de la lista es \\n{min(numeros_)}\")\n",
        "print(f\"El máximo de los elementos de la lista es \\n{max(numeros_)}\")"
      ],
      "metadata": {
        "colab": {
          "base_uri": "https://localhost:8080/"
        },
        "id": "ZP4I3q3x_X6I",
        "outputId": "189661a2-b0e5-4be7-d3d8-9e665a53ee9f"
      },
      "execution_count": null,
      "outputs": [
        {
          "output_type": "stream",
          "name": "stdout",
          "text": [
            "La suma de los elementos de la lista es \n",
            "4350\n",
            "El promedio de los elementos de la lista es \n",
            "150.0\n",
            "El mínimo de los elementos de la lista es \n",
            "10\n",
            "El máximo de los elementos de la lista es \n",
            "290\n"
          ]
        }
      ]
    },
    {
      "cell_type": "markdown",
      "source": [
        "## Lista de listas"
      ],
      "metadata": {
        "id": "HV5KgwefDbNK"
      }
    },
    {
      "cell_type": "code",
      "source": [
        "a = [1,2,3]\n",
        "b = [4,5,6]\n",
        "c = [7,8,9]\n",
        "r = [a, b, c]"
      ],
      "metadata": {
        "id": "sFStIXJk_9eW"
      },
      "execution_count": null,
      "outputs": []
    },
    {
      "cell_type": "code",
      "source": [
        "print(f\"La lista a es \\n{a}\")\n",
        "print(f\"La lista b es \\n{b}\")\n",
        "print(f\"La lista c es \\n{c}\")\n",
        "print(f\"\\nLa lista de listas es \\n{r}\")"
      ],
      "metadata": {
        "colab": {
          "base_uri": "https://localhost:8080/"
        },
        "id": "3ZYMmbipDpFE",
        "outputId": "c2f8e3d5-eec2-45e1-def4-85b6606f7b8d"
      },
      "execution_count": null,
      "outputs": [
        {
          "output_type": "stream",
          "name": "stdout",
          "text": [
            "La lista a es \n",
            "[1, 2, 3]\n",
            "La lista b es \n",
            "[4, 5, 6]\n",
            "La lista c es \n",
            "[7, 8, 9]\n",
            "\n",
            "La lista de listas es \n",
            "[[1, 2, 3], [4, 5, 6], [7, 8, 9]]\n"
          ]
        }
      ]
    },
    {
      "cell_type": "code",
      "source": [
        "print(f\"El primer elemento de la lista r es \\n{r[0]}\")"
      ],
      "metadata": {
        "colab": {
          "base_uri": "https://localhost:8080/"
        },
        "id": "C0_0fZFiDyDY",
        "outputId": "a09a8db6-fd4e-4a76-e202-165811fcd074"
      },
      "execution_count": null,
      "outputs": [
        {
          "output_type": "stream",
          "name": "stdout",
          "text": [
            "El primer elemento de la lista r es \n",
            "[1, 2, 3]\n"
          ]
        }
      ]
    },
    {
      "cell_type": "code",
      "source": [
        "print(f\"El tercer elemento de la lista r es \\n{r[2]}\")"
      ],
      "metadata": {
        "colab": {
          "base_uri": "https://localhost:8080/"
        },
        "id": "7gQVL8RnEyjn",
        "outputId": "ea2cf3f4-155d-4a39-d2ff-a221f112e818"
      },
      "execution_count": null,
      "outputs": [
        {
          "output_type": "stream",
          "name": "stdout",
          "text": [
            "El tercer elemento de la lista r es \n",
            "[7, 8, 9]\n"
          ]
        }
      ]
    },
    {
      "cell_type": "code",
      "source": [
        "print(f\"El tercer elemento del tercer elemento de la lista r es \\n{r[2][2]}\")"
      ],
      "metadata": {
        "colab": {
          "base_uri": "https://localhost:8080/"
        },
        "id": "BdMjhHMzFMYv",
        "outputId": "6a5695d9-42d4-4860-959b-256679464310"
      },
      "execution_count": null,
      "outputs": [
        {
          "output_type": "stream",
          "name": "stdout",
          "text": [
            "El tercer elemento del tercer elemento de la lista r es \n",
            "9\n"
          ]
        }
      ]
    },
    {
      "cell_type": "code",
      "source": [
        "print(f\"El tercer elemento del tercer elemento de la lista r es {r[-1][-1]}\")"
      ],
      "metadata": {
        "colab": {
          "base_uri": "https://localhost:8080/"
        },
        "id": "XuCs7ONXFdg2",
        "outputId": "52308bd8-2157-4392-c3c6-cfe8e068f46f"
      },
      "execution_count": null,
      "outputs": [
        {
          "output_type": "stream",
          "name": "stdout",
          "text": [
            "El tercer elemento del tercer elemento de la lista r es 9\n"
          ]
        }
      ]
    },
    {
      "cell_type": "code",
      "source": [
        "list(\"David\")"
      ],
      "metadata": {
        "colab": {
          "base_uri": "https://localhost:8080/"
        },
        "id": "jS3YK7JcFXPp",
        "outputId": "ee30bd65-0101-464a-97bc-000460db95d9"
      },
      "execution_count": null,
      "outputs": [
        {
          "output_type": "execute_result",
          "data": {
            "text/plain": [
              "['D', 'a', 'v', 'i', 'd']"
            ]
          },
          "metadata": {},
          "execution_count": 79
        }
      ]
    },
    {
      "cell_type": "markdown",
      "source": [
        "## Actividades Complementarias Listas"
      ],
      "metadata": {
        "id": "EysoWVyEL0pP"
      }
    },
    {
      "cell_type": "code",
      "source": [
        "from google.colab import files\n",
        "\n",
        "# Subir archivo desde tu máquina local\n",
        "uploaded = files.upload()"
      ],
      "metadata": {
        "colab": {
          "base_uri": "https://localhost:8080/",
          "height": 73
        },
        "id": "OAapu8urF11L",
        "outputId": "30955e0f-4161-4426-8a7e-3adc0036f589"
      },
      "execution_count": null,
      "outputs": [
        {
          "output_type": "display_data",
          "data": {
            "text/plain": [
              "<IPython.core.display.HTML object>"
            ],
            "text/html": [
              "\n",
              "     <input type=\"file\" id=\"files-bbcf1e69-4091-43c8-b5a6-5bd1c789092e\" name=\"files[]\" multiple disabled\n",
              "        style=\"border:none\" />\n",
              "     <output id=\"result-bbcf1e69-4091-43c8-b5a6-5bd1c789092e\">\n",
              "      Upload widget is only available when the cell has been executed in the\n",
              "      current browser session. Please rerun this cell to enable.\n",
              "      </output>\n",
              "      <script>// Copyright 2017 Google LLC\n",
              "//\n",
              "// Licensed under the Apache License, Version 2.0 (the \"License\");\n",
              "// you may not use this file except in compliance with the License.\n",
              "// You may obtain a copy of the License at\n",
              "//\n",
              "//      http://www.apache.org/licenses/LICENSE-2.0\n",
              "//\n",
              "// Unless required by applicable law or agreed to in writing, software\n",
              "// distributed under the License is distributed on an \"AS IS\" BASIS,\n",
              "// WITHOUT WARRANTIES OR CONDITIONS OF ANY KIND, either express or implied.\n",
              "// See the License for the specific language governing permissions and\n",
              "// limitations under the License.\n",
              "\n",
              "/**\n",
              " * @fileoverview Helpers for google.colab Python module.\n",
              " */\n",
              "(function(scope) {\n",
              "function span(text, styleAttributes = {}) {\n",
              "  const element = document.createElement('span');\n",
              "  element.textContent = text;\n",
              "  for (const key of Object.keys(styleAttributes)) {\n",
              "    element.style[key] = styleAttributes[key];\n",
              "  }\n",
              "  return element;\n",
              "}\n",
              "\n",
              "// Max number of bytes which will be uploaded at a time.\n",
              "const MAX_PAYLOAD_SIZE = 100 * 1024;\n",
              "\n",
              "function _uploadFiles(inputId, outputId) {\n",
              "  const steps = uploadFilesStep(inputId, outputId);\n",
              "  const outputElement = document.getElementById(outputId);\n",
              "  // Cache steps on the outputElement to make it available for the next call\n",
              "  // to uploadFilesContinue from Python.\n",
              "  outputElement.steps = steps;\n",
              "\n",
              "  return _uploadFilesContinue(outputId);\n",
              "}\n",
              "\n",
              "// This is roughly an async generator (not supported in the browser yet),\n",
              "// where there are multiple asynchronous steps and the Python side is going\n",
              "// to poll for completion of each step.\n",
              "// This uses a Promise to block the python side on completion of each step,\n",
              "// then passes the result of the previous step as the input to the next step.\n",
              "function _uploadFilesContinue(outputId) {\n",
              "  const outputElement = document.getElementById(outputId);\n",
              "  const steps = outputElement.steps;\n",
              "\n",
              "  const next = steps.next(outputElement.lastPromiseValue);\n",
              "  return Promise.resolve(next.value.promise).then((value) => {\n",
              "    // Cache the last promise value to make it available to the next\n",
              "    // step of the generator.\n",
              "    outputElement.lastPromiseValue = value;\n",
              "    return next.value.response;\n",
              "  });\n",
              "}\n",
              "\n",
              "/**\n",
              " * Generator function which is called between each async step of the upload\n",
              " * process.\n",
              " * @param {string} inputId Element ID of the input file picker element.\n",
              " * @param {string} outputId Element ID of the output display.\n",
              " * @return {!Iterable<!Object>} Iterable of next steps.\n",
              " */\n",
              "function* uploadFilesStep(inputId, outputId) {\n",
              "  const inputElement = document.getElementById(inputId);\n",
              "  inputElement.disabled = false;\n",
              "\n",
              "  const outputElement = document.getElementById(outputId);\n",
              "  outputElement.innerHTML = '';\n",
              "\n",
              "  const pickedPromise = new Promise((resolve) => {\n",
              "    inputElement.addEventListener('change', (e) => {\n",
              "      resolve(e.target.files);\n",
              "    });\n",
              "  });\n",
              "\n",
              "  const cancel = document.createElement('button');\n",
              "  inputElement.parentElement.appendChild(cancel);\n",
              "  cancel.textContent = 'Cancel upload';\n",
              "  const cancelPromise = new Promise((resolve) => {\n",
              "    cancel.onclick = () => {\n",
              "      resolve(null);\n",
              "    };\n",
              "  });\n",
              "\n",
              "  // Wait for the user to pick the files.\n",
              "  const files = yield {\n",
              "    promise: Promise.race([pickedPromise, cancelPromise]),\n",
              "    response: {\n",
              "      action: 'starting',\n",
              "    }\n",
              "  };\n",
              "\n",
              "  cancel.remove();\n",
              "\n",
              "  // Disable the input element since further picks are not allowed.\n",
              "  inputElement.disabled = true;\n",
              "\n",
              "  if (!files) {\n",
              "    return {\n",
              "      response: {\n",
              "        action: 'complete',\n",
              "      }\n",
              "    };\n",
              "  }\n",
              "\n",
              "  for (const file of files) {\n",
              "    const li = document.createElement('li');\n",
              "    li.append(span(file.name, {fontWeight: 'bold'}));\n",
              "    li.append(span(\n",
              "        `(${file.type || 'n/a'}) - ${file.size} bytes, ` +\n",
              "        `last modified: ${\n",
              "            file.lastModifiedDate ? file.lastModifiedDate.toLocaleDateString() :\n",
              "                                    'n/a'} - `));\n",
              "    const percent = span('0% done');\n",
              "    li.appendChild(percent);\n",
              "\n",
              "    outputElement.appendChild(li);\n",
              "\n",
              "    const fileDataPromise = new Promise((resolve) => {\n",
              "      const reader = new FileReader();\n",
              "      reader.onload = (e) => {\n",
              "        resolve(e.target.result);\n",
              "      };\n",
              "      reader.readAsArrayBuffer(file);\n",
              "    });\n",
              "    // Wait for the data to be ready.\n",
              "    let fileData = yield {\n",
              "      promise: fileDataPromise,\n",
              "      response: {\n",
              "        action: 'continue',\n",
              "      }\n",
              "    };\n",
              "\n",
              "    // Use a chunked sending to avoid message size limits. See b/62115660.\n",
              "    let position = 0;\n",
              "    do {\n",
              "      const length = Math.min(fileData.byteLength - position, MAX_PAYLOAD_SIZE);\n",
              "      const chunk = new Uint8Array(fileData, position, length);\n",
              "      position += length;\n",
              "\n",
              "      const base64 = btoa(String.fromCharCode.apply(null, chunk));\n",
              "      yield {\n",
              "        response: {\n",
              "          action: 'append',\n",
              "          file: file.name,\n",
              "          data: base64,\n",
              "        },\n",
              "      };\n",
              "\n",
              "      let percentDone = fileData.byteLength === 0 ?\n",
              "          100 :\n",
              "          Math.round((position / fileData.byteLength) * 100);\n",
              "      percent.textContent = `${percentDone}% done`;\n",
              "\n",
              "    } while (position < fileData.byteLength);\n",
              "  }\n",
              "\n",
              "  // All done.\n",
              "  yield {\n",
              "    response: {\n",
              "      action: 'complete',\n",
              "    }\n",
              "  };\n",
              "}\n",
              "\n",
              "scope.google = scope.google || {};\n",
              "scope.google.colab = scope.google.colab || {};\n",
              "scope.google.colab._files = {\n",
              "  _uploadFiles,\n",
              "  _uploadFilesContinue,\n",
              "};\n",
              "})(self);\n",
              "</script> "
            ]
          },
          "metadata": {}
        },
        {
          "output_type": "stream",
          "name": "stdout",
          "text": [
            "Saving Act001_Python.png to Act001_Python (1).png\n"
          ]
        }
      ]
    },
    {
      "cell_type": "code",
      "source": [
        "from IPython.display import Image, display\n",
        "\n",
        "# Mostrar la imagen en Colab\n",
        "display(Image(filename='Act001_Python.png'))"
      ],
      "metadata": {
        "colab": {
          "base_uri": "https://localhost:8080/",
          "height": 494
        },
        "id": "rBfJ7zD9MEAA",
        "outputId": "7a877d5d-a6d8-45c4-f109-a20c6567e13c"
      },
      "execution_count": null,
      "outputs": [
        {
          "output_type": "display_data",
          "data": {
            "image/png": "[encoded data removed]",
            "text/plain": [
              "<IPython.core.display.Image object>"
            ]
          },
          "metadata": {}
        }
      ]
    },
    {
      "cell_type": "code",
      "source": [
        "## Actividad 1\n",
        "\n",
        "## 1.1\n",
        "\n",
        "lista_x = list(range(12,201,2)) # 12: punto de partida, 201: punta de parada (no está incluído), 2: saltos\n",
        "print(f\"La lista ingresada es \\n{lista_x}\")"
      ],
      "metadata": {
        "colab": {
          "base_uri": "https://localhost:8080/"
        },
        "id": "5bdJVg-rMJX9",
        "outputId": "dd98fcdf-93ea-4877-abba-deff4a22e1d2"
      },
      "execution_count": null,
      "outputs": [
        {
          "output_type": "stream",
          "name": "stdout",
          "text": [
            "La lista ingresada es \n",
            "[12, 14, 16, 18, 20, 22, 24, 26, 28, 30, 32, 34, 36, 38, 40, 42, 44, 46, 48, 50, 52, 54, 56, 58, 60, 62, 64, 66, 68, 70, 72, 74, 76, 78, 80, 82, 84, 86, 88, 90, 92, 94, 96, 98, 100, 102, 104, 106, 108, 110, 112, 114, 116, 118, 120, 122, 124, 126, 128, 130, 132, 134, 136, 138, 140, 142, 144, 146, 148, 150, 152, 154, 156, 158, 160, 162, 164, 166, 168, 170, 172, 174, 176, 178, 180, 182, 184, 186, 188, 190, 192, 194, 196, 198, 200]\n"
          ]
        }
      ]
    },
    {
      "cell_type": "code",
      "source": [
        "## Actividad 1\n",
        "\n",
        "## 1.2\n",
        "numeros_eliminados = [lista_x.pop(0),lista_x.pop()]\n",
        "## 1.3\n",
        "print(f\"La lista de elementos eliminados es \\n{numeros_eliminados}\")"
      ],
      "metadata": {
        "colab": {
          "base_uri": "https://localhost:8080/"
        },
        "id": "6jQSO2dQOJ_b",
        "outputId": "017bd21b-106c-42c6-9283-87892d79bab0"
      },
      "execution_count": null,
      "outputs": [
        {
          "output_type": "stream",
          "name": "stdout",
          "text": [
            "La lista de elementos eliminados es \n",
            "[12, 200]\n"
          ]
        }
      ]
    },
    {
      "cell_type": "code",
      "source": [
        "## Actividad 1\n",
        "\n",
        "## 1.4\n",
        "print(f\"El valor mínimo de la lista es {min(lista_x)}\")\n",
        "print(f\"El valor máximo de la lista es {max(lista_x)}\")"
      ],
      "metadata": {
        "colab": {
          "base_uri": "https://localhost:8080/"
        },
        "id": "IcnZdWiNO6SC",
        "outputId": "d3902e13-fa7f-401d-81a2-643391801483"
      },
      "execution_count": null,
      "outputs": [
        {
          "output_type": "stream",
          "name": "stdout",
          "text": [
            "El valor mínimo de la lista es 14\n",
            "El valor máximo de la lista es 198\n"
          ]
        }
      ]
    },
    {
      "cell_type": "code",
      "source": [
        "## Actividad N001\n",
        "\n",
        "# Nota\n",
        "\n",
        "lista_x = [] # Define la lista vacía\n",
        "i = 12 # Elemento punto de partida\n",
        "while i<201:\n",
        "  lista_x.append(i)\n",
        "  i+=2\n",
        "print(f\"La lista ingresada es \\n{lista_x}\")"
      ],
      "metadata": {
        "colab": {
          "base_uri": "https://localhost:8080/"
        },
        "id": "mfjvkvu6QqGl",
        "outputId": "47e63eef-74f5-45c0-e49f-0c119d2f705c"
      },
      "execution_count": null,
      "outputs": [
        {
          "output_type": "stream",
          "name": "stdout",
          "text": [
            "La lista ingresada es \n",
            "[12, 14, 16, 18, 20, 22, 24, 26, 28, 30, 32, 34, 36, 38, 40, 42, 44, 46, 48, 50, 52, 54, 56, 58, 60, 62, 64, 66, 68, 70, 72, 74, 76, 78, 80, 82, 84, 86, 88, 90, 92, 94, 96, 98, 100, 102, 104, 106, 108, 110, 112, 114, 116, 118, 120, 122, 124, 126, 128, 130, 132, 134, 136, 138, 140, 142, 144, 146, 148, 150, 152, 154, 156, 158, 160, 162, 164, 166, 168, 170, 172, 174, 176, 178, 180, 182, 184, 186, 188, 190, 192, 194, 196, 198, 200]\n"
          ]
        }
      ]
    },
    {
      "cell_type": "code",
      "source": [
        "# Subir archivo desde tu máquina local\n",
        "uploaded = files.upload()"
      ],
      "metadata": {
        "colab": {
          "base_uri": "https://localhost:8080/",
          "height": 73
        },
        "id": "6j4uw4hbPbCp",
        "outputId": "840ac6fa-8cf4-447e-c563-1d3003727de7"
      },
      "execution_count": null,
      "outputs": [
        {
          "output_type": "display_data",
          "data": {
            "text/plain": [
              "<IPython.core.display.HTML object>"
            ],
            "text/html": [
              "\n",
              "     <input type=\"file\" id=\"files-bdbc25ea-997a-4ddd-868b-2f674cb31405\" name=\"files[]\" multiple disabled\n",
              "        style=\"border:none\" />\n",
              "     <output id=\"result-bdbc25ea-997a-4ddd-868b-2f674cb31405\">\n",
              "      Upload widget is only available when the cell has been executed in the\n",
              "      current browser session. Please rerun this cell to enable.\n",
              "      </output>\n",
              "      <script>// Copyright 2017 Google LLC\n",
              "//\n",
              "// Licensed under the Apache License, Version 2.0 (the \"License\");\n",
              "// you may not use this file except in compliance with the License.\n",
              "// You may obtain a copy of the License at\n",
              "//\n",
              "//      http://www.apache.org/licenses/LICENSE-2.0\n",
              "//\n",
              "// Unless required by applicable law or agreed to in writing, software\n",
              "// distributed under the License is distributed on an \"AS IS\" BASIS,\n",
              "// WITHOUT WARRANTIES OR CONDITIONS OF ANY KIND, either express or implied.\n",
              "// See the License for the specific language governing permissions and\n",
              "// limitations under the License.\n",
              "\n",
              "/**\n",
              " * @fileoverview Helpers for google.colab Python module.\n",
              " */\n",
              "(function(scope) {\n",
              "function span(text, styleAttributes = {}) {\n",
              "  const element = document.createElement('span');\n",
              "  element.textContent = text;\n",
              "  for (const key of Object.keys(styleAttributes)) {\n",
              "    element.style[key] = styleAttributes[key];\n",
              "  }\n",
              "  return element;\n",
              "}\n",
              "\n",
              "// Max number of bytes which will be uploaded at a time.\n",
              "const MAX_PAYLOAD_SIZE = 100 * 1024;\n",
              "\n",
              "function _uploadFiles(inputId, outputId) {\n",
              "  const steps = uploadFilesStep(inputId, outputId);\n",
              "  const outputElement = document.getElementById(outputId);\n",
              "  // Cache steps on the outputElement to make it available for the next call\n",
              "  // to uploadFilesContinue from Python.\n",
              "  outputElement.steps = steps;\n",
              "\n",
              "  return _uploadFilesContinue(outputId);\n",
              "}\n",
              "\n",
              "// This is roughly an async generator (not supported in the browser yet),\n",
              "// where there are multiple asynchronous steps and the Python side is going\n",
              "// to poll for completion of each step.\n",
              "// This uses a Promise to block the python side on completion of each step,\n",
              "// then passes the result of the previous step as the input to the next step.\n",
              "function _uploadFilesContinue(outputId) {\n",
              "  const outputElement = document.getElementById(outputId);\n",
              "  const steps = outputElement.steps;\n",
              "\n",
              "  const next = steps.next(outputElement.lastPromiseValue);\n",
              "  return Promise.resolve(next.value.promise).then((value) => {\n",
              "    // Cache the last promise value to make it available to the next\n",
              "    // step of the generator.\n",
              "    outputElement.lastPromiseValue = value;\n",
              "    return next.value.response;\n",
              "  });\n",
              "}\n",
              "\n",
              "/**\n",
              " * Generator function which is called between each async step of the upload\n",
              " * process.\n",
              " * @param {string} inputId Element ID of the input file picker element.\n",
              " * @param {string} outputId Element ID of the output display.\n",
              " * @return {!Iterable<!Object>} Iterable of next steps.\n",
              " */\n",
              "function* uploadFilesStep(inputId, outputId) {\n",
              "  const inputElement = document.getElementById(inputId);\n",
              "  inputElement.disabled = false;\n",
              "\n",
              "  const outputElement = document.getElementById(outputId);\n",
              "  outputElement.innerHTML = '';\n",
              "\n",
              "  const pickedPromise = new Promise((resolve) => {\n",
              "    inputElement.addEventListener('change', (e) => {\n",
              "      resolve(e.target.files);\n",
              "    });\n",
              "  });\n",
              "\n",
              "  const cancel = document.createElement('button');\n",
              "  inputElement.parentElement.appendChild(cancel);\n",
              "  cancel.textContent = 'Cancel upload';\n",
              "  const cancelPromise = new Promise((resolve) => {\n",
              "    cancel.onclick = () => {\n",
              "      resolve(null);\n",
              "    };\n",
              "  });\n",
              "\n",
              "  // Wait for the user to pick the files.\n",
              "  const files = yield {\n",
              "    promise: Promise.race([pickedPromise, cancelPromise]),\n",
              "    response: {\n",
              "      action: 'starting',\n",
              "    }\n",
              "  };\n",
              "\n",
              "  cancel.remove();\n",
              "\n",
              "  // Disable the input element since further picks are not allowed.\n",
              "  inputElement.disabled = true;\n",
              "\n",
              "  if (!files) {\n",
              "    return {\n",
              "      response: {\n",
              "        action: 'complete',\n",
              "      }\n",
              "    };\n",
              "  }\n",
              "\n",
              "  for (const file of files) {\n",
              "    const li = document.createElement('li');\n",
              "    li.append(span(file.name, {fontWeight: 'bold'}));\n",
              "    li.append(span(\n",
              "        `(${file.type || 'n/a'}) - ${file.size} bytes, ` +\n",
              "        `last modified: ${\n",
              "            file.lastModifiedDate ? file.lastModifiedDate.toLocaleDateString() :\n",
              "                                    'n/a'} - `));\n",
              "    const percent = span('0% done');\n",
              "    li.appendChild(percent);\n",
              "\n",
              "    outputElement.appendChild(li);\n",
              "\n",
              "    const fileDataPromise = new Promise((resolve) => {\n",
              "      const reader = new FileReader();\n",
              "      reader.onload = (e) => {\n",
              "        resolve(e.target.result);\n",
              "      };\n",
              "      reader.readAsArrayBuffer(file);\n",
              "    });\n",
              "    // Wait for the data to be ready.\n",
              "    let fileData = yield {\n",
              "      promise: fileDataPromise,\n",
              "      response: {\n",
              "        action: 'continue',\n",
              "      }\n",
              "    };\n",
              "\n",
              "    // Use a chunked sending to avoid message size limits. See b/62115660.\n",
              "    let position = 0;\n",
              "    do {\n",
              "      const length = Math.min(fileData.byteLength - position, MAX_PAYLOAD_SIZE);\n",
              "      const chunk = new Uint8Array(fileData, position, length);\n",
              "      position += length;\n",
              "\n",
              "      const base64 = btoa(String.fromCharCode.apply(null, chunk));\n",
              "      yield {\n",
              "        response: {\n",
              "          action: 'append',\n",
              "          file: file.name,\n",
              "          data: base64,\n",
              "        },\n",
              "      };\n",
              "\n",
              "      let percentDone = fileData.byteLength === 0 ?\n",
              "          100 :\n",
              "          Math.round((position / fileData.byteLength) * 100);\n",
              "      percent.textContent = `${percentDone}% done`;\n",
              "\n",
              "    } while (position < fileData.byteLength);\n",
              "  }\n",
              "\n",
              "  // All done.\n",
              "  yield {\n",
              "    response: {\n",
              "      action: 'complete',\n",
              "    }\n",
              "  };\n",
              "}\n",
              "\n",
              "scope.google = scope.google || {};\n",
              "scope.google.colab = scope.google.colab || {};\n",
              "scope.google.colab._files = {\n",
              "  _uploadFiles,\n",
              "  _uploadFilesContinue,\n",
              "};\n",
              "})(self);\n",
              "</script> "
            ]
          },
          "metadata": {}
        },
        {
          "output_type": "stream",
          "name": "stdout",
          "text": [
            "Saving Act002_Python_S2.png to Act002_Python_S2.png\n"
          ]
        }
      ]
    },
    {
      "cell_type": "code",
      "source": [
        "# Mostrar la imagen en Colab\n",
        "display(Image(filename='Act002_Python_S2.png'))"
      ],
      "metadata": {
        "colab": {
          "base_uri": "https://localhost:8080/",
          "height": 515
        },
        "id": "brlT4j40QJaV",
        "outputId": "e1a8aaee-4cee-4434-a786-67744f7c6680"
      },
      "execution_count": null,
      "outputs": [
        {
          "output_type": "display_data",
          "data": {
            "image/png": "[encoded data removed]",
            "text/plain": [
              "<IPython.core.display.Image object>"
            ]
          },
          "metadata": {}
        }
      ]
    },
    {
      "cell_type": "code",
      "source": [
        "## Actividad N002\n",
        "\n",
        "# 2.1\n",
        "\n",
        "n = int(input(\"Ingrese el número de elementos de la lista a crear:\"))"
      ],
      "metadata": {
        "colab": {
          "base_uri": "https://localhost:8080/"
        },
        "id": "T06H0we4QSqK",
        "outputId": "2ab23683-9734-4f4c-e7bd-a888ef46e9e4"
      },
      "execution_count": null,
      "outputs": [
        {
          "name": "stdout",
          "output_type": "stream",
          "text": [
            "Ingrese el número de elementos de la lista a crear:5\n"
          ]
        }
      ]
    },
    {
      "cell_type": "code",
      "source": [
        "type(n)"
      ],
      "metadata": {
        "colab": {
          "base_uri": "https://localhost:8080/"
        },
        "id": "xkoVHF0JTbsn",
        "outputId": "3663a855-031b-4119-99ff-b2212c95ffef"
      },
      "execution_count": null,
      "outputs": [
        {
          "output_type": "execute_result",
          "data": {
            "text/plain": [
              "int"
            ]
          },
          "metadata": {},
          "execution_count": 91
        }
      ]
    },
    {
      "cell_type": "code",
      "source": [
        "# Explicación de crear una lista de valores seguidos\n",
        "\n",
        "lista_y = [] # Crear una lista vacía\n",
        "i = 0\n",
        "while i<n:\n",
        "  print(i)\n",
        "  i += 1\n",
        "print(\"Fin.\")\n"
      ],
      "metadata": {
        "colab": {
          "base_uri": "https://localhost:8080/"
        },
        "id": "UYeoK3UkTgTv",
        "outputId": "b359f14f-159c-4cb5-f5d1-01ce92e95b6a"
      },
      "execution_count": null,
      "outputs": [
        {
          "output_type": "stream",
          "name": "stdout",
          "text": [
            "0\n",
            "1\n",
            "2\n",
            "3\n",
            "4\n",
            "Fin.\n"
          ]
        }
      ]
    },
    {
      "cell_type": "code",
      "source": [
        "## 2.2, 2.3 y 2.4\n",
        "\n",
        "lista_y = [] # Crear una lista vacía\n",
        "i = 0 # inicializar en cero\n",
        "while i<n:\n",
        "  lista_y.append(int(input(f\"Ingrese el valor {i+1} de la lista: \")))\n",
        "  i+=1\n",
        "print(f\"La lista con los valores ingresados es: \\n{lista_y}\")"
      ],
      "metadata": {
        "colab": {
          "base_uri": "https://localhost:8080/"
        },
        "id": "5-HFUyIMUIlO",
        "outputId": "7754a302-1e12-4842-f618-d85341824cd0"
      },
      "execution_count": null,
      "outputs": [
        {
          "output_type": "stream",
          "name": "stdout",
          "text": [
            "Ingrese el valor 1 de la lista: 2\n",
            "Ingrese el valor 2 de la lista: 5\n",
            "Ingrese el valor 3 de la lista: 10\n",
            "Ingrese el valor 4 de la lista: 12\n",
            "Ingrese el valor 5 de la lista: 1\n",
            "La lista con los valores ingresados es: \n",
            "[2, 5, 10, 12, 1]\n"
          ]
        }
      ]
    },
    {
      "cell_type": "code",
      "source": [
        "print(f\"El valor mínimo de la lista es {min(lista_y)}\")\n",
        "print(f\"El valor máximo de la lista es {max(lista_y)}\")\n",
        "print(f\"El promedio de los elementos de la lista es {sum(lista_y)/len(lista_y)}\")"
      ],
      "metadata": {
        "colab": {
          "base_uri": "https://localhost:8080/"
        },
        "id": "9jLzTwn7VnMp",
        "outputId": "fcd16c7b-661d-49ea-f4c6-c232e6e52612"
      },
      "execution_count": null,
      "outputs": [
        {
          "output_type": "stream",
          "name": "stdout",
          "text": [
            "El valor mínimo de la lista es 1\n",
            "El valor máximo de la lista es 12\n",
            "El promedio de los elementos de la lista es 6.0\n"
          ]
        }
      ]
    },
    {
      "cell_type": "code",
      "source": [
        "# Subir archivo desde tu máquina local\n",
        "uploaded = files.upload()"
      ],
      "metadata": {
        "colab": {
          "base_uri": "https://localhost:8080/",
          "height": 73
        },
        "id": "LbdpqxbYW-O1",
        "outputId": "129bba3f-73d5-4390-8e02-268800a38289"
      },
      "execution_count": null,
      "outputs": [
        {
          "output_type": "display_data",
          "data": {
            "text/plain": [
              "<IPython.core.display.HTML object>"
            ],
            "text/html": [
              "\n",
              "     <input type=\"file\" id=\"files-21288d82-f4d2-4c02-b107-58ef68e76638\" name=\"files[]\" multiple disabled\n",
              "        style=\"border:none\" />\n",
              "     <output id=\"result-21288d82-f4d2-4c02-b107-58ef68e76638\">\n",
              "      Upload widget is only available when the cell has been executed in the\n",
              "      current browser session. Please rerun this cell to enable.\n",
              "      </output>\n",
              "      <script>// Copyright 2017 Google LLC\n",
              "//\n",
              "// Licensed under the Apache License, Version 2.0 (the \"License\");\n",
              "// you may not use this file except in compliance with the License.\n",
              "// You may obtain a copy of the License at\n",
              "//\n",
              "//      http://www.apache.org/licenses/LICENSE-2.0\n",
              "//\n",
              "// Unless required by applicable law or agreed to in writing, software\n",
              "// distributed under the License is distributed on an \"AS IS\" BASIS,\n",
              "// WITHOUT WARRANTIES OR CONDITIONS OF ANY KIND, either express or implied.\n",
              "// See the License for the specific language governing permissions and\n",
              "// limitations under the License.\n",
              "\n",
              "/**\n",
              " * @fileoverview Helpers for google.colab Python module.\n",
              " */\n",
              "(function(scope) {\n",
              "function span(text, styleAttributes = {}) {\n",
              "  const element = document.createElement('span');\n",
              "  element.textContent = text;\n",
              "  for (const key of Object.keys(styleAttributes)) {\n",
              "    element.style[key] = styleAttributes[key];\n",
              "  }\n",
              "  return element;\n",
              "}\n",
              "\n",
              "// Max number of bytes which will be uploaded at a time.\n",
              "const MAX_PAYLOAD_SIZE = 100 * 1024;\n",
              "\n",
              "function _uploadFiles(inputId, outputId) {\n",
              "  const steps = uploadFilesStep(inputId, outputId);\n",
              "  const outputElement = document.getElementById(outputId);\n",
              "  // Cache steps on the outputElement to make it available for the next call\n",
              "  // to uploadFilesContinue from Python.\n",
              "  outputElement.steps = steps;\n",
              "\n",
              "  return _uploadFilesContinue(outputId);\n",
              "}\n",
              "\n",
              "// This is roughly an async generator (not supported in the browser yet),\n",
              "// where there are multiple asynchronous steps and the Python side is going\n",
              "// to poll for completion of each step.\n",
              "// This uses a Promise to block the python side on completion of each step,\n",
              "// then passes the result of the previous step as the input to the next step.\n",
              "function _uploadFilesContinue(outputId) {\n",
              "  const outputElement = document.getElementById(outputId);\n",
              "  const steps = outputElement.steps;\n",
              "\n",
              "  const next = steps.next(outputElement.lastPromiseValue);\n",
              "  return Promise.resolve(next.value.promise).then((value) => {\n",
              "    // Cache the last promise value to make it available to the next\n",
              "    // step of the generator.\n",
              "    outputElement.lastPromiseValue = value;\n",
              "    return next.value.response;\n",
              "  });\n",
              "}\n",
              "\n",
              "/**\n",
              " * Generator function which is called between each async step of the upload\n",
              " * process.\n",
              " * @param {string} inputId Element ID of the input file picker element.\n",
              " * @param {string} outputId Element ID of the output display.\n",
              " * @return {!Iterable<!Object>} Iterable of next steps.\n",
              " */\n",
              "function* uploadFilesStep(inputId, outputId) {\n",
              "  const inputElement = document.getElementById(inputId);\n",
              "  inputElement.disabled = false;\n",
              "\n",
              "  const outputElement = document.getElementById(outputId);\n",
              "  outputElement.innerHTML = '';\n",
              "\n",
              "  const pickedPromise = new Promise((resolve) => {\n",
              "    inputElement.addEventListener('change', (e) => {\n",
              "      resolve(e.target.files);\n",
              "    });\n",
              "  });\n",
              "\n",
              "  const cancel = document.createElement('button');\n",
              "  inputElement.parentElement.appendChild(cancel);\n",
              "  cancel.textContent = 'Cancel upload';\n",
              "  const cancelPromise = new Promise((resolve) => {\n",
              "    cancel.onclick = () => {\n",
              "      resolve(null);\n",
              "    };\n",
              "  });\n",
              "\n",
              "  // Wait for the user to pick the files.\n",
              "  const files = yield {\n",
              "    promise: Promise.race([pickedPromise, cancelPromise]),\n",
              "    response: {\n",
              "      action: 'starting',\n",
              "    }\n",
              "  };\n",
              "\n",
              "  cancel.remove();\n",
              "\n",
              "  // Disable the input element since further picks are not allowed.\n",
              "  inputElement.disabled = true;\n",
              "\n",
              "  if (!files) {\n",
              "    return {\n",
              "      response: {\n",
              "        action: 'complete',\n",
              "      }\n",
              "    };\n",
              "  }\n",
              "\n",
              "  for (const file of files) {\n",
              "    const li = document.createElement('li');\n",
              "    li.append(span(file.name, {fontWeight: 'bold'}));\n",
              "    li.append(span(\n",
              "        `(${file.type || 'n/a'}) - ${file.size} bytes, ` +\n",
              "        `last modified: ${\n",
              "            file.lastModifiedDate ? file.lastModifiedDate.toLocaleDateString() :\n",
              "                                    'n/a'} - `));\n",
              "    const percent = span('0% done');\n",
              "    li.appendChild(percent);\n",
              "\n",
              "    outputElement.appendChild(li);\n",
              "\n",
              "    const fileDataPromise = new Promise((resolve) => {\n",
              "      const reader = new FileReader();\n",
              "      reader.onload = (e) => {\n",
              "        resolve(e.target.result);\n",
              "      };\n",
              "      reader.readAsArrayBuffer(file);\n",
              "    });\n",
              "    // Wait for the data to be ready.\n",
              "    let fileData = yield {\n",
              "      promise: fileDataPromise,\n",
              "      response: {\n",
              "        action: 'continue',\n",
              "      }\n",
              "    };\n",
              "\n",
              "    // Use a chunked sending to avoid message size limits. See b/62115660.\n",
              "    let position = 0;\n",
              "    do {\n",
              "      const length = Math.min(fileData.byteLength - position, MAX_PAYLOAD_SIZE);\n",
              "      const chunk = new Uint8Array(fileData, position, length);\n",
              "      position += length;\n",
              "\n",
              "      const base64 = btoa(String.fromCharCode.apply(null, chunk));\n",
              "      yield {\n",
              "        response: {\n",
              "          action: 'append',\n",
              "          file: file.name,\n",
              "          data: base64,\n",
              "        },\n",
              "      };\n",
              "\n",
              "      let percentDone = fileData.byteLength === 0 ?\n",
              "          100 :\n",
              "          Math.round((position / fileData.byteLength) * 100);\n",
              "      percent.textContent = `${percentDone}% done`;\n",
              "\n",
              "    } while (position < fileData.byteLength);\n",
              "  }\n",
              "\n",
              "  // All done.\n",
              "  yield {\n",
              "    response: {\n",
              "      action: 'complete',\n",
              "    }\n",
              "  };\n",
              "}\n",
              "\n",
              "scope.google = scope.google || {};\n",
              "scope.google.colab = scope.google.colab || {};\n",
              "scope.google.colab._files = {\n",
              "  _uploadFiles,\n",
              "  _uploadFilesContinue,\n",
              "};\n",
              "})(self);\n",
              "</script> "
            ]
          },
          "metadata": {}
        },
        {
          "output_type": "stream",
          "name": "stdout",
          "text": [
            "Saving Act003_Python_S2.png to Act003_Python_S2.png\n"
          ]
        }
      ]
    },
    {
      "cell_type": "code",
      "source": [
        "# Mostrar la imagen en Colab\n",
        "display(Image(filename='Act003_Python_S2.png'))"
      ],
      "metadata": {
        "colab": {
          "base_uri": "https://localhost:8080/",
          "height": 407
        },
        "id": "bpgZqeE2YDu7",
        "outputId": "5194ef82-31f7-4d63-84c9-a396567a0c7a"
      },
      "execution_count": null,
      "outputs": [
        {
          "output_type": "display_data",
          "data": {
            "image/png": "[encoded data removed]",
            "text/plain": [
              "<IPython.core.display.Image object>"
            ]
          },
          "metadata": {}
        }
      ]
    },
    {
      "cell_type": "code",
      "source": [
        "# Apartado 3.1\n",
        "lista_x = [\"A\", \"B\", \"b\", \"c\", \"E\", \"E\", \"f\"]\n",
        "print(\"Lista inicial:\", lista_x)\n",
        "\n",
        "# Apartado 3.2\n",
        "elemento_eliminar = input(\"Ingrese el elemento que desea eliminar: \")\n",
        "\n",
        "# Apartado 3.3\n",
        "if elemento_eliminar in lista_x:\n",
        "    lista_x.remove(elemento_eliminar)\n",
        "    print(f\"Elemento eliminado: {elemento_eliminar}\")\n",
        "else:\n",
        "    print(f\"El elemento '{elemento_eliminar}' no está en la lista.\")\n",
        "\n",
        "print(\"Lista resultante:\", lista_x)"
      ],
      "metadata": {
        "colab": {
          "base_uri": "https://localhost:8080/"
        },
        "id": "qgaDmAy6YMCA",
        "outputId": "62a34e55-1681-4926-9beb-d8788db26d98"
      },
      "execution_count": null,
      "outputs": [
        {
          "output_type": "stream",
          "name": "stdout",
          "text": [
            "Lista inicial: ['A', 'B', 'b', 'c', 'E', 'E', 'f']\n",
            "Ingrese el elemento que desea eliminar: E\n",
            "Elemento eliminado: E\n",
            "Lista resultante: ['A', 'B', 'b', 'c', 'E', 'f']\n"
          ]
        }
      ]
    },
    {
      "cell_type": "code",
      "source": [
        "%whos"
      ],
      "metadata": {
        "colab": {
          "base_uri": "https://localhost:8080/"
        },
        "id": "zJfsW-7QZcG5",
        "outputId": "e7223ac1-bb96-416e-cf53-8a9c0f2a0422"
      },
      "execution_count": null,
      "outputs": [
        {
          "output_type": "stream",
          "name": "stdout",
          "text": [
            "Variable                 Type        Data/Info\n",
            "----------------------------------------------\n",
            "Image                    type        <class 'IPython.core.display.Image'>\n",
            "a                        list        n=3\n",
            "b                        list        n=3\n",
            "c                        list        n=3\n",
            "datos                    list        n=5\n",
            "display                  function    <function display at 0x796be78b0ca0>\n",
            "elemento                 str         AAA\n",
            "elemento_eliminar        str         E\n",
            "files                    module      <module 'google.colab.fil<...>s/google/colab/files.py'>\n",
            "i                        int         5\n",
            "letras                   list        n=4\n",
            "lista_0                  list        n=9\n",
            "lista_x                  list        n=6\n",
            "lista_y                  list        n=5\n",
            "marcas_complementarias   list        n=3\n",
            "marcas_favoritas         list        n=6\n",
            "n                        int         5\n",
            "numeros                  list        n=4\n",
            "numeros_                 list        n=29\n",
            "numeros_2                list        n=27\n",
            "numeros_eliminados       list        n=2\n",
            "pares                    list        n=4\n",
            "r                        list        n=3\n",
            "uploaded                 dict        n=1\n"
          ]
        }
      ]
    },
    {
      "cell_type": "markdown",
      "source": [
        "## Listas por compresión"
      ],
      "metadata": {
        "id": "elSLpV_SPZie"
      }
    },
    {
      "cell_type": "code",
      "source": [
        "numeros = [2,4,6,8,10,12,14] # objeto iterable (lista)"
      ],
      "metadata": {
        "id": "pyIw_0ICbP8h"
      },
      "execution_count": null,
      "outputs": []
    },
    {
      "cell_type": "code",
      "source": [
        "for elemento in numeros:\n",
        "  print(elemento)"
      ],
      "metadata": {
        "colab": {
          "base_uri": "https://localhost:8080/"
        },
        "id": "5-iebnyOPgxw",
        "outputId": "377f2d33-706d-4114-9c20-2aa7e34692fb"
      },
      "execution_count": null,
      "outputs": [
        {
          "output_type": "stream",
          "name": "stdout",
          "text": [
            "2\n",
            "4\n",
            "6\n",
            "8\n",
            "10\n",
            "12\n",
            "14\n"
          ]
        }
      ]
    },
    {
      "cell_type": "code",
      "source": [
        "numeros_x2 = [i*2 for i in numeros]"
      ],
      "metadata": {
        "id": "n_kF7VuYPwUJ"
      },
      "execution_count": null,
      "outputs": []
    },
    {
      "cell_type": "code",
      "source": [
        "print(f\"La lista inicial es {numeros}\")\n",
        "print(f\"La lista actualizada es {numeros_x2}\")"
      ],
      "metadata": {
        "colab": {
          "base_uri": "https://localhost:8080/"
        },
        "id": "BjlS7ySPQdmL",
        "outputId": "651bbdf2-7010-4b46-9111-b97919de690a"
      },
      "execution_count": null,
      "outputs": [
        {
          "output_type": "stream",
          "name": "stdout",
          "text": [
            "La lista inicial es [2, 4, 6, 8, 10, 12, 14]\n",
            "La lista actualizada es [4, 8, 12, 16, 20, 24, 28]\n"
          ]
        }
      ]
    },
    {
      "cell_type": "code",
      "source": [
        "lista_filtrados = [i for i in numeros if i>5]"
      ],
      "metadata": {
        "id": "94QAm3isQmqI"
      },
      "execution_count": null,
      "outputs": []
    },
    {
      "cell_type": "code",
      "source": [
        "print(f\"La lista inicial es {numeros}\")\n",
        "print(f\"La lista actualizada es {lista_filtrados}\")"
      ],
      "metadata": {
        "colab": {
          "base_uri": "https://localhost:8080/"
        },
        "id": "lzAifqgORxtO",
        "outputId": "8e279a37-27ea-4eca-fc59-32fcc19326aa"
      },
      "execution_count": null,
      "outputs": [
        {
          "output_type": "stream",
          "name": "stdout",
          "text": [
            "La lista inicial es [2, 4, 6, 8, 10, 12, 14]\n",
            "La lista actualizada es [6, 8, 10, 12, 14]\n"
          ]
        }
      ]
    },
    {
      "cell_type": "code",
      "source": [
        "x = 'DAVID'\n",
        "print(f\"Mi nombre es {x}\")\n",
        "print(f\"Mi nombre en minúsculas es {x.lower()}\")"
      ],
      "metadata": {
        "colab": {
          "base_uri": "https://localhost:8080/"
        },
        "id": "IWA43rfpTPt-",
        "outputId": "000c61f4-6d15-4c0b-b5a7-a2d7f967503e"
      },
      "execution_count": null,
      "outputs": [
        {
          "output_type": "stream",
          "name": "stdout",
          "text": [
            "Mi nombre es DAVID\n",
            "Mi nombre en minúsculas es david\n"
          ]
        }
      ]
    },
    {
      "cell_type": "code",
      "source": [
        "y = 'utec'\n",
        "print(f\"Mi universidad es {y}\")\n",
        "print(f\"Mi universidad en mayúsculas es {y.upper()}\")"
      ],
      "metadata": {
        "colab": {
          "base_uri": "https://localhost:8080/"
        },
        "id": "OT4wjm4PTmr9",
        "outputId": "ecb3414d-233e-457a-d7ed-c93fe335d8b1"
      },
      "execution_count": null,
      "outputs": [
        {
          "output_type": "stream",
          "name": "stdout",
          "text": [
            "Mi universidad es utec\n",
            "Mi universidad en mayúsculas es UTEC\n"
          ]
        }
      ]
    },
    {
      "cell_type": "code",
      "source": [
        "y = 'utec'\n",
        "print(f\"Mi universidad es {y}\")\n",
        "print(f\"Mi universidad en minúsculas es {y.lower()}\")"
      ],
      "metadata": {
        "colab": {
          "base_uri": "https://localhost:8080/"
        },
        "id": "ccJ2UOkUZsLD",
        "outputId": "2a4afc76-8d07-4c53-daad-c389f566330d"
      },
      "execution_count": null,
      "outputs": [
        {
          "output_type": "stream",
          "name": "stdout",
          "text": [
            "Mi universidad es utec\n",
            "Mi universidad en minúsculas es utec\n"
          ]
        }
      ]
    },
    {
      "cell_type": "code",
      "source": [
        "lista_x = [\"A\", \"B\", \"b\", \"c\", \"E\", \"E\", \"f\"]\n",
        "\n",
        "print(f\"La lista inicial es \\n{lista_x}\")\n",
        "\n",
        "elemento = input(\"Ingrese el elemento que desea eliminar: \")\n",
        "\n",
        "lista_x_n = [i for i in lista_x if i.lower() != elemento.lower()]\n",
        "\n",
        "print(f\"El elemento eliminado es {elemento} \\n\")\n",
        "print(f\"La lista actualizada es \\n{lista_x_n}\")"
      ],
      "metadata": {
        "colab": {
          "base_uri": "https://localhost:8080/"
        },
        "id": "7b0iU2jER0tj",
        "outputId": "1bacd789-9c2f-46bf-ce49-39a7c5638905"
      },
      "execution_count": null,
      "outputs": [
        {
          "output_type": "stream",
          "name": "stdout",
          "text": [
            "La lista inicial es \n",
            "['A', 'B', 'b', 'c', 'E', 'E', 'f']\n",
            "Ingrese el elemento que desea eliminar: B\n",
            "El elemento eliminado es B \n",
            "\n",
            "La lista actualizada es \n",
            "['A', 'c', 'E', 'E', 'f']\n"
          ]
        }
      ]
    },
    {
      "cell_type": "code",
      "source": [
        "lista_x = [\"A\", \"B\", \"b\", \"c\", \"E\", \"E\", \"f\"]\n",
        "\n",
        "print(f\"La lista inicial es \\n{lista_x}\")\n",
        "\n",
        "#elemento = input(\"Ingrese el elemento que desea eliminar: \")\n",
        "\n",
        "lista_x_n = [i for i in lista_x]\n",
        "\n",
        "#print(f\"El elemento eliminado es {elemento} \\n\")\n",
        "print(f\"La lista actualizada es \\n{lista_x_n}\")"
      ],
      "metadata": {
        "colab": {
          "base_uri": "https://localhost:8080/"
        },
        "id": "4y9v2hz9XWZS",
        "outputId": "1eee07f8-24f7-42b7-8d6e-d5ba4da9ba96"
      },
      "execution_count": null,
      "outputs": [
        {
          "output_type": "stream",
          "name": "stdout",
          "text": [
            "La lista inicial es \n",
            "['A', 'B', 'b', 'c', 'E', 'E', 'f']\n",
            "La lista actualizada es \n",
            "['A', 'B', 'b', 'c', 'E', 'E', 'f']\n"
          ]
        }
      ]
    },
    {
      "cell_type": "code",
      "source": [
        "for i in lista_x:\n",
        "  print(i)"
      ],
      "metadata": {
        "colab": {
          "base_uri": "https://localhost:8080/"
        },
        "id": "c5LcnBlBVuO_",
        "outputId": "f21835d0-4822-46ee-8793-e914436d6a4d"
      },
      "execution_count": null,
      "outputs": [
        {
          "output_type": "stream",
          "name": "stdout",
          "text": [
            "A\n",
            "B\n",
            "b\n",
            "c\n",
            "E\n",
            "E\n",
            "f\n"
          ]
        }
      ]
    },
    {
      "cell_type": "code",
      "source": [
        "lista_x = [\"A\", \"B\", \"b\", \"c\", \"E\", \"E\", \"f\"]\n",
        "\n",
        "print(f\"La lista inicial es \\n{lista_x}\")\n",
        "\n",
        "elemento = input(\"Ingrese el elemento que desea eliminar: \")\n",
        "\n",
        "lista_x_n = [i for i in lista_x if i != elemento]\n",
        "\n",
        "print(f\"El elemento eliminado es {elemento} \\n\")\n",
        "print(f\"La lista actualizada es \\n{lista_x_n}\")"
      ],
      "metadata": {
        "colab": {
          "base_uri": "https://localhost:8080/"
        },
        "id": "MyycdJXFZUlg",
        "outputId": "cbdd8d1c-110b-403e-8cc3-bd8e51a2a5b1"
      },
      "execution_count": null,
      "outputs": [
        {
          "output_type": "stream",
          "name": "stdout",
          "text": [
            "La lista inicial es \n",
            "['A', 'B', 'b', 'c', 'E', 'E', 'f']\n",
            "Ingrese el elemento que desea eliminar: b\n",
            "El elemento eliminado es b \n",
            "\n",
            "La lista actualizada es \n",
            "['A', 'B', 'c', 'E', 'E', 'f']\n"
          ]
        }
      ]
    },
    {
      "cell_type": "markdown",
      "source": [
        "# Tuplas"
      ],
      "metadata": {
        "id": "PPS0lZeKcs0W"
      }
    },
    {
      "cell_type": "markdown",
      "source": [
        "## Crear tuplas e identificar los tipos de tuplas"
      ],
      "metadata": {
        "id": "DWhuqqC-fj5G"
      }
    },
    {
      "cell_type": "code",
      "source": [
        "tupla_0 = () # Tupla vacía"
      ],
      "metadata": {
        "id": "g9w3MgKvbOYX"
      },
      "execution_count": null,
      "outputs": []
    },
    {
      "cell_type": "code",
      "source": [
        "type(tupla_0)"
      ],
      "metadata": {
        "colab": {
          "base_uri": "https://localhost:8080/"
        },
        "id": "zRkTwen0c5XP",
        "outputId": "645782da-1435-4f14-a6ed-ddefa5e27465"
      },
      "execution_count": null,
      "outputs": [
        {
          "output_type": "execute_result",
          "data": {
            "text/plain": [
              "tuple"
            ]
          },
          "metadata": {},
          "execution_count": 15
        }
      ]
    },
    {
      "cell_type": "code",
      "source": [
        "tupla_1 = (5,) # Tupla de 1 elemento\n",
        "type(tupla_1)"
      ],
      "metadata": {
        "colab": {
          "base_uri": "https://localhost:8080/"
        },
        "id": "n5NnbgLMc7Al",
        "outputId": "819060da-36b6-43fa-a2db-60d12166e7b3"
      },
      "execution_count": null,
      "outputs": [
        {
          "output_type": "execute_result",
          "data": {
            "text/plain": [
              "tuple"
            ]
          },
          "metadata": {},
          "execution_count": 16
        }
      ]
    },
    {
      "cell_type": "code",
      "source": [
        "# Tupla homogénea => elementos son del mismo tipo\n",
        "\n",
        "tupla_2 = (2.0, 2.5, 3.2, 4.3, 4.5, 6.5, 7.0)\n",
        "print(f\"La tupla es \\n{tupla_2}\")\n",
        "print(f\"El objeto tupla_2 es del tipo {type(tupla_2)}\")"
      ],
      "metadata": {
        "colab": {
          "base_uri": "https://localhost:8080/"
        },
        "id": "6jSfoLLvdHSY",
        "outputId": "97ca1b07-a38f-4a9e-9bdf-3337c2d53361"
      },
      "execution_count": null,
      "outputs": [
        {
          "output_type": "stream",
          "name": "stdout",
          "text": [
            "La tupla es \n",
            "(2.0, 2.5, 3.2, 4.3, 4.5, 6.5, 7.0)\n",
            "El objeto tupla_2 es del tipo <class 'tuple'>\n"
          ]
        }
      ]
    },
    {
      "cell_type": "code",
      "source": [
        "# Tupla heterogénea => elementos son de distinto tipo\n",
        "\n",
        "tupla_3 = (2, 5.5, \"UTEC\", True)\n",
        "print(f\"La tupla es \\n{tupla_3}\")\n",
        "print(f\"El objeto tupla_3 es del tipo {type(tupla_3)}\")"
      ],
      "metadata": {
        "colab": {
          "base_uri": "https://localhost:8080/"
        },
        "id": "3GCmOH20dotj",
        "outputId": "1e65f2a2-eba6-4624-d990-42449b0dc199"
      },
      "execution_count": null,
      "outputs": [
        {
          "output_type": "stream",
          "name": "stdout",
          "text": [
            "La tupla es \n",
            "(2, 5.5, 'UTEC', True)\n",
            "El objeto tupla_3 es del tipo <class 'tuple'>\n"
          ]
        }
      ]
    },
    {
      "cell_type": "markdown",
      "source": [
        "## Acceder a los elementos de las tuplas"
      ],
      "metadata": {
        "id": "MY9xSd-qfgkS"
      }
    },
    {
      "cell_type": "code",
      "source": [
        "print(f\"La tupla es {tupla_3}\")\n",
        "print(f\"El elemento de índice 1 de la tupla es {tupla_3[1]}\")"
      ],
      "metadata": {
        "colab": {
          "base_uri": "https://localhost:8080/"
        },
        "id": "G_AXXBySeEo4",
        "outputId": "d968b1ae-8161-4669-a786-42a6400a6d0f"
      },
      "execution_count": null,
      "outputs": [
        {
          "output_type": "stream",
          "name": "stdout",
          "text": [
            "La tupla es (2, 5.5, 'UTEC', True)\n",
            "El elemento de índice 1 de la tupla es 5.5\n"
          ]
        }
      ]
    },
    {
      "cell_type": "code",
      "source": [
        "tupla_4 = (1,2,3,4,5,6,7,8,9,10)"
      ],
      "metadata": {
        "id": "ndnatYBSf6_V"
      },
      "execution_count": null,
      "outputs": []
    },
    {
      "cell_type": "code",
      "source": [
        "# Acceder a los elementos de la tupla por operadores de segmentación\n",
        "print(f\"Los elementos seleccionados de la tupla original son \\n{tupla_4[2:7]}\")"
      ],
      "metadata": {
        "colab": {
          "base_uri": "https://localhost:8080/"
        },
        "id": "AQhKAo1Sjnjs",
        "outputId": "74db29e1-e1bd-4bff-8313-f249bcbeb047"
      },
      "execution_count": null,
      "outputs": [
        {
          "output_type": "stream",
          "name": "stdout",
          "text": [
            "Los elementos seleccionados de la tupla original son \n",
            "(3, 4, 5, 6, 7)\n"
          ]
        }
      ]
    },
    {
      "cell_type": "code",
      "source": [
        "print(f\"Los elementos seleccionados de la tupla original son \\n{tupla_4[7:]}\")"
      ],
      "metadata": {
        "colab": {
          "base_uri": "https://localhost:8080/"
        },
        "id": "ynldLm6JkrTS",
        "outputId": "b19fda94-39f3-4482-c396-a443771fd8e3"
      },
      "execution_count": null,
      "outputs": [
        {
          "output_type": "stream",
          "name": "stdout",
          "text": [
            "Los elementos seleccionados de la tupla original son \n",
            "(8, 9, 10)\n"
          ]
        }
      ]
    },
    {
      "cell_type": "code",
      "source": [
        "print(f\"Los elementos seleccionados de la tupla original son \\n{tupla_4[0:4]}\")"
      ],
      "metadata": {
        "colab": {
          "base_uri": "https://localhost:8080/"
        },
        "id": "D-k3mMqWloTN",
        "outputId": "1bf332f5-023e-427a-a3d0-604cb97987bc"
      },
      "execution_count": null,
      "outputs": [
        {
          "output_type": "stream",
          "name": "stdout",
          "text": [
            "Los elementos seleccionados de la tupla original son \n",
            "(1, 2, 3, 4)\n"
          ]
        }
      ]
    },
    {
      "cell_type": "code",
      "source": [
        "print(f\"Los elementos seleccionados de la tupla original son \\n{tupla_4[:4]}\")"
      ],
      "metadata": {
        "colab": {
          "base_uri": "https://localhost:8080/"
        },
        "id": "IScUIKDblsUM",
        "outputId": "2c5d2465-9798-4132-8e83-79da3f46d960"
      },
      "execution_count": null,
      "outputs": [
        {
          "output_type": "stream",
          "name": "stdout",
          "text": [
            "Los elementos seleccionados de la tupla original son \n",
            "(1, 2, 3, 4)\n"
          ]
        }
      ]
    },
    {
      "cell_type": "code",
      "source": [
        "from google.colab import files\n",
        "# Subir archivo desde tu máquina local\n",
        "uploaded = files.upload()"
      ],
      "metadata": {
        "colab": {
          "base_uri": "https://localhost:8080/",
          "height": 73
        },
        "id": "aoCbneLDlQ_D",
        "outputId": "73aea0b4-b70e-4ccb-87c2-8d8cb66ea6d3"
      },
      "execution_count": null,
      "outputs": [
        {
          "output_type": "display_data",
          "data": {
            "text/plain": [
              "<IPython.core.display.HTML object>"
            ],
            "text/html": [
              "\n",
              "     <input type=\"file\" id=\"files-25f83d87-22c0-48b5-8461-ffea14c134c7\" name=\"files[]\" multiple disabled\n",
              "        style=\"border:none\" />\n",
              "     <output id=\"result-25f83d87-22c0-48b5-8461-ffea14c134c7\">\n",
              "      Upload widget is only available when the cell has been executed in the\n",
              "      current browser session. Please rerun this cell to enable.\n",
              "      </output>\n",
              "      <script>// Copyright 2017 Google LLC\n",
              "//\n",
              "// Licensed under the Apache License, Version 2.0 (the \"License\");\n",
              "// you may not use this file except in compliance with the License.\n",
              "// You may obtain a copy of the License at\n",
              "//\n",
              "//      http://www.apache.org/licenses/LICENSE-2.0\n",
              "//\n",
              "// Unless required by applicable law or agreed to in writing, software\n",
              "// distributed under the License is distributed on an \"AS IS\" BASIS,\n",
              "// WITHOUT WARRANTIES OR CONDITIONS OF ANY KIND, either express or implied.\n",
              "// See the License for the specific language governing permissions and\n",
              "// limitations under the License.\n",
              "\n",
              "/**\n",
              " * @fileoverview Helpers for google.colab Python module.\n",
              " */\n",
              "(function(scope) {\n",
              "function span(text, styleAttributes = {}) {\n",
              "  const element = document.createElement('span');\n",
              "  element.textContent = text;\n",
              "  for (const key of Object.keys(styleAttributes)) {\n",
              "    element.style[key] = styleAttributes[key];\n",
              "  }\n",
              "  return element;\n",
              "}\n",
              "\n",
              "// Max number of bytes which will be uploaded at a time.\n",
              "const MAX_PAYLOAD_SIZE = 100 * 1024;\n",
              "\n",
              "function _uploadFiles(inputId, outputId) {\n",
              "  const steps = uploadFilesStep(inputId, outputId);\n",
              "  const outputElement = document.getElementById(outputId);\n",
              "  // Cache steps on the outputElement to make it available for the next call\n",
              "  // to uploadFilesContinue from Python.\n",
              "  outputElement.steps = steps;\n",
              "\n",
              "  return _uploadFilesContinue(outputId);\n",
              "}\n",
              "\n",
              "// This is roughly an async generator (not supported in the browser yet),\n",
              "// where there are multiple asynchronous steps and the Python side is going\n",
              "// to poll for completion of each step.\n",
              "// This uses a Promise to block the python side on completion of each step,\n",
              "// then passes the result of the previous step as the input to the next step.\n",
              "function _uploadFilesContinue(outputId) {\n",
              "  const outputElement = document.getElementById(outputId);\n",
              "  const steps = outputElement.steps;\n",
              "\n",
              "  const next = steps.next(outputElement.lastPromiseValue);\n",
              "  return Promise.resolve(next.value.promise).then((value) => {\n",
              "    // Cache the last promise value to make it available to the next\n",
              "    // step of the generator.\n",
              "    outputElement.lastPromiseValue = value;\n",
              "    return next.value.response;\n",
              "  });\n",
              "}\n",
              "\n",
              "/**\n",
              " * Generator function which is called between each async step of the upload\n",
              " * process.\n",
              " * @param {string} inputId Element ID of the input file picker element.\n",
              " * @param {string} outputId Element ID of the output display.\n",
              " * @return {!Iterable<!Object>} Iterable of next steps.\n",
              " */\n",
              "function* uploadFilesStep(inputId, outputId) {\n",
              "  const inputElement = document.getElementById(inputId);\n",
              "  inputElement.disabled = false;\n",
              "\n",
              "  const outputElement = document.getElementById(outputId);\n",
              "  outputElement.innerHTML = '';\n",
              "\n",
              "  const pickedPromise = new Promise((resolve) => {\n",
              "    inputElement.addEventListener('change', (e) => {\n",
              "      resolve(e.target.files);\n",
              "    });\n",
              "  });\n",
              "\n",
              "  const cancel = document.createElement('button');\n",
              "  inputElement.parentElement.appendChild(cancel);\n",
              "  cancel.textContent = 'Cancel upload';\n",
              "  const cancelPromise = new Promise((resolve) => {\n",
              "    cancel.onclick = () => {\n",
              "      resolve(null);\n",
              "    };\n",
              "  });\n",
              "\n",
              "  // Wait for the user to pick the files.\n",
              "  const files = yield {\n",
              "    promise: Promise.race([pickedPromise, cancelPromise]),\n",
              "    response: {\n",
              "      action: 'starting',\n",
              "    }\n",
              "  };\n",
              "\n",
              "  cancel.remove();\n",
              "\n",
              "  // Disable the input element since further picks are not allowed.\n",
              "  inputElement.disabled = true;\n",
              "\n",
              "  if (!files) {\n",
              "    return {\n",
              "      response: {\n",
              "        action: 'complete',\n",
              "      }\n",
              "    };\n",
              "  }\n",
              "\n",
              "  for (const file of files) {\n",
              "    const li = document.createElement('li');\n",
              "    li.append(span(file.name, {fontWeight: 'bold'}));\n",
              "    li.append(span(\n",
              "        `(${file.type || 'n/a'}) - ${file.size} bytes, ` +\n",
              "        `last modified: ${\n",
              "            file.lastModifiedDate ? file.lastModifiedDate.toLocaleDateString() :\n",
              "                                    'n/a'} - `));\n",
              "    const percent = span('0% done');\n",
              "    li.appendChild(percent);\n",
              "\n",
              "    outputElement.appendChild(li);\n",
              "\n",
              "    const fileDataPromise = new Promise((resolve) => {\n",
              "      const reader = new FileReader();\n",
              "      reader.onload = (e) => {\n",
              "        resolve(e.target.result);\n",
              "      };\n",
              "      reader.readAsArrayBuffer(file);\n",
              "    });\n",
              "    // Wait for the data to be ready.\n",
              "    let fileData = yield {\n",
              "      promise: fileDataPromise,\n",
              "      response: {\n",
              "        action: 'continue',\n",
              "      }\n",
              "    };\n",
              "\n",
              "    // Use a chunked sending to avoid message size limits. See b/62115660.\n",
              "    let position = 0;\n",
              "    do {\n",
              "      const length = Math.min(fileData.byteLength - position, MAX_PAYLOAD_SIZE);\n",
              "      const chunk = new Uint8Array(fileData, position, length);\n",
              "      position += length;\n",
              "\n",
              "      const base64 = btoa(String.fromCharCode.apply(null, chunk));\n",
              "      yield {\n",
              "        response: {\n",
              "          action: 'append',\n",
              "          file: file.name,\n",
              "          data: base64,\n",
              "        },\n",
              "      };\n",
              "\n",
              "      let percentDone = fileData.byteLength === 0 ?\n",
              "          100 :\n",
              "          Math.round((position / fileData.byteLength) * 100);\n",
              "      percent.textContent = `${percentDone}% done`;\n",
              "\n",
              "    } while (position < fileData.byteLength);\n",
              "  }\n",
              "\n",
              "  // All done.\n",
              "  yield {\n",
              "    response: {\n",
              "      action: 'complete',\n",
              "    }\n",
              "  };\n",
              "}\n",
              "\n",
              "scope.google = scope.google || {};\n",
              "scope.google.colab = scope.google.colab || {};\n",
              "scope.google.colab._files = {\n",
              "  _uploadFiles,\n",
              "  _uploadFilesContinue,\n",
              "};\n",
              "})(self);\n",
              "</script> "
            ]
          },
          "metadata": {}
        },
        {
          "output_type": "stream",
          "name": "stdout",
          "text": [
            "Saving Act004_Python_S3.png to Act004_Python_S3.png\n"
          ]
        }
      ]
    },
    {
      "cell_type": "code",
      "source": [
        "from IPython.display import Image, display\n",
        "\n",
        "# Mostrar la imagen en Colab\n",
        "display(Image(filename='Act004_Python_S3.png'))"
      ],
      "metadata": {
        "colab": {
          "base_uri": "https://localhost:8080/",
          "height": 454
        },
        "id": "Q-Os45BAmajN",
        "outputId": "babc5e6d-5b34-4f80-d2a5-4c0001c52a8a"
      },
      "execution_count": null,
      "outputs": [
        {
          "output_type": "display_data",
          "data": {
            "image/png": "[encoded data removed]",
            "text/plain": [
              "<IPython.core.display.Image object>"
            ]
          },
          "metadata": {}
        }
      ]
    },
    {
      "cell_type": "code",
      "source": [
        "paises = (\"Perú\",\"Colombia\",\"Ecuador\",\"Chile\",\"Argentina\",\"Brasil\",\"Venezuela\",\"Uruguay\",\"Bolivia\",\"Paraguay\")"
      ],
      "metadata": {
        "id": "gM9m2ykdmqd8"
      },
      "execution_count": null,
      "outputs": []
    },
    {
      "cell_type": "code",
      "source": [
        "print(f\"La tupla original de paises es \\n{paises}\")\n",
        "print(f\"\\nLa primera selección de la tupla paises es \\n{paises[1:]}\") # Desde el índice 1 al final\n",
        "print(f\"\\nLa segunda selección de la tupla paises es \\n{paises[1::2]}\") # Desde el índice 1 al final con saltos de 2 en 2"
      ],
      "metadata": {
        "colab": {
          "base_uri": "https://localhost:8080/"
        },
        "id": "5UpZKlcWm6zP",
        "outputId": "0ea1aff4-d310-4c10-f564-b596e0221186"
      },
      "execution_count": null,
      "outputs": [
        {
          "output_type": "stream",
          "name": "stdout",
          "text": [
            "La tupla original de paises es \n",
            "('Perú', 'Colombia', 'Ecuador', 'Chile', 'Argentina', 'Brasil', 'Venezuela', 'Uruguay', 'Bolivia', 'Paraguay')\n",
            "\n",
            "La primera selección de la tupla paises es \n",
            "('Colombia', 'Ecuador', 'Chile', 'Argentina', 'Brasil', 'Venezuela', 'Uruguay', 'Bolivia', 'Paraguay')\n",
            "\n",
            "La segunda selección de la tupla paises es \n",
            "('Colombia', 'Chile', 'Brasil', 'Uruguay', 'Paraguay')\n"
          ]
        }
      ]
    },
    {
      "cell_type": "code",
      "source": [
        "print(f\"\\nEl segundo país de la segunda selección de la tupla paises es \\n{paises[1::2][1]}\")"
      ],
      "metadata": {
        "colab": {
          "base_uri": "https://localhost:8080/"
        },
        "id": "GjpO7XuYnU6B",
        "outputId": "c70e8a93-64d7-4c28-bbd0-90c6bad782da"
      },
      "execution_count": null,
      "outputs": [
        {
          "output_type": "stream",
          "name": "stdout",
          "text": [
            "\n",
            "El segundo país de la segunda selección de la tupla paises es \n",
            "Chile\n"
          ]
        }
      ]
    },
    {
      "cell_type": "markdown",
      "source": [
        "## Desempaquetado"
      ],
      "metadata": {
        "id": "90beMxfqovaa"
      }
    },
    {
      "cell_type": "code",
      "source": [
        "var_1, var_2 = \"UTEC\",\"UPC\" # Desempaquetado de dos cadenas de caracteres en dos variables (var_1,var_2)"
      ],
      "metadata": {
        "id": "py4oDOQronuA"
      },
      "execution_count": null,
      "outputs": []
    },
    {
      "cell_type": "code",
      "source": [
        "print(f\"El valor de var_1 es {var_1}\")\n",
        "print(f\"El valor de var_2 es {var_2}\")"
      ],
      "metadata": {
        "colab": {
          "base_uri": "https://localhost:8080/"
        },
        "id": "jzXde_wyo6mi",
        "outputId": "74ea868b-8f64-4cc9-9b01-e2780c815ded"
      },
      "execution_count": null,
      "outputs": [
        {
          "output_type": "stream",
          "name": "stdout",
          "text": [
            "El valor de var_1 es UTEC\n",
            "El valor de var_2 es UPC\n"
          ]
        }
      ]
    },
    {
      "cell_type": "code",
      "source": [
        "t_vocales = (\"a\", \"e\", \"i\", \"o\", \"u\")\n",
        "print(f\"La tupla vocales es {t_vocales}\")"
      ],
      "metadata": {
        "colab": {
          "base_uri": "https://localhost:8080/"
        },
        "id": "OnR3rrRvpBMJ",
        "outputId": "03d43153-6ebe-4430-b840-5e18770d59e3"
      },
      "execution_count": null,
      "outputs": [
        {
          "output_type": "stream",
          "name": "stdout",
          "text": [
            "La tupla vocales es ('a', 'e', 'i', 'o', 'u')\n"
          ]
        }
      ]
    },
    {
      "cell_type": "code",
      "source": [
        "print(f\"La selección de los primeros tres elementos es {t_vocales[0:3]}\")"
      ],
      "metadata": {
        "colab": {
          "base_uri": "https://localhost:8080/"
        },
        "id": "7oXysCaZpVl-",
        "outputId": "34bfd127-57b9-45fe-a993-adf1fc78cf9b"
      },
      "execution_count": null,
      "outputs": [
        {
          "output_type": "stream",
          "name": "stdout",
          "text": [
            "La selección de los primeros tres elementos es ('a', 'e', 'i')\n"
          ]
        }
      ]
    },
    {
      "cell_type": "code",
      "source": [
        "x, y, z = t_vocales[0:3] # Desempaquetar los elementos de la tupla en 3 variables"
      ],
      "metadata": {
        "id": "yygRS0qvqB9l"
      },
      "execution_count": null,
      "outputs": []
    },
    {
      "cell_type": "code",
      "source": [
        "%whos"
      ],
      "metadata": {
        "colab": {
          "base_uri": "https://localhost:8080/"
        },
        "id": "RZSdQdgcqLbF",
        "outputId": "a48b9c59-dee3-469d-df2e-4739a9aa6338"
      },
      "execution_count": null,
      "outputs": [
        {
          "output_type": "stream",
          "name": "stdout",
          "text": [
            "Variable          Type     Data/Info\n",
            "------------------------------------\n",
            "elemento          str      b\n",
            "i                 str      f\n",
            "lista_filtrados   list     n=5\n",
            "lista_x           list     n=7\n",
            "lista_x_n         list     n=6\n",
            "numeros           list     n=7\n",
            "numeros_x2        list     n=7\n",
            "paises            tuple    n=10\n",
            "t_vocales         tuple    n=5\n",
            "tupla_0           tuple    n=0\n",
            "tupla_1           tuple    n=1\n",
            "tupla_2           tuple    n=7\n",
            "tupla_3           tuple    n=4\n",
            "tupla_4           tuple    n=10\n",
            "var_1             str      UTEC\n",
            "var_2             str      UPC\n",
            "x                 str      a\n",
            "y                 str      e\n",
            "z                 str      i\n"
          ]
        }
      ]
    },
    {
      "cell_type": "code",
      "source": [
        "print(f\"El primer elemento de la tupla vocales es {x}.\")\n",
        "print(f\"El segundo elemento de la tupla vocales es {y}.\")\n",
        "print(f\"El tercer elemento de la tupla vocales es {z}.\")"
      ],
      "metadata": {
        "colab": {
          "base_uri": "https://localhost:8080/"
        },
        "id": "R1IwLShhqNaP",
        "outputId": "70c28dd6-b20d-475d-a9e0-7895acd8e692"
      },
      "execution_count": null,
      "outputs": [
        {
          "output_type": "stream",
          "name": "stdout",
          "text": [
            "El primer elemento de la tupla vocales es a.\n",
            "El segundo elemento de la tupla vocales es e.\n",
            "El tercer elemento de la tupla vocales es i.\n"
          ]
        }
      ]
    },
    {
      "cell_type": "code",
      "source": [
        "t_vocales[0] = \"A\" # Tuplas son inmutables"
      ],
      "metadata": {
        "colab": {
          "base_uri": "https://localhost:8080/",
          "height": 144
        },
        "id": "NNXZ16M5qfIv",
        "outputId": "01fd09d0-45f7-4b92-dda9-f766f2ab53e8"
      },
      "execution_count": null,
      "outputs": [
        {
          "output_type": "error",
          "ename": "TypeError",
          "evalue": "'tuple' object does not support item assignment",
          "traceback": [
            "\u001b[0;31m---------------------------------------------------------------------------\u001b[0m",
            "\u001b[0;31mTypeError\u001b[0m                                 Traceback (most recent call last)",
            "\u001b[0;32m<ipython-input-65-a3696ca1e27c>\u001b[0m in \u001b[0;36m<cell line: 1>\u001b[0;34m()\u001b[0m\n\u001b[0;32m----> 1\u001b[0;31m \u001b[0mt_vocales\u001b[0m\u001b[0;34m[\u001b[0m\u001b[0;36m0\u001b[0m\u001b[0;34m]\u001b[0m \u001b[0;34m=\u001b[0m \u001b[0;34m\"A\"\u001b[0m\u001b[0;34m\u001b[0m\u001b[0;34m\u001b[0m\u001b[0m\n\u001b[0m",
            "\u001b[0;31mTypeError\u001b[0m: 'tuple' object does not support item assignment"
          ]
        }
      ]
    },
    {
      "cell_type": "markdown",
      "source": [
        "## Recorrido de una tupla con un bucle"
      ],
      "metadata": {
        "id": "elnTuLisrP5w"
      }
    },
    {
      "cell_type": "code",
      "source": [
        "for i in paises:\n",
        "  print(i)\n",
        "print(\"Fin\")"
      ],
      "metadata": {
        "colab": {
          "base_uri": "https://localhost:8080/"
        },
        "id": "XAelNq2gq_T5",
        "outputId": "d53adef4-5eae-4537-e027-7dc08d71373b"
      },
      "execution_count": null,
      "outputs": [
        {
          "output_type": "stream",
          "name": "stdout",
          "text": [
            "Perú\n",
            "Colombia\n",
            "Ecuador\n",
            "Chile\n",
            "Argentina\n",
            "Brasil\n",
            "Venezuela\n",
            "Uruguay\n",
            "Bolivia\n",
            "Paraguay\n",
            "Fin\n"
          ]
        }
      ]
    },
    {
      "cell_type": "markdown",
      "source": [
        "## Desempaquetado de tuplas con FOR"
      ],
      "metadata": {
        "id": "bYvov9PCrwZf"
      }
    },
    {
      "cell_type": "code",
      "source": [
        "t_prod = ((\"A0001\",\"manzana\",3.0),(\"A0002\",\"aceite\",7.5))"
      ],
      "metadata": {
        "id": "ZBKicQLJre0p"
      },
      "execution_count": null,
      "outputs": []
    },
    {
      "cell_type": "code",
      "source": [
        "print(f\"La tupla de productos es \\n{t_prod}\")"
      ],
      "metadata": {
        "colab": {
          "base_uri": "https://localhost:8080/"
        },
        "id": "N0IHEobWsEkJ",
        "outputId": "f482191c-f4e2-45dc-bbac-bce973a5bbe0"
      },
      "execution_count": null,
      "outputs": [
        {
          "output_type": "stream",
          "name": "stdout",
          "text": [
            "La tupla de productos es \n",
            "(('A0001', 'manzana', 3.0), ('A0002', 'aceite', 7.5))\n"
          ]
        }
      ]
    },
    {
      "cell_type": "code",
      "source": [
        "for cod,prod,pre in t_prod:\n",
        "  print(f\"El producto {prod} con código {cod} tiene el precio vigente en S/.{pre}\")"
      ],
      "metadata": {
        "colab": {
          "base_uri": "https://localhost:8080/"
        },
        "id": "rZt_NLthsI1k",
        "outputId": "09e95522-e37f-405d-fc6e-841c0f0d09d1"
      },
      "execution_count": null,
      "outputs": [
        {
          "output_type": "stream",
          "name": "stdout",
          "text": [
            "El producto manzana con código A0001 tiene el precio vigente en S/.3.0\n",
            "El producto aceite con código A0002 tiene el precio vigente en S/.7.5\n"
          ]
        }
      ]
    },
    {
      "cell_type": "markdown",
      "source": [
        "## Función tuple"
      ],
      "metadata": {
        "id": "GKm73_I7supL"
      }
    },
    {
      "cell_type": "code",
      "source": [
        "lista_ = list(range(10)) # Función list me permite crear listas"
      ],
      "metadata": {
        "id": "FqYvb0BestuV"
      },
      "execution_count": null,
      "outputs": []
    },
    {
      "cell_type": "code",
      "source": [
        "print(f\"La lista {lista_} es del tipo {type(lista_)}\")"
      ],
      "metadata": {
        "colab": {
          "base_uri": "https://localhost:8080/"
        },
        "id": "-9Dcr5ursiYC",
        "outputId": "5a50cd26-51c6-48f2-dde8-42ea2f624726"
      },
      "execution_count": null,
      "outputs": [
        {
          "output_type": "stream",
          "name": "stdout",
          "text": [
            "La lista [0, 1, 2, 3, 4, 5, 6, 7, 8, 9] es del tipo <class 'list'>\n"
          ]
        }
      ]
    },
    {
      "cell_type": "code",
      "source": [
        "tupla_ = tuple(lista_) # Función tuple me permite crear tuplas\n",
        "print(f\"La tupla {tupla_} es del tipo {type(tupla_)}\")"
      ],
      "metadata": {
        "colab": {
          "base_uri": "https://localhost:8080/"
        },
        "id": "p-5jW-BttDEa",
        "outputId": "8f33f1ef-b9c6-44bd-dcab-13338234c35f"
      },
      "execution_count": null,
      "outputs": [
        {
          "output_type": "stream",
          "name": "stdout",
          "text": [
            "La tupla (0, 1, 2, 3, 4, 5, 6, 7, 8, 9) es del tipo <class 'tuple'>\n"
          ]
        }
      ]
    },
    {
      "cell_type": "code",
      "source": [
        "tuple(\"David\")"
      ],
      "metadata": {
        "colab": {
          "base_uri": "https://localhost:8080/"
        },
        "id": "PCrzJ3y8tXrs",
        "outputId": "014851ba-bd0f-4328-9e95-e491d2ca9758"
      },
      "execution_count": null,
      "outputs": [
        {
          "output_type": "execute_result",
          "data": {
            "text/plain": [
              "('D', 'a', 'v', 'i', 'd')"
            ]
          },
          "metadata": {},
          "execution_count": 73
        }
      ]
    },
    {
      "cell_type": "markdown",
      "source": [
        "# Actividades complementarias"
      ],
      "metadata": {
        "id": "7L8IkexPGilx"
      }
    },
    {
      "cell_type": "markdown",
      "source": [
        "## Pregunta 1"
      ],
      "metadata": {
        "id": "IxJiNZUZGyZY"
      }
    },
    {
      "cell_type": "code",
      "source": [
        "palabra = input(\"Ingrese una palabra: \")\n",
        "t_palabra = tuple(palabra)"
      ],
      "metadata": {
        "colab": {
          "base_uri": "https://localhost:8080/"
        },
        "id": "7PvpDK5TH2CJ",
        "outputId": "8a9bc44e-288f-4dc3-a06c-8b20e4b0e4b1"
      },
      "execution_count": 1,
      "outputs": [
        {
          "name": "stdout",
          "output_type": "stream",
          "text": [
            "Ingrese una palabra: Universidad\n"
          ]
        }
      ]
    },
    {
      "cell_type": "code",
      "source": [
        "print(f\"La palabra ingresada es {palabra}\")\n",
        "print(f\"Los elementos de la tupla {palabra}\")\n",
        "for i in t_palabra:\n",
        "  print(i)"
      ],
      "metadata": {
        "colab": {
          "base_uri": "https://localhost:8080/"
        },
        "id": "WmcRX3TlINaP",
        "outputId": "4f82d64f-554b-4e10-f53c-c4e1f566f410"
      },
      "execution_count": 2,
      "outputs": [
        {
          "output_type": "stream",
          "name": "stdout",
          "text": [
            "La palabra ingresada es Universidad\n",
            "Los elementos de la tupla Universidad\n",
            "U\n",
            "n\n",
            "i\n",
            "v\n",
            "e\n",
            "r\n",
            "s\n",
            "i\n",
            "d\n",
            "a\n",
            "d\n"
          ]
        }
      ]
    },
    {
      "cell_type": "code",
      "source": [
        "print(f\"Los elementos de la tupla {t_palabra}\")"
      ],
      "metadata": {
        "colab": {
          "base_uri": "https://localhost:8080/"
        },
        "id": "lwduO3aUI4vQ",
        "outputId": "70352b1c-9613-4910-d864-8fa935154f7c"
      },
      "execution_count": 3,
      "outputs": [
        {
          "output_type": "stream",
          "name": "stdout",
          "text": [
            "Los elementos de la tupla ('U', 'n', 'i', 'v', 'e', 'r', 's', 'i', 'd', 'a', 'd')\n"
          ]
        }
      ]
    },
    {
      "cell_type": "code",
      "source": [
        "palabra"
      ],
      "metadata": {
        "colab": {
          "base_uri": "https://localhost:8080/",
          "height": 35
        },
        "id": "9o2aEQflKD9-",
        "outputId": "4b9b74da-fb65-46ce-c651-00dbbdcc1abb"
      },
      "execution_count": 4,
      "outputs": [
        {
          "output_type": "execute_result",
          "data": {
            "text/plain": [
              "'Universidad'"
            ],
            "application/vnd.google.colaboratory.intrinsic+json": {
              "type": "string"
            }
          },
          "metadata": {},
          "execution_count": 4
        }
      ]
    },
    {
      "cell_type": "code",
      "source": [
        "tupla_x = (palabra,)\n",
        "type(tupla_x)"
      ],
      "metadata": {
        "colab": {
          "base_uri": "https://localhost:8080/"
        },
        "id": "JOa0345KKFzL",
        "outputId": "c9fb1faa-71ba-40cf-de10-39e2ffe10a05"
      },
      "execution_count": 5,
      "outputs": [
        {
          "output_type": "execute_result",
          "data": {
            "text/plain": [
              "tuple"
            ]
          },
          "metadata": {},
          "execution_count": 5
        }
      ]
    },
    {
      "cell_type": "code",
      "source": [
        "tupla_x"
      ],
      "metadata": {
        "colab": {
          "base_uri": "https://localhost:8080/"
        },
        "id": "XjJ2VnvNKNsT",
        "outputId": "b49c7ce4-7d92-4b40-ec13-aaa976537879"
      },
      "execution_count": 6,
      "outputs": [
        {
          "output_type": "execute_result",
          "data": {
            "text/plain": [
              "('Universidad',)"
            ]
          },
          "metadata": {},
          "execution_count": 6
        }
      ]
    },
    {
      "cell_type": "markdown",
      "source": [
        "## Pregunta 2"
      ],
      "metadata": {
        "id": "hHZj-kfdHw5Z"
      }
    },
    {
      "cell_type": "code",
      "source": [
        "# Tupla de marcas\n",
        "t_marcas = (\"Nike\",\"Puma\",\"Adidas\")\n",
        "# Lista de colores\n",
        "l_colores = [\"rojo\",\"verde\",\"azul\"]"
      ],
      "metadata": {
        "id": "PLSb40OGJ_rK"
      },
      "execution_count": 7,
      "outputs": []
    },
    {
      "cell_type": "code",
      "source": [
        "print(f\"La tupla de marcas es \\n{t_marcas}\")\n",
        "print(f\"La lista de colores es \\n{l_colores}\")"
      ],
      "metadata": {
        "colab": {
          "base_uri": "https://localhost:8080/"
        },
        "id": "9gbdpjz8KzCE",
        "outputId": "2c947894-c711-4b64-b786-81e55116ae8a"
      },
      "execution_count": 8,
      "outputs": [
        {
          "output_type": "stream",
          "name": "stdout",
          "text": [
            "La tupla de marcas es \n",
            "('Nike', 'Puma', 'Adidas')\n",
            "La lista de colores es \n",
            "['rojo', 'verde', 'azul']\n"
          ]
        }
      ]
    },
    {
      "cell_type": "code",
      "source": [
        "l_act = list(t_marcas) + l_colores\n",
        "print(f\"La lista de marcas y colores es \\n{l_act}\")"
      ],
      "metadata": {
        "colab": {
          "base_uri": "https://localhost:8080/"
        },
        "id": "lpMRpRnGLFam",
        "outputId": "21a723cb-8e6f-41bf-a4b3-8a55bbf6f896"
      },
      "execution_count": 9,
      "outputs": [
        {
          "output_type": "stream",
          "name": "stdout",
          "text": [
            "La lista de marcas y colores es \n",
            "['Nike', 'Puma', 'Adidas', 'rojo', 'verde', 'azul']\n"
          ]
        }
      ]
    },
    {
      "cell_type": "code",
      "source": [
        "t_act = t_marcas + tuple(l_colores)\n",
        "print(f\"La tupla de marcas y colores es \\n{t_act}\")"
      ],
      "metadata": {
        "colab": {
          "base_uri": "https://localhost:8080/"
        },
        "id": "QJ6rq0ltLYls",
        "outputId": "7b054a53-c0f3-447a-da86-3d54314175b1"
      },
      "execution_count": 10,
      "outputs": [
        {
          "output_type": "stream",
          "name": "stdout",
          "text": [
            "La tupla de marcas y colores es \n",
            "('Nike', 'Puma', 'Adidas', 'rojo', 'verde', 'azul')\n"
          ]
        }
      ]
    },
    {
      "cell_type": "code",
      "source": [
        "type(l_act) # Lista concatenada"
      ],
      "metadata": {
        "colab": {
          "base_uri": "https://localhost:8080/"
        },
        "id": "xHcIPan7NR2S",
        "outputId": "a1ecdb47-bdc9-40d8-cfbd-02c1c1e598f6"
      },
      "execution_count": 11,
      "outputs": [
        {
          "output_type": "execute_result",
          "data": {
            "text/plain": [
              "list"
            ]
          },
          "metadata": {},
          "execution_count": 11
        }
      ]
    },
    {
      "cell_type": "code",
      "source": [
        "l_act"
      ],
      "metadata": {
        "colab": {
          "base_uri": "https://localhost:8080/"
        },
        "id": "hJx6spAdNt1Q",
        "outputId": "38398415-1035-4481-8798-15f2d5ca3b8c"
      },
      "execution_count": 12,
      "outputs": [
        {
          "output_type": "execute_result",
          "data": {
            "text/plain": [
              "['Nike', 'Puma', 'Adidas', 'rojo', 'verde', 'azul']"
            ]
          },
          "metadata": {},
          "execution_count": 12
        }
      ]
    },
    {
      "cell_type": "code",
      "source": [
        "# Las listas se pueden modificar\n",
        "l_act[0] = \"NIKE\" # Modificando el primer elemento de la lista\n",
        "l_act"
      ],
      "metadata": {
        "colab": {
          "base_uri": "https://localhost:8080/"
        },
        "id": "eMpM_KRzNbi2",
        "outputId": "63a2da78-f49a-43ab-b1cb-2fa0e0b19a62"
      },
      "execution_count": 13,
      "outputs": [
        {
          "output_type": "execute_result",
          "data": {
            "text/plain": [
              "['NIKE', 'Puma', 'Adidas', 'rojo', 'verde', 'azul']"
            ]
          },
          "metadata": {},
          "execution_count": 13
        }
      ]
    },
    {
      "cell_type": "code",
      "source": [
        "type(t_act)"
      ],
      "metadata": {
        "colab": {
          "base_uri": "https://localhost:8080/"
        },
        "id": "bKN5_11MN3BS",
        "outputId": "08e15ef3-7eb8-41c5-eab0-0422f9b7b8c7"
      },
      "execution_count": 14,
      "outputs": [
        {
          "output_type": "execute_result",
          "data": {
            "text/plain": [
              "tuple"
            ]
          },
          "metadata": {},
          "execution_count": 14
        }
      ]
    },
    {
      "cell_type": "code",
      "source": [
        "t_act # Elementos de la tupla"
      ],
      "metadata": {
        "colab": {
          "base_uri": "https://localhost:8080/"
        },
        "id": "gn5QscmvN0GJ",
        "outputId": "8b53cfbc-2250-4731-9c86-0f5207f789aa"
      },
      "execution_count": 16,
      "outputs": [
        {
          "output_type": "execute_result",
          "data": {
            "text/plain": [
              "('Nike', 'Puma', 'Adidas', 'rojo', 'verde', 'azul')"
            ]
          },
          "metadata": {},
          "execution_count": 16
        }
      ]
    },
    {
      "cell_type": "code",
      "source": [
        "# Tuplas no se modifican (inmutables)\n",
        "t_act[0] = \"NIKE\""
      ],
      "metadata": {
        "colab": {
          "base_uri": "https://localhost:8080/",
          "height": 158
        },
        "id": "qh7XmIgPN8vs",
        "outputId": "5babc30b-bd59-46ed-d61c-abc3b2cd3a6f"
      },
      "execution_count": 17,
      "outputs": [
        {
          "output_type": "error",
          "ename": "TypeError",
          "evalue": "'tuple' object does not support item assignment",
          "traceback": [
            "\u001b[0;31m---------------------------------------------------------------------------\u001b[0m",
            "\u001b[0;31mTypeError\u001b[0m                                 Traceback (most recent call last)",
            "\u001b[0;32m<ipython-input-17-5100458c9639>\u001b[0m in \u001b[0;36m<cell line: 2>\u001b[0;34m()\u001b[0m\n\u001b[1;32m      1\u001b[0m \u001b[0;31m# Tuplas no se modifican (inmutables)\u001b[0m\u001b[0;34m\u001b[0m\u001b[0;34m\u001b[0m\u001b[0m\n\u001b[0;32m----> 2\u001b[0;31m \u001b[0mt_act\u001b[0m\u001b[0;34m[\u001b[0m\u001b[0;36m0\u001b[0m\u001b[0;34m]\u001b[0m \u001b[0;34m=\u001b[0m \u001b[0;34m\"NIKE\"\u001b[0m\u001b[0;34m\u001b[0m\u001b[0;34m\u001b[0m\u001b[0m\n\u001b[0m",
            "\u001b[0;31mTypeError\u001b[0m: 'tuple' object does not support item assignment"
          ]
        }
      ]
    },
    {
      "cell_type": "markdown",
      "source": [
        "## Pregunta 3"
      ],
      "metadata": {
        "id": "tzFhHZalHzrF"
      }
    },
    {
      "cell_type": "code",
      "source": [
        "numeros = input(\"Ingrese los números: \")"
      ],
      "metadata": {
        "id": "v9nTZtBrtvMB",
        "colab": {
          "base_uri": "https://localhost:8080/"
        },
        "outputId": "d25c343b-14d3-44ce-ea53-2950f9d42e95"
      },
      "execution_count": 38,
      "outputs": [
        {
          "name": "stdout",
          "output_type": "stream",
          "text": [
            "Ingrese los números: 1 2 3 4 5 6 7 8 9 10\n"
          ]
        }
      ]
    },
    {
      "cell_type": "code",
      "source": [
        "print(f\"El elemento ingresado es \\n{numeros}\")"
      ],
      "metadata": {
        "colab": {
          "base_uri": "https://localhost:8080/"
        },
        "id": "-TcpHtnuOkjE",
        "outputId": "76d7e351-b4b2-4fa7-bf1a-f444bf913b87"
      },
      "execution_count": 39,
      "outputs": [
        {
          "output_type": "stream",
          "name": "stdout",
          "text": [
            "El elemento ingresado es \n",
            "1 2 3 4 5 6 7 8 9 10\n"
          ]
        }
      ]
    },
    {
      "cell_type": "code",
      "source": [
        "type(numeros)"
      ],
      "metadata": {
        "colab": {
          "base_uri": "https://localhost:8080/"
        },
        "id": "AID2NKp6OsZs",
        "outputId": "10852d7e-5ee0-43c7-de42-8644c3dac31a"
      },
      "execution_count": 40,
      "outputs": [
        {
          "output_type": "execute_result",
          "data": {
            "text/plain": [
              "str"
            ]
          },
          "metadata": {},
          "execution_count": 40
        }
      ]
    },
    {
      "cell_type": "code",
      "source": [
        "l_numeros = numeros.split()\n",
        "print(f\"El objeto que se obtiene al aplicar .split() es \\n{l_numeros}\")"
      ],
      "metadata": {
        "colab": {
          "base_uri": "https://localhost:8080/"
        },
        "id": "9aS95O4rO0Ci",
        "outputId": "0e347a69-2e1c-472b-b9f3-bbe09ee7dd87"
      },
      "execution_count": 42,
      "outputs": [
        {
          "output_type": "stream",
          "name": "stdout",
          "text": [
            "El objeto que se obtiene al aplicar .split() es \n",
            "['1', '2', '3', '4', '5', '6', '7', '8', '9', '10']\n"
          ]
        }
      ]
    },
    {
      "cell_type": "code",
      "source": [
        "type(l_numeros)"
      ],
      "metadata": {
        "colab": {
          "base_uri": "https://localhost:8080/"
        },
        "id": "jj09mXAoO8rT",
        "outputId": "f2924677-1d2c-4ab2-f58e-3fa07599c046"
      },
      "execution_count": 43,
      "outputs": [
        {
          "output_type": "execute_result",
          "data": {
            "text/plain": [
              "list"
            ]
          },
          "metadata": {},
          "execution_count": 43
        }
      ]
    },
    {
      "cell_type": "code",
      "source": [
        "l_numeros2 = [int(i) for i in numeros.split()]\n",
        "print(f\"La lista de números ingresados es: \\n{l_numeros2}\")"
      ],
      "metadata": {
        "colab": {
          "base_uri": "https://localhost:8080/"
        },
        "id": "OFxv7-10PMvD",
        "outputId": "97d3cdfa-4352-4979-e66c-0cbd3e7756ef"
      },
      "execution_count": 44,
      "outputs": [
        {
          "output_type": "stream",
          "name": "stdout",
          "text": [
            "La lista de números ingresados es: \n",
            "[1, 2, 3, 4, 5, 6, 7, 8, 9, 10]\n"
          ]
        }
      ]
    },
    {
      "cell_type": "code",
      "source": [
        "print(f\"El valor mínimo de la lista es {min(l_numeros2)}\")\n",
        "print(f\"El valor máximo de la lista es {max(l_numeros2)}\")\n",
        "print(f\"El promedio de la lista es {sum(l_numeros2)/len(l_numeros2)}\")"
      ],
      "metadata": {
        "colab": {
          "base_uri": "https://localhost:8080/"
        },
        "id": "aDfgae-8Py4m",
        "outputId": "d1b1de1a-1818-4496-a438-0c87f7a2d4ac"
      },
      "execution_count": 45,
      "outputs": [
        {
          "output_type": "stream",
          "name": "stdout",
          "text": [
            "El valor mínimo de la lista es 1\n",
            "El valor máximo de la lista es 10\n",
            "El promedio de la lista es 5.5\n"
          ]
        }
      ]
    },
    {
      "cell_type": "code",
      "source": [
        "l_numeros2 = [int(i) for i in numeros.split()]\n",
        "print(f\"La lista de números ingresados es: \\n{l_numeros2}\")"
      ],
      "metadata": {
        "id": "DAHSVSu9QDDv",
        "outputId": "4046f14c-7ce4-4d33-b4c9-dcd6be1ad4a7",
        "colab": {
          "base_uri": "https://localhost:8080/"
        }
      },
      "execution_count": 47,
      "outputs": [
        {
          "output_type": "stream",
          "name": "stdout",
          "text": [
            "La lista de números ingresados es: \n",
            "[1, 2, 3, 4, 5, 6, 7, 8, 9, 10]\n"
          ]
        }
      ]
    }
  ]
}