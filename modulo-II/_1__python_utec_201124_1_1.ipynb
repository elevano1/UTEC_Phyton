{
  "nbformat": 4,
  "nbformat_minor": 0,
  "metadata": {
    "colab": {
      "provenance": [],
      "include_colab_link": true
    },
    "kernelspec": {
      "name": "python3",
      "display_name": "Python 3"
    },
    "language_info": {
      "name": "python"
    }
  },
  "cells": [
    {
      "cell_type": "markdown",
      "metadata": {
        "id": "view-in-github",
        "colab_type": "text"
      },
      "source": [
        "<a href=\"https://colab.research.google.com/github/elevano1/UTEC_Phyton/blob/main/modulo-II/_1__python_utec_201124_1_1.ipynb\" target=\"_parent\"><img src=\"https://colab.research.google.com/assets/colab-badge.svg\" alt=\"Open In Colab\"/></a>"
      ]
    },
    {
      "cell_type": "markdown",
      "source": [
        "# Listas"
      ],
      "metadata": {
        "id": "kgxLa1nnL9mg"
      }
    },
    {
      "cell_type": "markdown",
      "source": [
        "## Crear listas e identificar los tipos de listas"
      ],
      "metadata": {
        "id": "iVvjZRL9MIzV"
      }
    },
    {
      "cell_type": "code",
      "execution_count": 1,
      "metadata": {
        "id": "016n8dvMLwDu"
      },
      "outputs": [],
      "source": [
        "# Listas homogéneas\n",
        "\n",
        "numeros = [1,2,3,4]"
      ]
    },
    {
      "cell_type": "code",
      "source": [
        "letras = [\"a\",\"b\",\"c\",\"d\",\"e\",\"f\"]"
      ],
      "metadata": {
        "id": "eRayCmfAMjF3"
      },
      "execution_count": 2,
      "outputs": []
    },
    {
      "cell_type": "code",
      "source": [
        "print(f\"El objeto {numeros} es del tipo {type(numeros)}\")"
      ],
      "metadata": {
        "colab": {
          "base_uri": "https://localhost:8080/"
        },
        "id": "wgqTrakuMxNt",
        "outputId": "cfcc1225-dbc3-45d5-8823-ac8d72f69221"
      },
      "execution_count": 3,
      "outputs": [
        {
          "output_type": "stream",
          "name": "stdout",
          "text": [
            "El objeto [1, 2, 3, 4] es del tipo <class 'list'>\n"
          ]
        }
      ]
    },
    {
      "cell_type": "code",
      "source": [
        "print(f\"El objeto {letras} es del tipo {type(letras)}\")"
      ],
      "metadata": {
        "colab": {
          "base_uri": "https://localhost:8080/"
        },
        "id": "Ud5-cyAJNL-L",
        "outputId": "004f1820-ee0a-4425-817e-9a96a29dba69"
      },
      "execution_count": 4,
      "outputs": [
        {
          "output_type": "stream",
          "name": "stdout",
          "text": [
            "El objeto ['a', 'b', 'c', 'd', 'e', 'f'] es del tipo <class 'list'>\n"
          ]
        }
      ]
    },
    {
      "cell_type": "code",
      "source": [
        "# Listas heterogéneas\n",
        "\n",
        "datos = [4,\"Jorge\",-15.5,\"UTEC\",True]"
      ],
      "metadata": {
        "id": "lkuml3PNNTCE"
      },
      "execution_count": 5,
      "outputs": []
    },
    {
      "cell_type": "code",
      "source": [
        "print(f\"El objeto {datos} es del tipo {type(datos)}\")"
      ],
      "metadata": {
        "colab": {
          "base_uri": "https://localhost:8080/"
        },
        "id": "t5wncZYmN-bU",
        "outputId": "5e958289-3be5-4b92-d572-0fdc543b1414"
      },
      "execution_count": 6,
      "outputs": [
        {
          "output_type": "stream",
          "name": "stdout",
          "text": [
            "El objeto [4, 'Jorge', -15.5, 'UTEC', True] es del tipo <class 'list'>\n"
          ]
        }
      ]
    },
    {
      "cell_type": "code",
      "source": [
        "%whos"
      ],
      "metadata": {
        "colab": {
          "base_uri": "https://localhost:8080/"
        },
        "id": "JMzbT6veOAfK",
        "outputId": "7adbb7b9-af26-48c3-fea4-0f5e456e6ed6"
      },
      "execution_count": 7,
      "outputs": [
        {
          "output_type": "stream",
          "name": "stdout",
          "text": [
            "Variable   Type    Data/Info\n",
            "----------------------------\n",
            "datos      list    n=5\n",
            "letras     list    n=6\n",
            "numeros    list    n=4\n"
          ]
        }
      ]
    },
    {
      "cell_type": "markdown",
      "source": [
        "## Acceder a los elementos de las listas"
      ],
      "metadata": {
        "id": "QGyMD-ghOVnD"
      }
    },
    {
      "cell_type": "code",
      "source": [
        "print(f\"La lista {datos}\")"
      ],
      "metadata": {
        "colab": {
          "base_uri": "https://localhost:8080/"
        },
        "id": "_43JwrFKOLfS",
        "outputId": "73181f48-9d78-4fe3-ad72-9e5ffe3966e4"
      },
      "execution_count": 8,
      "outputs": [
        {
          "output_type": "stream",
          "name": "stdout",
          "text": [
            "La lista [4, 'Jorge', -15.5, 'UTEC', True]\n"
          ]
        }
      ]
    },
    {
      "cell_type": "code",
      "source": [
        "print(f\"El elemento ubicado en el índice 3 de la lista es {datos[3]}\")"
      ],
      "metadata": {
        "colab": {
          "base_uri": "https://localhost:8080/"
        },
        "id": "3h7zL-1AOmQm",
        "outputId": "6c04bc6c-d762-46bf-a26f-0351e384c09f"
      },
      "execution_count": 9,
      "outputs": [
        {
          "output_type": "stream",
          "name": "stdout",
          "text": [
            "El elemento ubicado en el índice 3 de la lista es UTEC\n"
          ]
        }
      ]
    },
    {
      "cell_type": "code",
      "source": [
        "print(f\"El elemento ubicado en el índice 4 de la lista es {datos[4]}\")"
      ],
      "metadata": {
        "colab": {
          "base_uri": "https://localhost:8080/"
        },
        "id": "AQJs4ry7PlAH",
        "outputId": "35b9b4e5-bcb1-4c8f-d018-07902ce08aae"
      },
      "execution_count": 10,
      "outputs": [
        {
          "output_type": "stream",
          "name": "stdout",
          "text": [
            "El elemento ubicado en el índice 4 de la lista es True\n"
          ]
        }
      ]
    },
    {
      "cell_type": "code",
      "source": [
        "print(f\"El último elemento de la lista es {datos[-1]}\")"
      ],
      "metadata": {
        "colab": {
          "base_uri": "https://localhost:8080/"
        },
        "id": "RudZOpWQQL--",
        "outputId": "bd2e3e81-f3e6-4bc7-a7fd-461f66d58d13"
      },
      "execution_count": 11,
      "outputs": [
        {
          "output_type": "stream",
          "name": "stdout",
          "text": [
            "El último elemento de la lista es True\n"
          ]
        }
      ]
    },
    {
      "cell_type": "code",
      "source": [
        "print(f\"Los primeros elementos de la lista son {datos[0:3]}\")"
      ],
      "metadata": {
        "colab": {
          "base_uri": "https://localhost:8080/"
        },
        "id": "9JRlM7BZQv-X",
        "outputId": "e42903e2-6aee-432a-e59a-6c8380bbcde0"
      },
      "execution_count": 12,
      "outputs": [
        {
          "output_type": "stream",
          "name": "stdout",
          "text": [
            "Los primeros elementos de la lista son [4, 'Jorge', -15.5]\n"
          ]
        }
      ]
    },
    {
      "cell_type": "code",
      "source": [
        "print(f\"Los primeros elementos de la lista son {datos[:3]}\")"
      ],
      "metadata": {
        "colab": {
          "base_uri": "https://localhost:8080/"
        },
        "id": "pcs4SirPRtbv",
        "outputId": "a2bc45ee-e068-431d-b821-dad617ddcaab"
      },
      "execution_count": 13,
      "outputs": [
        {
          "output_type": "stream",
          "name": "stdout",
          "text": [
            "Los primeros elementos de la lista son [4, 'Jorge', -15.5]\n"
          ]
        }
      ]
    },
    {
      "cell_type": "code",
      "source": [
        "# Mostrar todos los elementos de la lista letras\n",
        "# Mostrar el cuarto, quinto y sexto elemento de la lista letras"
      ],
      "metadata": {
        "id": "-GX1s7V4SDoy"
      },
      "execution_count": null,
      "outputs": []
    },
    {
      "cell_type": "code",
      "source": [
        "#Mostrar todos los elementos de la lista letras\n",
        "print(f\"Los elementos de la lista son:\\n {letras[:]}\")\n",
        "#Mostrar el cuarto, quinto y sexto elemento de la lista\n",
        "print(f\"Los elementos seleccionados de la lista son:\\n {letras[3:6]}\")"
      ],
      "metadata": {
        "colab": {
          "base_uri": "https://localhost:8080/"
        },
        "id": "m6yYK99iTJej",
        "outputId": "c8d18c64-ea34-4c6d-b5c3-ce40e2dd90d8"
      },
      "execution_count": 14,
      "outputs": [
        {
          "output_type": "stream",
          "name": "stdout",
          "text": [
            "Los elementos de la lista son:\n",
            " ['a', 'b', 'c', 'd', 'e', 'f']\n",
            "Los elementos seleccionados de la lista son:\n",
            " ['d', 'e', 'f']\n"
          ]
        }
      ]
    },
    {
      "cell_type": "code",
      "source": [
        "#Mostrar el cuarto, quinto y sexto elemento de la lista\n",
        "print(f\"Los elementos seleccionados de la lista son:\\n {letras[3:]}\")"
      ],
      "metadata": {
        "colab": {
          "base_uri": "https://localhost:8080/"
        },
        "id": "9tJgrTT_ThKu",
        "outputId": "fa5a50b5-8581-4c89-fb73-c0e11a787d93"
      },
      "execution_count": 15,
      "outputs": [
        {
          "output_type": "stream",
          "name": "stdout",
          "text": [
            "Los elementos seleccionados de la lista son:\n",
            " ['d', 'e', 'f']\n"
          ]
        }
      ]
    },
    {
      "cell_type": "code",
      "source": [
        "print(f\"Los elementos seleccionados de la lista son:\\n {letras[2:4]}\")"
      ],
      "metadata": {
        "colab": {
          "base_uri": "https://localhost:8080/"
        },
        "id": "pDvhWDJCWKPC",
        "outputId": "9e5e5332-a182-4f36-9b37-c4d7b619e0ac"
      },
      "execution_count": 16,
      "outputs": [
        {
          "output_type": "stream",
          "name": "stdout",
          "text": [
            "Los elementos seleccionados de la lista son:\n",
            " ['c', 'd']\n"
          ]
        }
      ]
    },
    {
      "cell_type": "markdown",
      "source": [
        "## Insertar elemenos en una lista"
      ],
      "metadata": {
        "id": "i1_S_JH3W03N"
      }
    },
    {
      "cell_type": "code",
      "source": [
        "pares = [0,2,4,6,8,10] # lista homogénea"
      ],
      "metadata": {
        "id": "N44yWifoWth-"
      },
      "execution_count": 17,
      "outputs": []
    },
    {
      "cell_type": "code",
      "source": [
        "type(pares)"
      ],
      "metadata": {
        "colab": {
          "base_uri": "https://localhost:8080/"
        },
        "id": "KX1qQun1XKL_",
        "outputId": "4f04ddb1-1d9d-43aa-ba8f-615ec812bd2a"
      },
      "execution_count": 18,
      "outputs": [
        {
          "output_type": "execute_result",
          "data": {
            "text/plain": [
              "list"
            ]
          },
          "metadata": {},
          "execution_count": 18
        }
      ]
    },
    {
      "cell_type": "code",
      "source": [
        "# Insertar un elemento al final de la lista\n",
        "pares.append(12)"
      ],
      "metadata": {
        "id": "v88EYqYIXLka"
      },
      "execution_count": 19,
      "outputs": []
    },
    {
      "cell_type": "code",
      "source": [
        "print(f\"La lista actualizada es \\n{pares}\")"
      ],
      "metadata": {
        "colab": {
          "base_uri": "https://localhost:8080/"
        },
        "id": "01KP1c38X1Xy",
        "outputId": "5f9ba018-3a9e-41f4-f40d-6e8661454a3d"
      },
      "execution_count": 20,
      "outputs": [
        {
          "output_type": "stream",
          "name": "stdout",
          "text": [
            "La lista actualizada es \n",
            "[0, 2, 4, 6, 8, 10, 12]\n"
          ]
        }
      ]
    },
    {
      "cell_type": "code",
      "source": [
        "pares.insert(1,100) # insertar elementos en un determinado índice"
      ],
      "metadata": {
        "id": "ubgAnikrYCV-"
      },
      "execution_count": 21,
      "outputs": []
    },
    {
      "cell_type": "code",
      "source": [
        "print(f\"La lista actualizada es \\n{pares}\")"
      ],
      "metadata": {
        "colab": {
          "base_uri": "https://localhost:8080/"
        },
        "id": "xf6wiYdpZMZL",
        "outputId": "096c573b-e2da-4c22-b78a-c8a48c932ef3"
      },
      "execution_count": 22,
      "outputs": [
        {
          "output_type": "stream",
          "name": "stdout",
          "text": [
            "La lista actualizada es \n",
            "[0, 100, 2, 4, 6, 8, 10, 12]\n"
          ]
        }
      ]
    },
    {
      "cell_type": "code",
      "source": [
        "print(f\"La lista letras tiene los siguientes elementos \\n{letras}\")"
      ],
      "metadata": {
        "colab": {
          "base_uri": "https://localhost:8080/"
        },
        "id": "L-iQbNAKZQGq",
        "outputId": "56e5cd9b-7784-48c7-8e69-325e7504c6ee"
      },
      "execution_count": 23,
      "outputs": [
        {
          "output_type": "stream",
          "name": "stdout",
          "text": [
            "La lista letras tiene los siguientes elementos \n",
            "['a', 'b', 'c', 'd', 'e', 'f']\n"
          ]
        }
      ]
    },
    {
      "cell_type": "code",
      "source": [
        "letras.insert(-1,\"AAA\")\n",
        "print(f\"La lista actualizada \\n{letras}\")"
      ],
      "metadata": {
        "colab": {
          "base_uri": "https://localhost:8080/"
        },
        "id": "YKrewjG-Zs6R",
        "outputId": "ee9c0ce8-009f-45f8-8c6a-3a9c0535c7e8"
      },
      "execution_count": 24,
      "outputs": [
        {
          "output_type": "stream",
          "name": "stdout",
          "text": [
            "La lista actualizada \n",
            "['a', 'b', 'c', 'd', 'e', 'AAA', 'f']\n"
          ]
        }
      ]
    },
    {
      "cell_type": "code",
      "source": [
        "letras.insert(9,\"X\")\n",
        "print(f\"La lista actualizada \\n{letras}\")"
      ],
      "metadata": {
        "colab": {
          "base_uri": "https://localhost:8080/"
        },
        "id": "8NtaR8uYamVy",
        "outputId": "257c41bb-913d-4b4b-f33d-20642a287c35"
      },
      "execution_count": 25,
      "outputs": [
        {
          "output_type": "stream",
          "name": "stdout",
          "text": [
            "La lista actualizada \n",
            "['a', 'b', 'c', 'd', 'e', 'AAA', 'f', 'X']\n"
          ]
        }
      ]
    },
    {
      "cell_type": "code",
      "source": [
        "letras[7]"
      ],
      "metadata": {
        "colab": {
          "base_uri": "https://localhost:8080/",
          "height": 35
        },
        "id": "IirG99rTbFMG",
        "outputId": "ccf20508-bf54-417d-85cc-56ac0c81ac6f"
      },
      "execution_count": 26,
      "outputs": [
        {
          "output_type": "execute_result",
          "data": {
            "text/plain": [
              "'X'"
            ],
            "application/vnd.google.colaboratory.intrinsic+json": {
              "type": "string"
            }
          },
          "metadata": {},
          "execution_count": 26
        }
      ]
    },
    {
      "cell_type": "markdown",
      "source": [
        "## Las listas son mutables"
      ],
      "metadata": {
        "id": "xe-j09dgfbgl"
      }
    },
    {
      "cell_type": "code",
      "source": [
        "print(f\"Los elementos de la lista letras son \\n{letras[:]}\")"
      ],
      "metadata": {
        "colab": {
          "base_uri": "https://localhost:8080/"
        },
        "id": "PhBEqiwQbckK",
        "outputId": "691cdf92-7f48-4ebc-dfde-8fadfcfe53a4"
      },
      "execution_count": 27,
      "outputs": [
        {
          "output_type": "stream",
          "name": "stdout",
          "text": [
            "Los elementos de la lista letras son \n",
            "['a', 'b', 'c', 'd', 'e', 'AAA', 'f', 'X']\n"
          ]
        }
      ]
    },
    {
      "cell_type": "code",
      "source": [
        "# Acceder a los primeros 3 elementos\n",
        "print(f\"Los primeros tres elementos de la lista letras son \\n{letras[:3]}\")"
      ],
      "metadata": {
        "colab": {
          "base_uri": "https://localhost:8080/"
        },
        "id": "UbbmZ19wfj5y",
        "outputId": "89e0d4e6-6fc0-45cd-de36-5b04a905cc21"
      },
      "execution_count": 28,
      "outputs": [
        {
          "output_type": "stream",
          "name": "stdout",
          "text": [
            "Los primeros tres elementos de la lista letras son \n",
            "['a', 'b', 'c']\n"
          ]
        }
      ]
    },
    {
      "cell_type": "code",
      "source": [
        "# Acceder a los primeros 3 elementos\n",
        "print(f\"Los primeros tres elementos de la lista letras son \\n{letras[0:3]}\")"
      ],
      "metadata": {
        "colab": {
          "base_uri": "https://localhost:8080/"
        },
        "id": "ABAp23aIgv7x",
        "outputId": "069c392b-bffc-4cf9-e515-adb55efd16cf"
      },
      "execution_count": 29,
      "outputs": [
        {
          "output_type": "stream",
          "name": "stdout",
          "text": [
            "Los primeros tres elementos de la lista letras son \n",
            "['a', 'b', 'c']\n"
          ]
        }
      ]
    },
    {
      "cell_type": "code",
      "source": [
        "letras[:3] = [\"A\",\"B\",\"C\"]\n",
        "print(f\"La lista actualizada es \\n{letras}\")"
      ],
      "metadata": {
        "colab": {
          "base_uri": "https://localhost:8080/"
        },
        "id": "sSRBMuH9gzj0",
        "outputId": "8aec070c-c0bb-40f7-cf02-9a7be1190526"
      },
      "execution_count": 30,
      "outputs": [
        {
          "output_type": "stream",
          "name": "stdout",
          "text": [
            "La lista actualizada es \n",
            "['A', 'B', 'C', 'd', 'e', 'AAA', 'f', 'X']\n"
          ]
        }
      ]
    },
    {
      "cell_type": "code",
      "source": [
        "letras[:3] = []\n",
        "print(f\"La lista actualizada es \\n{letras}\")"
      ],
      "metadata": {
        "colab": {
          "base_uri": "https://localhost:8080/"
        },
        "id": "nsWXy7r7hG0U",
        "outputId": "856fe970-56b7-48c7-a67f-5416b17af4d4"
      },
      "execution_count": 31,
      "outputs": [
        {
          "output_type": "stream",
          "name": "stdout",
          "text": [
            "La lista actualizada es \n",
            "['d', 'e', 'AAA', 'f', 'X']\n"
          ]
        }
      ]
    },
    {
      "cell_type": "markdown",
      "source": [
        "## Eliminar elementos de una lista"
      ],
      "metadata": {
        "id": "DTaWCtQ5hyNZ"
      }
    },
    {
      "cell_type": "code",
      "source": [
        "print(f\"La lista inicial es \\n{letras}\")\n",
        "elemento = letras.pop(2)\n",
        "print(f\"La lista actualizada es \\n{letras}\")\n",
        "print(f\"El elemento eliminado de la lista es {elemento}\")"
      ],
      "metadata": {
        "colab": {
          "base_uri": "https://localhost:8080/"
        },
        "id": "c9Rcb6a7hj9b",
        "outputId": "71d8a84e-a264-40cf-ea04-f9990bf8828a"
      },
      "execution_count": null,
      "outputs": [
        {
          "output_type": "stream",
          "name": "stdout",
          "text": [
            "La lista inicial es \n",
            "['d', 'e', 'AAA', 'f', 'X']\n",
            "La lista actualizada es \n",
            "['d', 'e', 'f', 'X']\n",
            "El elemento eliminado de la lista es AAA\n"
          ]
        }
      ]
    },
    {
      "cell_type": "code",
      "source": [
        "print(f\"La lista inicial es \\n{pares}\")\n",
        "pares.remove(100)\n",
        "print(f\"La lista actualizada es \\n{pares}\")"
      ],
      "metadata": {
        "colab": {
          "base_uri": "https://localhost:8080/"
        },
        "id": "1tsFnKUYjAlM",
        "outputId": "913184a4-808d-48b9-eb7e-c2c3efa14438"
      },
      "execution_count": 32,
      "outputs": [
        {
          "output_type": "stream",
          "name": "stdout",
          "text": [
            "La lista inicial es \n",
            "[0, 100, 2, 4, 6, 8, 10, 12]\n",
            "La lista actualizada es \n",
            "[0, 2, 4, 6, 8, 10, 12]\n"
          ]
        }
      ]
    },
    {
      "cell_type": "code",
      "source": [
        "pares.append(12)\n",
        "print(f\"La lista actualizada es \\n{pares}\")"
      ],
      "metadata": {
        "colab": {
          "base_uri": "https://localhost:8080/"
        },
        "id": "y5wIhUKvjUQp",
        "outputId": "227ae0c1-e5e3-4a46-ab39-e74b653cadd9"
      },
      "execution_count": 33,
      "outputs": [
        {
          "output_type": "stream",
          "name": "stdout",
          "text": [
            "La lista actualizada es \n",
            "[0, 2, 4, 6, 8, 10, 12, 12]\n"
          ]
        }
      ]
    },
    {
      "cell_type": "code",
      "source": [
        "pares.remove(12)\n",
        "print(f\"La lista actualizada es \\n{pares}\")"
      ],
      "metadata": {
        "colab": {
          "base_uri": "https://localhost:8080/"
        },
        "id": "XfpLlimLkLK9",
        "outputId": "3e9ba882-cf57-4257-9ee9-3ded365698d8"
      },
      "execution_count": 34,
      "outputs": [
        {
          "output_type": "stream",
          "name": "stdout",
          "text": [
            "La lista actualizada es \n",
            "[0, 2, 4, 6, 8, 10, 12]\n"
          ]
        }
      ]
    },
    {
      "cell_type": "code",
      "source": [
        "print(f\"La lista inicial es \\n{pares}\")\n",
        "del pares[4:]\n",
        "print(f\"La lista actualizada es \\n{pares}\")"
      ],
      "metadata": {
        "colab": {
          "base_uri": "https://localhost:8080/"
        },
        "id": "xCthRWfYkS6G",
        "outputId": "e4d33614-7c37-4f97-99ed-77dd17c6035f"
      },
      "execution_count": 35,
      "outputs": [
        {
          "output_type": "stream",
          "name": "stdout",
          "text": [
            "La lista inicial es \n",
            "[0, 2, 4, 6, 8, 10, 12]\n",
            "La lista actualizada es \n",
            "[0, 2, 4, 6]\n"
          ]
        }
      ]
    },
    {
      "cell_type": "code",
      "source": [
        "%whos"
      ],
      "metadata": {
        "colab": {
          "base_uri": "https://localhost:8080/"
        },
        "id": "ERZ-5xpIlFgp",
        "outputId": "9acdf303-d512-4a7d-ff74-0e5033f7b6d7"
      },
      "execution_count": 36,
      "outputs": [
        {
          "output_type": "stream",
          "name": "stdout",
          "text": [
            "Variable   Type    Data/Info\n",
            "----------------------------\n",
            "datos      list    n=5\n",
            "letras     list    n=5\n",
            "numeros    list    n=4\n",
            "pares      list    n=4\n"
          ]
        }
      ]
    },
    {
      "cell_type": "markdown",
      "source": [
        "## Ordenar los elementos de una lista"
      ],
      "metadata": {
        "id": "7zfEZNpclvhu"
      }
    },
    {
      "cell_type": "code",
      "source": [
        "lista_0 = [10, 100, 1, 50, 23, 120, 1000, 3, 25]\n",
        "print(f\"La lista tiene los elementos \\n{lista_0}\")"
      ],
      "metadata": {
        "colab": {
          "base_uri": "https://localhost:8080/"
        },
        "id": "FsYGw7dklqfX",
        "outputId": "d8f912f3-04bf-49bc-8a93-8837f91ee9c1"
      },
      "execution_count": null,
      "outputs": [
        {
          "output_type": "stream",
          "name": "stdout",
          "text": [
            "La lista tiene los elementos \n",
            "[10, 100, 1, 50, 23, 120, 1000, 3, 25]\n"
          ]
        }
      ]
    },
    {
      "cell_type": "code",
      "source": [
        "print(f\"La lista tiene los elementos \\n{lista_0}\")\n",
        "lista_0.sort()\n",
        "print(f\"\\nLa lista ordenada tiene los elementos \\n{lista_0}\")"
      ],
      "metadata": {
        "colab": {
          "base_uri": "https://localhost:8080/",
          "height": 176
        },
        "id": "FH9upuKilsxK",
        "outputId": "1d360808-96f8-4dea-86bd-b1bdc7e222dc"
      },
      "execution_count": 37,
      "outputs": [
        {
          "output_type": "error",
          "ename": "NameError",
          "evalue": "name 'lista_0' is not defined",
          "traceback": [
            "\u001b[0;31m---------------------------------------------------------------------------\u001b[0m",
            "\u001b[0;31mNameError\u001b[0m                                 Traceback (most recent call last)",
            "\u001b[0;32m<ipython-input-37-e939d460a6cc>\u001b[0m in \u001b[0;36m<cell line: 1>\u001b[0;34m()\u001b[0m\n\u001b[0;32m----> 1\u001b[0;31m \u001b[0mprint\u001b[0m\u001b[0;34m(\u001b[0m\u001b[0;34mf\"La lista tiene los elementos \\n{lista_0}\"\u001b[0m\u001b[0;34m)\u001b[0m\u001b[0;34m\u001b[0m\u001b[0;34m\u001b[0m\u001b[0m\n\u001b[0m\u001b[1;32m      2\u001b[0m \u001b[0mlista_0\u001b[0m\u001b[0;34m.\u001b[0m\u001b[0msort\u001b[0m\u001b[0;34m(\u001b[0m\u001b[0;34m)\u001b[0m\u001b[0;34m\u001b[0m\u001b[0;34m\u001b[0m\u001b[0m\n\u001b[1;32m      3\u001b[0m \u001b[0mprint\u001b[0m\u001b[0;34m(\u001b[0m\u001b[0;34mf\"\\nLa lista ordenada tiene los elementos \\n{lista_0}\"\u001b[0m\u001b[0;34m)\u001b[0m\u001b[0;34m\u001b[0m\u001b[0;34m\u001b[0m\u001b[0m\n",
            "\u001b[0;31mNameError\u001b[0m: name 'lista_0' is not defined"
          ]
        }
      ]
    },
    {
      "cell_type": "code",
      "source": [
        "lista_0 = [10, 100, 1, 50, 23, 120, 1000, 3, 25]\n",
        "print(f\"La lista tiene los elementos \\n{lista_0}\")\n",
        "lista_0.sort(reverse=True)\n",
        "print(f\"\\nLa lista ordenada (descendente) tiene los elementos \\n{lista_0}\")"
      ],
      "metadata": {
        "colab": {
          "base_uri": "https://localhost:8080/"
        },
        "id": "1abrXa_2mU32",
        "outputId": "8842711f-1937-47c8-8815-9c6b14ab97a7"
      },
      "execution_count": 38,
      "outputs": [
        {
          "output_type": "stream",
          "name": "stdout",
          "text": [
            "La lista tiene los elementos \n",
            "[10, 100, 1, 50, 23, 120, 1000, 3, 25]\n",
            "\n",
            "La lista ordenada (descendente) tiene los elementos \n",
            "[1000, 120, 100, 50, 25, 23, 10, 3, 1]\n"
          ]
        }
      ]
    },
    {
      "cell_type": "code",
      "source": [
        "print(f\"El último elemento de la lista es {lista_0[-1]}\")"
      ],
      "metadata": {
        "colab": {
          "base_uri": "https://localhost:8080/"
        },
        "id": "booZAGmmm7hv",
        "outputId": "ecb46d3b-f748-44f6-fccf-b2ffa7ed7a2d"
      },
      "execution_count": 39,
      "outputs": [
        {
          "output_type": "stream",
          "name": "stdout",
          "text": [
            "El último elemento de la lista es 1\n"
          ]
        }
      ]
    },
    {
      "cell_type": "markdown",
      "source": [
        "## Buscar elementos en una lista"
      ],
      "metadata": {
        "id": "TuYynzRYngYs"
      }
    },
    {
      "cell_type": "code",
      "source": [
        "print(f\"Los elmentos de la lista son \\n{lista_0}\")"
      ],
      "metadata": {
        "colab": {
          "base_uri": "https://localhost:8080/"
        },
        "id": "s5mLemB9nMBV",
        "outputId": "e51a252b-51c8-43a9-c372-3f09deca907d"
      },
      "execution_count": 40,
      "outputs": [
        {
          "output_type": "stream",
          "name": "stdout",
          "text": [
            "Los elmentos de la lista son \n",
            "[1000, 120, 100, 50, 25, 23, 10, 3, 1]\n"
          ]
        }
      ]
    },
    {
      "cell_type": "code",
      "source": [
        "100 in lista_0"
      ],
      "metadata": {
        "colab": {
          "base_uri": "https://localhost:8080/"
        },
        "id": "1bzc2rOnnp9F",
        "outputId": "c22eab7d-6d37-4721-ca27-72cbafe45a9c"
      },
      "execution_count": 41,
      "outputs": [
        {
          "output_type": "execute_result",
          "data": {
            "text/plain": [
              "True"
            ]
          },
          "metadata": {},
          "execution_count": 41
        }
      ]
    },
    {
      "cell_type": "code",
      "source": [
        "190 in lista_0"
      ],
      "metadata": {
        "colab": {
          "base_uri": "https://localhost:8080/"
        },
        "id": "x3VcfM-Snviz",
        "outputId": "2eb12f57-975e-43b8-f2df-44ef14b941fe"
      },
      "execution_count": 42,
      "outputs": [
        {
          "output_type": "execute_result",
          "data": {
            "text/plain": [
              "False"
            ]
          },
          "metadata": {},
          "execution_count": 42
        }
      ]
    },
    {
      "cell_type": "code",
      "source": [
        "print(f\"El elemento 1000 está en el índice {lista_0.index(1000)}\")"
      ],
      "metadata": {
        "colab": {
          "base_uri": "https://localhost:8080/"
        },
        "id": "KNxpNRWlnzFe",
        "outputId": "06f04b1b-9659-48d5-9103-a6df7d13b5ef"
      },
      "execution_count": 43,
      "outputs": [
        {
          "output_type": "stream",
          "name": "stdout",
          "text": [
            "El elemento 1000 está en el índice 0\n"
          ]
        }
      ]
    },
    {
      "cell_type": "code",
      "source": [
        "lista_0.index(1000,0)"
      ],
      "metadata": {
        "colab": {
          "base_uri": "https://localhost:8080/"
        },
        "id": "HYvxug23oLxj",
        "outputId": "cad6a310-3edd-4db0-ad9f-aa88fadf7855"
      },
      "execution_count": 44,
      "outputs": [
        {
          "output_type": "execute_result",
          "data": {
            "text/plain": [
              "0"
            ]
          },
          "metadata": {},
          "execution_count": 44
        }
      ]
    },
    {
      "cell_type": "code",
      "source": [
        "lista_0.index(1000,3)"
      ],
      "metadata": {
        "colab": {
          "base_uri": "https://localhost:8080/",
          "height": 141
        },
        "id": "bJUszH0No9Dv",
        "outputId": "9eb6a8af-afec-477f-a51c-151f54c104b1"
      },
      "execution_count": 45,
      "outputs": [
        {
          "output_type": "error",
          "ename": "ValueError",
          "evalue": "1000 is not in list",
          "traceback": [
            "\u001b[0;31m---------------------------------------------------------------------------\u001b[0m",
            "\u001b[0;31mValueError\u001b[0m                                Traceback (most recent call last)",
            "\u001b[0;32m<ipython-input-45-b76545b00adb>\u001b[0m in \u001b[0;36m<cell line: 1>\u001b[0;34m()\u001b[0m\n\u001b[0;32m----> 1\u001b[0;31m \u001b[0mlista_0\u001b[0m\u001b[0;34m.\u001b[0m\u001b[0mindex\u001b[0m\u001b[0;34m(\u001b[0m\u001b[0;36m1000\u001b[0m\u001b[0;34m,\u001b[0m\u001b[0;36m3\u001b[0m\u001b[0;34m)\u001b[0m\u001b[0;34m\u001b[0m\u001b[0;34m\u001b[0m\u001b[0m\n\u001b[0m",
            "\u001b[0;31mValueError\u001b[0m: 1000 is not in list"
          ]
        }
      ]
    },
    {
      "cell_type": "code",
      "source": [
        "lista_0.index(1000,1,6)"
      ],
      "metadata": {
        "colab": {
          "base_uri": "https://localhost:8080/",
          "height": 141
        },
        "id": "06vNxQrrpAb_",
        "outputId": "fe088e56-2391-435a-9bf8-10d671e283b4"
      },
      "execution_count": 46,
      "outputs": [
        {
          "output_type": "error",
          "ename": "ValueError",
          "evalue": "1000 is not in list",
          "traceback": [
            "\u001b[0;31m---------------------------------------------------------------------------\u001b[0m",
            "\u001b[0;31mValueError\u001b[0m                                Traceback (most recent call last)",
            "\u001b[0;32m<ipython-input-46-2fef7fc97f8d>\u001b[0m in \u001b[0;36m<cell line: 1>\u001b[0;34m()\u001b[0m\n\u001b[0;32m----> 1\u001b[0;31m \u001b[0mlista_0\u001b[0m\u001b[0;34m.\u001b[0m\u001b[0mindex\u001b[0m\u001b[0;34m(\u001b[0m\u001b[0;36m1000\u001b[0m\u001b[0;34m,\u001b[0m\u001b[0;36m1\u001b[0m\u001b[0;34m,\u001b[0m\u001b[0;36m6\u001b[0m\u001b[0;34m)\u001b[0m\u001b[0;34m\u001b[0m\u001b[0;34m\u001b[0m\u001b[0m\n\u001b[0m",
            "\u001b[0;31mValueError\u001b[0m: 1000 is not in list"
          ]
        }
      ]
    },
    {
      "cell_type": "code",
      "source": [
        "lista_0.index(50,1,6)"
      ],
      "metadata": {
        "colab": {
          "base_uri": "https://localhost:8080/"
        },
        "id": "jyhwHg8FpOqM",
        "outputId": "e990bbc9-737c-49e0-c4c5-ee6f4a9ee98e"
      },
      "execution_count": 47,
      "outputs": [
        {
          "output_type": "execute_result",
          "data": {
            "text/plain": [
              "3"
            ]
          },
          "metadata": {},
          "execution_count": 47
        }
      ]
    },
    {
      "cell_type": "code",
      "source": [
        "lista_0.index(10,1,6)"
      ],
      "metadata": {
        "colab": {
          "base_uri": "https://localhost:8080/",
          "height": 141
        },
        "id": "ALJPyDoDpXd2",
        "outputId": "d19bfe91-d581-452c-825f-f0a21373e3e5"
      },
      "execution_count": 48,
      "outputs": [
        {
          "output_type": "error",
          "ename": "ValueError",
          "evalue": "10 is not in list",
          "traceback": [
            "\u001b[0;31m---------------------------------------------------------------------------\u001b[0m",
            "\u001b[0;31mValueError\u001b[0m                                Traceback (most recent call last)",
            "\u001b[0;32m<ipython-input-48-39938f902f12>\u001b[0m in \u001b[0;36m<cell line: 1>\u001b[0;34m()\u001b[0m\n\u001b[0;32m----> 1\u001b[0;31m \u001b[0mlista_0\u001b[0m\u001b[0;34m.\u001b[0m\u001b[0mindex\u001b[0m\u001b[0;34m(\u001b[0m\u001b[0;36m10\u001b[0m\u001b[0;34m,\u001b[0m\u001b[0;36m1\u001b[0m\u001b[0;34m,\u001b[0m\u001b[0;36m6\u001b[0m\u001b[0;34m)\u001b[0m\u001b[0;34m\u001b[0m\u001b[0;34m\u001b[0m\u001b[0m\n\u001b[0m",
            "\u001b[0;31mValueError\u001b[0m: 10 is not in list"
          ]
        }
      ]
    },
    {
      "cell_type": "code",
      "source": [
        "lista_0.index(10,1,7)"
      ],
      "metadata": {
        "colab": {
          "base_uri": "https://localhost:8080/"
        },
        "id": "JFjBvbeApcJU",
        "outputId": "597dc04a-cfcf-4afd-8a22-a78f28afa6a1"
      },
      "execution_count": 49,
      "outputs": [
        {
          "output_type": "execute_result",
          "data": {
            "text/plain": [
              "6"
            ]
          },
          "metadata": {},
          "execution_count": 49
        }
      ]
    },
    {
      "cell_type": "code",
      "source": [],
      "metadata": {
        "id": "EjoCoi7cptfO"
      },
      "execution_count": null,
      "outputs": []
    }
  ]
}