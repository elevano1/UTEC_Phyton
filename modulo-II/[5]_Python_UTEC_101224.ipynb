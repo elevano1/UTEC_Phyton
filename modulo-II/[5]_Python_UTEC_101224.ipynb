{
  "nbformat": 4,
  "nbformat_minor": 0,
  "metadata": {
    "colab": {
      "provenance": [],
      "include_colab_link": true
    },
    "kernelspec": {
      "name": "python3",
      "display_name": "Python 3"
    },
    "language_info": {
      "name": "python"
    }
  },
  "cells": [
    {
      "cell_type": "markdown",
      "metadata": {
        "id": "view-in-github",
        "colab_type": "text"
      },
      "source": [
        "<a href=\"https://colab.research.google.com/github/elevano1/UTEC_Phyton/blob/main/modulo-II/%5B5%5D_Python_UTEC_101224.ipynb\" target=\"_parent\"><img src=\"https://colab.research.google.com/assets/colab-badge.svg\" alt=\"Open In Colab\"/></a>"
      ]
    },
    {
      "cell_type": "markdown",
      "source": [
        "# Diccionarios"
      ],
      "metadata": {
        "id": "LIRifZ8oVWYD"
      }
    },
    {
      "cell_type": "markdown",
      "source": [
        "## Crear un diccionario"
      ],
      "metadata": {
        "id": "k6NywJVEVanA"
      }
    },
    {
      "cell_type": "code",
      "source": [
        "# Lista vacía\n",
        "l_0 = []"
      ],
      "metadata": {
        "id": "_EKk-rehV6zT"
      },
      "execution_count": null,
      "outputs": []
    },
    {
      "cell_type": "code",
      "source": [
        "# Tupla vacía\n",
        "t_0 = ()"
      ],
      "metadata": {
        "id": "i-dR2MkSZ_3a"
      },
      "execution_count": null,
      "outputs": []
    },
    {
      "cell_type": "code",
      "execution_count": null,
      "metadata": {
        "id": "A4keBXudVOG9"
      },
      "outputs": [],
      "source": [
        "# Diccionario vacío\n",
        "dc_0  = {}"
      ]
    },
    {
      "cell_type": "code",
      "source": [
        "type(dc_0)"
      ],
      "metadata": {
        "colab": {
          "base_uri": "https://localhost:8080/"
        },
        "id": "k1XtCHJ9Voaz",
        "outputId": "ba955a88-96d5-4409-cfc6-fb5eeccce7a7"
      },
      "execution_count": null,
      "outputs": [
        {
          "output_type": "execute_result",
          "data": {
            "text/plain": [
              "dict"
            ]
          },
          "metadata": {},
          "execution_count": 2
        }
      ]
    },
    {
      "cell_type": "code",
      "source": [
        "type(l_0) # objeto list es una lista"
      ],
      "metadata": {
        "id": "dbntw-vhaJ2_",
        "outputId": "b02b3342-2c56-49d3-d033-4035b98528a2",
        "colab": {
          "base_uri": "https://localhost:8080/"
        }
      },
      "execution_count": null,
      "outputs": [
        {
          "output_type": "execute_result",
          "data": {
            "text/plain": [
              "list"
            ]
          },
          "metadata": {},
          "execution_count": 25
        }
      ]
    },
    {
      "cell_type": "code",
      "source": [
        "type(t_0) # objeto tuple es una tupla"
      ],
      "metadata": {
        "id": "i_lDDRrAaMb4",
        "outputId": "ccd1d856-0cf8-4cfd-c3ee-690967cae78b",
        "colab": {
          "base_uri": "https://localhost:8080/"
        }
      },
      "execution_count": null,
      "outputs": [
        {
          "output_type": "execute_result",
          "data": {
            "text/plain": [
              "tuple"
            ]
          },
          "metadata": {},
          "execution_count": 26
        }
      ]
    },
    {
      "cell_type": "code",
      "source": [
        "# Diccionarios pueden ser homogéneos\n",
        "# Considerar el concepto => clave:valor\n",
        "# Los valores son del mismo tipo (enteros)\n",
        "# Las claves son caracteres\n",
        "\n",
        "dc_1 = {\"a\":1,\n",
        "        \"b\":2,\n",
        "        \"c\":3\n",
        "        }\n",
        "\n",
        "print(f\"El diccionario es \\n{dc_1}\")"
      ],
      "metadata": {
        "colab": {
          "base_uri": "https://localhost:8080/"
        },
        "id": "YF1FKhXbVw9k",
        "outputId": "050768f3-7c6c-4e67-b64f-ae728f1d8b40"
      },
      "execution_count": null,
      "outputs": [
        {
          "output_type": "stream",
          "name": "stdout",
          "text": [
            "El diccionario es \n",
            "{'a': 1, 'b': 2, 'c': 3}\n"
          ]
        }
      ]
    },
    {
      "cell_type": "code",
      "source": [
        "type(dc_1)"
      ],
      "metadata": {
        "id": "V23SqBezaU8k",
        "outputId": "d06121a1-a798-49a9-f434-5dc00131dec9",
        "colab": {
          "base_uri": "https://localhost:8080/"
        }
      },
      "execution_count": null,
      "outputs": [
        {
          "output_type": "execute_result",
          "data": {
            "text/plain": [
              "dict"
            ]
          },
          "metadata": {},
          "execution_count": 27
        }
      ]
    },
    {
      "cell_type": "code",
      "source": [
        "# Diccionarios pueden ser heterogéneos\n",
        "# Considerar el concepto => clave:valor\n",
        "# Los valores NO son del mismo tipo (valor1: diccionario, valor2: lista, valor3: tupla)\n",
        "# Las claves son caracteres\n",
        "dc_2 = {\"a\":{\"x\":100},\n",
        "        \"b\":[10,20,30],\n",
        "        \"c\":(1,2,3,4,5)\n",
        "        }\n",
        "print(f\"El diccionario es \\n{dc_2}\")"
      ],
      "metadata": {
        "colab": {
          "base_uri": "https://localhost:8080/"
        },
        "id": "Ci64T0OkWc2K",
        "outputId": "dc25e6d4-702f-451b-9c49-47cbe6f65e75"
      },
      "execution_count": null,
      "outputs": [
        {
          "output_type": "stream",
          "name": "stdout",
          "text": [
            "El diccionario es \n",
            "{'a': {'x': 100}, 'b': [10, 20, 30], 'c': (1, 2, 3, 4, 5)}\n"
          ]
        }
      ]
    },
    {
      "cell_type": "code",
      "source": [
        "type(dc_2)"
      ],
      "metadata": {
        "id": "HjeA0-ELaem9",
        "outputId": "dccad5be-eaad-439d-dad4-3195f752c509",
        "colab": {
          "base_uri": "https://localhost:8080/"
        }
      },
      "execution_count": null,
      "outputs": [
        {
          "output_type": "execute_result",
          "data": {
            "text/plain": [
              "dict"
            ]
          },
          "metadata": {},
          "execution_count": 32
        }
      ]
    },
    {
      "cell_type": "code",
      "source": [
        "# Diccionarios con claves repetidas\n",
        "# Las claves de los diccionarios son únicas\n",
        "dc_3 = {\"a\":100,\n",
        "        \"b\":200,\n",
        "        \"a\":300}\n",
        "type(dc_3)"
      ],
      "metadata": {
        "colab": {
          "base_uri": "https://localhost:8080/"
        },
        "id": "dwzog2qpXCr7",
        "outputId": "1c3faa1f-1827-42aa-9405-fdc641ab2f8d"
      },
      "execution_count": null,
      "outputs": [
        {
          "output_type": "execute_result",
          "data": {
            "text/plain": [
              "dict"
            ]
          },
          "metadata": {},
          "execution_count": 33
        }
      ]
    },
    {
      "cell_type": "code",
      "source": [
        "print(f\"El diccionario dc_3 es \\n{dc_3}\")"
      ],
      "metadata": {
        "colab": {
          "base_uri": "https://localhost:8080/"
        },
        "id": "-6VfrikSXcTH",
        "outputId": "6b7df503-c987-4c45-8b55-19a3c238bf01"
      },
      "execution_count": null,
      "outputs": [
        {
          "output_type": "stream",
          "name": "stdout",
          "text": [
            "El diccionario dc_3 es \n",
            "{'a': 300, 'b': 200}\n"
          ]
        }
      ]
    },
    {
      "cell_type": "code",
      "source": [
        "# Diccionario: dict_info\n",
        "# Claves: nombre,apellido,edad,profesion\n",
        "# Valores: su información personal\n",
        "# Los valores son distinto tipo (cadenas, int) => diccionario heterogéneo\n",
        "dict_info = {\"nombre\":\"david\",\n",
        "             \"apellido\":\"allende\",\n",
        "             \"edad\":36,\n",
        "             \"profesion\":\"ingeniero\"\n",
        "             }\n",
        "\n",
        "print(f\"El diccionario con mi info personal es \\n{dict_info}\")"
      ],
      "metadata": {
        "colab": {
          "base_uri": "https://localhost:8080/"
        },
        "id": "8BUx8ML7Xz57",
        "outputId": "2b221368-8422-4ef6-d0ae-10071ad7b368"
      },
      "execution_count": null,
      "outputs": [
        {
          "output_type": "stream",
          "name": "stdout",
          "text": [
            "El diccionario con mi info personal es \n",
            "{'nombre': 'david', 'apellido': 'allende', 'edad': 36, 'profesion': 'ingeniero'}\n"
          ]
        }
      ]
    },
    {
      "cell_type": "code",
      "source": [
        "dict_info={\"nombre\":\"Michael\",\n",
        "           \"apellido\":\"Añazco\",\n",
        "           \"edad\":24,\n",
        "           \"profesion\":\"Ingeniero Industrial\"}\n",
        "print(f\"El diccionario de inf personal es \\n {dict_info}\")"
      ],
      "metadata": {
        "colab": {
          "base_uri": "https://localhost:8080/"
        },
        "id": "abk-M10oZtON",
        "outputId": "bc6ef78b-b06e-448e-91ac-d6f14b839d80"
      },
      "execution_count": null,
      "outputs": [
        {
          "output_type": "stream",
          "name": "stdout",
          "text": [
            "El diccionario de inf personal es \n",
            " {'nombre': 'Michael', 'apellido': 'Añazco', 'edad': 24, 'profesion': 'Ingeniero Industrial'}\n"
          ]
        }
      ]
    },
    {
      "cell_type": "code",
      "source": [
        "# Diccionario con claves numéricas\n",
        "\n",
        "dc_4 = {1:100,\n",
        "        2:200,\n",
        "        3:300\n",
        "        }\n",
        "type(dc_4)"
      ],
      "metadata": {
        "colab": {
          "base_uri": "https://localhost:8080/"
        },
        "id": "0tDAAoxxZ2T_",
        "outputId": "c9bc3982-78fa-4e37-9e38-2685d3ba6306"
      },
      "execution_count": null,
      "outputs": [
        {
          "output_type": "execute_result",
          "data": {
            "text/plain": [
              "dict"
            ]
          },
          "metadata": {},
          "execution_count": 37
        }
      ]
    },
    {
      "cell_type": "code",
      "source": [
        "# Diccionario con claves cadenas y valores numéricos\n",
        "\n",
        "dc_5 = {\"david\":10,\n",
        "        \"enzo\":20,\n",
        "        \"pedro\":30,\n",
        "        \"maria\":40,\n",
        "        \"andrea\":50\n",
        "        }\n",
        "\n",
        "type(dc_5)"
      ],
      "metadata": {
        "colab": {
          "base_uri": "https://localhost:8080/"
        },
        "id": "aruFcE76aPLl",
        "outputId": "53bac500-ddae-4dbd-fc09-5276a46c89b3"
      },
      "execution_count": null,
      "outputs": [
        {
          "output_type": "execute_result",
          "data": {
            "text/plain": [
              "dict"
            ]
          },
          "metadata": {},
          "execution_count": 38
        }
      ]
    },
    {
      "cell_type": "code",
      "source": [
        "%whos"
      ],
      "metadata": {
        "colab": {
          "base_uri": "https://localhost:8080/"
        },
        "id": "71iwo2yeamj1",
        "outputId": "ad9d675b-378f-4db9-e6f4-fd8beb5e28a1"
      },
      "execution_count": null,
      "outputs": [
        {
          "output_type": "stream",
          "name": "stdout",
          "text": [
            "Variable    Type     Data/Info\n",
            "------------------------------\n",
            "dc_0        dict     n=0\n",
            "dc_1        dict     n=3\n",
            "dc_2        dict     n=3\n",
            "dc_3        dict     n=2\n",
            "dc_4        dict     n=3\n",
            "dc_5        dict     n=5\n",
            "dict_info   dict     n=4\n",
            "l_0         list     n=0\n",
            "t_0         tuple    n=0\n"
          ]
        }
      ]
    },
    {
      "cell_type": "markdown",
      "source": [
        "## Acceder a los elementos de un diccionario"
      ],
      "metadata": {
        "id": "6_dWiA99a4oy"
      }
    },
    {
      "cell_type": "code",
      "source": [
        "print(f\"El diccionario con mi info personal es \\n{dict_info}\")"
      ],
      "metadata": {
        "colab": {
          "base_uri": "https://localhost:8080/"
        },
        "id": "BGZExoDTascp",
        "outputId": "bfc808c6-6307-4fa0-d368-414509f331cf"
      },
      "execution_count": null,
      "outputs": [
        {
          "output_type": "stream",
          "name": "stdout",
          "text": [
            "El diccionario con mi info personal es \n",
            "{'nombre': 'Michael', 'apellido': 'Añazco', 'edad': 24, 'profesion': 'Ingeniero Industrial'}\n"
          ]
        }
      ]
    },
    {
      "cell_type": "code",
      "source": [
        "dict_info[\"edad\"] # A través de la clave accedo al valor (la clave está entre comillas dobles)"
      ],
      "metadata": {
        "colab": {
          "base_uri": "https://localhost:8080/"
        },
        "id": "bKn82Z59bfdz",
        "outputId": "54bcebe2-1c5d-4bc9-b14e-6e3630bf9b33"
      },
      "execution_count": null,
      "outputs": [
        {
          "output_type": "execute_result",
          "data": {
            "text/plain": [
              "24"
            ]
          },
          "metadata": {},
          "execution_count": 41
        }
      ]
    },
    {
      "cell_type": "code",
      "source": [
        "dict_info['edad'] # A través de la clave accedo al valor (la clave está entre comillas simples)"
      ],
      "metadata": {
        "colab": {
          "base_uri": "https://localhost:8080/"
        },
        "id": "ArGCSPqsb1En",
        "outputId": "b660ed37-8cd9-4200-9b2d-1e5708d90e97"
      },
      "execution_count": null,
      "outputs": [
        {
          "output_type": "execute_result",
          "data": {
            "text/plain": [
              "24"
            ]
          },
          "metadata": {},
          "execution_count": 42
        }
      ]
    },
    {
      "cell_type": "code",
      "source": [
        "dict_info[0] # Es incorrecto"
      ],
      "metadata": {
        "id": "-XRv2EIhasjV",
        "outputId": "c81d571c-cb35-470e-eb48-12c898995751",
        "colab": {
          "base_uri": "https://localhost:8080/",
          "height": 141
        }
      },
      "execution_count": null,
      "outputs": [
        {
          "output_type": "error",
          "ename": "KeyError",
          "evalue": "0",
          "traceback": [
            "\u001b[0;31m---------------------------------------------------------------------------\u001b[0m",
            "\u001b[0;31mKeyError\u001b[0m                                  Traceback (most recent call last)",
            "\u001b[0;32m<ipython-input-43-fd173a0db1b4>\u001b[0m in \u001b[0;36m<cell line: 1>\u001b[0;34m()\u001b[0m\n\u001b[0;32m----> 1\u001b[0;31m \u001b[0mdict_info\u001b[0m\u001b[0;34m[\u001b[0m\u001b[0;36m0\u001b[0m\u001b[0;34m]\u001b[0m \u001b[0;31m# Es incorrecto\u001b[0m\u001b[0;34m\u001b[0m\u001b[0;34m\u001b[0m\u001b[0m\n\u001b[0m",
            "\u001b[0;31mKeyError\u001b[0m: 0"
          ]
        }
      ]
    },
    {
      "cell_type": "code",
      "source": [
        "print(f\"La edad de la persona es {dict_info['edad']}\")"
      ],
      "metadata": {
        "colab": {
          "base_uri": "https://localhost:8080/"
        },
        "id": "6CxnpIC9bDW8",
        "outputId": "39229616-3c1b-4421-bcae-5c24a192941b"
      },
      "execution_count": null,
      "outputs": [
        {
          "output_type": "stream",
          "name": "stdout",
          "text": [
            "La edad de la persona es 24\n"
          ]
        }
      ]
    },
    {
      "cell_type": "code",
      "source": [
        "print(f\"La profesión de la persona es {dict_info['profesion']}\")"
      ],
      "metadata": {
        "colab": {
          "base_uri": "https://localhost:8080/"
        },
        "id": "zYVHEpvxbZED",
        "outputId": "df927c2c-6490-4f39-a108-bc36ebcaf356"
      },
      "execution_count": null,
      "outputs": [
        {
          "output_type": "stream",
          "name": "stdout",
          "text": [
            "La profesión de la persona es Ingeniero Industrial\n"
          ]
        }
      ]
    },
    {
      "cell_type": "code",
      "source": [
        "print(f\"El diccionario es \\n{dc_2}\")"
      ],
      "metadata": {
        "colab": {
          "base_uri": "https://localhost:8080/"
        },
        "id": "lpprzK1XcPvL",
        "outputId": "84e925f2-89fc-4851-be57-7567eae89196"
      },
      "execution_count": null,
      "outputs": [
        {
          "output_type": "stream",
          "name": "stdout",
          "text": [
            "El diccionario es \n",
            "{'a': {'x': 100}, 'b': [10, 20, 30], 'c': (1, 2, 3, 4, 5)}\n"
          ]
        }
      ]
    },
    {
      "cell_type": "code",
      "source": [
        "print(f\"El primer elemento del diccionario es \\n{dc_2['a']}\")"
      ],
      "metadata": {
        "colab": {
          "base_uri": "https://localhost:8080/"
        },
        "id": "BucuCWHAcpR6",
        "outputId": "ca88b223-9833-4261-9b1e-e2dde66a6347"
      },
      "execution_count": null,
      "outputs": [
        {
          "output_type": "stream",
          "name": "stdout",
          "text": [
            "El primer elemento del diccionario es \n",
            "{'x': 100}\n"
          ]
        }
      ]
    },
    {
      "cell_type": "code",
      "source": [
        "print(f\"El primer elemento del diccionario es del tipo \\n{type(dc_2['a'])}\")"
      ],
      "metadata": {
        "colab": {
          "base_uri": "https://localhost:8080/"
        },
        "id": "4hUV-47hc7kE",
        "outputId": "7ac7102a-70da-4422-9f6f-9e55f29c1270"
      },
      "execution_count": null,
      "outputs": [
        {
          "output_type": "stream",
          "name": "stdout",
          "text": [
            "El primer elemento del diccionario es del tipo \n",
            "<class 'dict'>\n"
          ]
        }
      ]
    },
    {
      "cell_type": "code",
      "source": [
        "print(f\"El segundo elemento del diccionario es \\n{dc_2['b']}\")"
      ],
      "metadata": {
        "colab": {
          "base_uri": "https://localhost:8080/"
        },
        "id": "hJVsSDn1dUVI",
        "outputId": "73dac1d0-1c89-496a-938e-2274e2bb2bad"
      },
      "execution_count": null,
      "outputs": [
        {
          "output_type": "stream",
          "name": "stdout",
          "text": [
            "El segundo elemento del diccionario es \n",
            "[10, 20, 30]\n"
          ]
        }
      ]
    },
    {
      "cell_type": "code",
      "source": [
        "print(f\"El segundo elemento del diccionario es del tipo \\n{type(dc_2['b'])}\")"
      ],
      "metadata": {
        "colab": {
          "base_uri": "https://localhost:8080/"
        },
        "id": "rvg03ysAcxjW",
        "outputId": "09e9bd65-8352-4df2-92ac-4a4c0911ad0a"
      },
      "execution_count": null,
      "outputs": [
        {
          "output_type": "stream",
          "name": "stdout",
          "text": [
            "El segundo elemento del diccionario es del tipo \n",
            "<class 'list'>\n"
          ]
        }
      ]
    },
    {
      "cell_type": "code",
      "source": [
        "print(f\"El tercer elemento del diccionario es \\n{dc_2['c']}\")"
      ],
      "metadata": {
        "id": "YB-t1vUCbUmt",
        "outputId": "4cac9479-319e-4b7e-ff9a-02d014377d3a",
        "colab": {
          "base_uri": "https://localhost:8080/"
        }
      },
      "execution_count": null,
      "outputs": [
        {
          "output_type": "stream",
          "name": "stdout",
          "text": [
            "El tercer elemento del diccionario es \n",
            "(1, 2, 3, 4, 5)\n"
          ]
        }
      ]
    },
    {
      "cell_type": "code",
      "source": [
        "print(f\"El tercer elemento del diccionario es del tipo \\n{type(dc_2['c'])}\")"
      ],
      "metadata": {
        "id": "_N4qC6_Xbd3U",
        "outputId": "65a38c9e-b4bc-4630-b3cc-8f140ad69a68",
        "colab": {
          "base_uri": "https://localhost:8080/"
        }
      },
      "execution_count": null,
      "outputs": [
        {
          "output_type": "stream",
          "name": "stdout",
          "text": [
            "El tercer elemento del diccionario es del tipo \n",
            "<class 'tuple'>\n"
          ]
        }
      ]
    },
    {
      "cell_type": "code",
      "source": [
        "# Pasos\n",
        "#########\n",
        "\n",
        "# Paso 1: Accedo al segundo elemento del diccionario y lo almaceno en la variable \"dc_2_ele2\"\n",
        "dc_2_ele2 = dc_2['b']\n",
        "print(f\"El segundo elemento del diccionario es \\n{dc_2_ele2}\")"
      ],
      "metadata": {
        "id": "YMkO4ERLbi1O",
        "outputId": "d8c0167b-9a7f-4497-cdd2-fbfbefb2d079",
        "colab": {
          "base_uri": "https://localhost:8080/"
        }
      },
      "execution_count": null,
      "outputs": [
        {
          "output_type": "stream",
          "name": "stdout",
          "text": [
            "El segundo elemento del diccionario es \n",
            "[10, 20, 30]\n"
          ]
        }
      ]
    },
    {
      "cell_type": "code",
      "source": [
        "# Paso 2: Validamos el tipo de dato (lista)\n",
        "type(dc_2_ele2)"
      ],
      "metadata": {
        "id": "Fif4gfz6b4hy",
        "outputId": "5eb71bae-ff9f-4dbd-c6c3-6d229c95741d",
        "colab": {
          "base_uri": "https://localhost:8080/"
        }
      },
      "execution_count": null,
      "outputs": [
        {
          "output_type": "execute_result",
          "data": {
            "text/plain": [
              "list"
            ]
          },
          "metadata": {},
          "execution_count": 54
        }
      ]
    },
    {
      "cell_type": "code",
      "source": [
        "# Paso 3: Accedemos al último elemento de la lista\n",
        "dc_2_ele2[-1]"
      ],
      "metadata": {
        "id": "ckokfSTJb8eU",
        "outputId": "c252302f-340f-4c09-d2ea-47bf707d63f6",
        "colab": {
          "base_uri": "https://localhost:8080/"
        }
      },
      "execution_count": null,
      "outputs": [
        {
          "output_type": "execute_result",
          "data": {
            "text/plain": [
              "30"
            ]
          },
          "metadata": {},
          "execution_count": 55
        }
      ]
    },
    {
      "cell_type": "code",
      "source": [
        "## Todo en un solo paso\n",
        "\n",
        "print(f\"El último elemento de la clave b del diccionario es \\n{dc_2['b'][-1]}\")"
      ],
      "metadata": {
        "id": "FiCfj0tpb_kB",
        "outputId": "e38cd786-c86c-499a-c965-4f5799afa9d8",
        "colab": {
          "base_uri": "https://localhost:8080/"
        }
      },
      "execution_count": null,
      "outputs": [
        {
          "output_type": "stream",
          "name": "stdout",
          "text": [
            "El último elemento de la clave b del diccionario es \n",
            "30\n"
          ]
        }
      ]
    },
    {
      "cell_type": "code",
      "source": [
        "print(f\"El diccionario con claves y valores numéricos: \\n{dc_4}\")"
      ],
      "metadata": {
        "id": "n5c_4jp0cDbw",
        "outputId": "2e9b7417-d879-450e-b825-170603d37dd8",
        "colab": {
          "base_uri": "https://localhost:8080/"
        }
      },
      "execution_count": null,
      "outputs": [
        {
          "output_type": "stream",
          "name": "stdout",
          "text": [
            "El diccionario con claves y valores numéricos: \n",
            "{1: 100, 2: 200, 3: 300}\n"
          ]
        }
      ]
    },
    {
      "cell_type": "code",
      "source": [
        "print(f\"El primer elemento del diccionario es {dc_4[1]}\")"
      ],
      "metadata": {
        "id": "ckHTNMR5cE45",
        "outputId": "1679d162-5ed6-473a-84b3-bd870d98c81f",
        "colab": {
          "base_uri": "https://localhost:8080/"
        }
      },
      "execution_count": null,
      "outputs": [
        {
          "output_type": "stream",
          "name": "stdout",
          "text": [
            "El primer elemento del diccionario es 100\n"
          ]
        }
      ]
    },
    {
      "cell_type": "code",
      "source": [
        "print(f\"El segundo elemento del diccionario es {dc_4[2]}\")"
      ],
      "metadata": {
        "id": "vBXYUY5dcIVN",
        "outputId": "985d95ad-5972-49c2-8193-8e4d70c0dba0",
        "colab": {
          "base_uri": "https://localhost:8080/"
        }
      },
      "execution_count": null,
      "outputs": [
        {
          "output_type": "stream",
          "name": "stdout",
          "text": [
            "El segundo elemento del diccionario es 200\n"
          ]
        }
      ]
    },
    {
      "cell_type": "code",
      "source": [
        "print(f\"El tercer elemento del diccionario es {dc_4[3]}\")"
      ],
      "metadata": {
        "id": "1O8hOzT4cMLV",
        "outputId": "346f601a-9979-48cc-d7a0-0ad913996b41",
        "colab": {
          "base_uri": "https://localhost:8080/"
        }
      },
      "execution_count": null,
      "outputs": [
        {
          "output_type": "stream",
          "name": "stdout",
          "text": [
            "El tercer elemento del diccionario es 300\n"
          ]
        }
      ]
    },
    {
      "cell_type": "code",
      "source": [
        "print(f\"El diccionario con claves que son cadenas y valores numéricos: \\n{dc_5}\")"
      ],
      "metadata": {
        "id": "MIDBFVLtcPsM",
        "outputId": "16cfee2c-6f16-458c-a35a-b979ebfe3826",
        "colab": {
          "base_uri": "https://localhost:8080/"
        }
      },
      "execution_count": null,
      "outputs": [
        {
          "output_type": "stream",
          "name": "stdout",
          "text": [
            "El diccionario con claves que son cadenas y valores numéricos: \n",
            "{'david': 10, 'enzo': 20, 'pedro': 30, 'maria': 40, 'andrea': 50}\n"
          ]
        }
      ]
    },
    {
      "cell_type": "code",
      "source": [
        "print(f\"El valor de la clave 'pedro' es {dc_5['pedro']}\")"
      ],
      "metadata": {
        "id": "EuoRNnU_cSRT",
        "outputId": "ddd038cf-8376-4eea-9456-02b3265f56c3",
        "colab": {
          "base_uri": "https://localhost:8080/"
        }
      },
      "execution_count": null,
      "outputs": [
        {
          "output_type": "stream",
          "name": "stdout",
          "text": [
            "El valor de la clave 'pedro' es 30\n"
          ]
        }
      ]
    },
    {
      "cell_type": "code",
      "source": [
        "print(f\"El segundo elemento del diccionario es una lista, accedo al último elemento de esta lista \\n{dc_2['b'][-1]}\")"
      ],
      "metadata": {
        "colab": {
          "base_uri": "https://localhost:8080/"
        },
        "id": "AHjDdumjc4gw",
        "outputId": "bb3ca76f-3fdd-4f86-f06d-d4709b35311e"
      },
      "execution_count": null,
      "outputs": [
        {
          "output_type": "stream",
          "name": "stdout",
          "text": [
            "El segundo elemento del diccionario es una lista, accedo al último elemento de esta lista \n",
            "30\n"
          ]
        }
      ]
    },
    {
      "cell_type": "markdown",
      "source": [
        "Método items()"
      ],
      "metadata": {
        "id": "2CHJ7EAGc1L0"
      }
    },
    {
      "cell_type": "code",
      "source": [
        "%whos"
      ],
      "metadata": {
        "id": "MC-XYwHuc3lf",
        "outputId": "235d66ee-a4ac-4d94-ef48-491741e112ae",
        "colab": {
          "base_uri": "https://localhost:8080/"
        }
      },
      "execution_count": 64,
      "outputs": [
        {
          "output_type": "stream",
          "name": "stdout",
          "text": [
            "Variable    Type     Data/Info\n",
            "------------------------------\n",
            "dc_0        dict     n=0\n",
            "dc_1        dict     n=3\n",
            "dc_2        dict     n=3\n",
            "dc_2_ele2   list     n=3\n",
            "dc_3        dict     n=2\n",
            "dc_4        dict     n=3\n",
            "dc_5        dict     n=5\n",
            "dict_info   dict     n=4\n",
            "l_0         list     n=0\n",
            "t_0         tuple    n=0\n"
          ]
        }
      ]
    },
    {
      "cell_type": "code",
      "source": [
        "dc_1 # Diccionario con claves (caracteres): valores (numéricos)"
      ],
      "metadata": {
        "id": "tnbBD46Nc8Yf",
        "outputId": "1f67d1e5-53b1-4b9a-9e55-6f65f8ea00ad",
        "colab": {
          "base_uri": "https://localhost:8080/"
        }
      },
      "execution_count": 65,
      "outputs": [
        {
          "output_type": "execute_result",
          "data": {
            "text/plain": [
              "{'a': 1, 'b': 2, 'c': 3}"
            ]
          },
          "metadata": {},
          "execution_count": 65
        }
      ]
    },
    {
      "cell_type": "code",
      "source": [
        "# Almacenar todos los pares clave : valor del diccionario \"dc_1\"\n",
        "items_dc_1 = dc_1.items()"
      ],
      "metadata": {
        "id": "MJeTq5xndAPD"
      },
      "execution_count": 66,
      "outputs": []
    },
    {
      "cell_type": "code",
      "source": [
        "print(f\"Todos los pares clave:valor del diccionario \\n{items_dc_1}\")"
      ],
      "metadata": {
        "id": "aDHTmFE5dBPf",
        "outputId": "0f87b237-4f80-4f51-c2b2-aa75ed792afa",
        "colab": {
          "base_uri": "https://localhost:8080/"
        }
      },
      "execution_count": 67,
      "outputs": [
        {
          "output_type": "stream",
          "name": "stdout",
          "text": [
            "Todos los pares clave:valor del diccionario \n",
            "dict_items([('a', 1), ('b', 2), ('c', 3)])\n"
          ]
        }
      ]
    },
    {
      "cell_type": "code",
      "source": [
        "for c,v in dc_1.items():\n",
        "  print(f\"La clave {c}, tiene el valor {v}\")"
      ],
      "metadata": {
        "id": "kGJNbMbsdEFu",
        "outputId": "ae972c5c-4b83-4410-d388-d02ed57078d2",
        "colab": {
          "base_uri": "https://localhost:8080/"
        }
      },
      "execution_count": 68,
      "outputs": [
        {
          "output_type": "stream",
          "name": "stdout",
          "text": [
            "La clave a, tiene el valor 1\n",
            "La clave b, tiene el valor 2\n",
            "La clave c, tiene el valor 3\n"
          ]
        }
      ]
    },
    {
      "cell_type": "code",
      "source": [
        "for c,v in dc_5.items():\n",
        "  print(f\"La clave {c}, tiene el valor {v}\")"
      ],
      "metadata": {
        "id": "k10ZCFizdHrU",
        "outputId": "c811e987-1647-4f3e-99c0-940422229a16",
        "colab": {
          "base_uri": "https://localhost:8080/"
        }
      },
      "execution_count": 69,
      "outputs": [
        {
          "output_type": "stream",
          "name": "stdout",
          "text": [
            "La clave david, tiene el valor 10\n",
            "La clave enzo, tiene el valor 20\n",
            "La clave pedro, tiene el valor 30\n",
            "La clave maria, tiene el valor 40\n",
            "La clave andrea, tiene el valor 50\n"
          ]
        }
      ]
    },
    {
      "cell_type": "code",
      "source": [
        "# Crear una lista a partir del método items\n",
        "l_dc_5 = list(dc_5.items())\n",
        "print(f\"La lista creada a partir del método items es \\n{l_dc_5}\")"
      ],
      "metadata": {
        "id": "gs-zIoxFdJ8X",
        "outputId": "82ca3149-09aa-4c3a-edd9-ff416cd9ef14",
        "colab": {
          "base_uri": "https://localhost:8080/"
        }
      },
      "execution_count": 70,
      "outputs": [
        {
          "output_type": "stream",
          "name": "stdout",
          "text": [
            "La lista creada a partir del método items es \n",
            "[('david', 10), ('enzo', 20), ('pedro', 30), ('maria', 40), ('andrea', 50)]\n"
          ]
        }
      ]
    },
    {
      "cell_type": "code",
      "source": [
        "# Acceder al último elemento de la lista y mostrar el tipo de dato resultante\n",
        "print(f\"El último elemeno de la lista es {l_dc_5[4]}\")\n",
        "print(f\"El tipo de dato del último elemeno de la lista es {type(l_dc_5[4])}\")"
      ],
      "metadata": {
        "id": "lrluODvAdM8k",
        "outputId": "1688190c-f98b-47a7-ae9f-61e6e8918c97",
        "colab": {
          "base_uri": "https://localhost:8080/"
        }
      },
      "execution_count": 71,
      "outputs": [
        {
          "output_type": "stream",
          "name": "stdout",
          "text": [
            "El último elemeno de la lista es ('andrea', 50)\n",
            "El tipo de dato del último elemeno de la lista es <class 'tuple'>\n"
          ]
        }
      ]
    },
    {
      "cell_type": "code",
      "source": [
        "print(f\"El diccionario con valores de distinto tipo \\n{dc_2}\")"
      ],
      "metadata": {
        "id": "d_cR2UKogd2q",
        "outputId": "02d244fd-1676-45ab-deeb-b438ed1dbc01",
        "colab": {
          "base_uri": "https://localhost:8080/"
        }
      },
      "execution_count": 72,
      "outputs": [
        {
          "output_type": "stream",
          "name": "stdout",
          "text": [
            "El diccionario con valores de distinto tipo \n",
            "{'a': {'x': 100}, 'b': [10, 20, 30], 'c': (1, 2, 3, 4, 5)}\n"
          ]
        }
      ]
    },
    {
      "cell_type": "code",
      "source": [
        "dc_2['b'][-1] = 300"
      ],
      "metadata": {
        "id": "rCwuv3dZgqCq"
      },
      "execution_count": 73,
      "outputs": []
    },
    {
      "cell_type": "code",
      "source": [
        "print(f\"El diccionario con valores de distinto tipo \\n{dc_2}\")"
      ],
      "metadata": {
        "id": "2nu582FAg319",
        "outputId": "6bfe6372-998d-4163-d897-cccb75270efc",
        "colab": {
          "base_uri": "https://localhost:8080/"
        }
      },
      "execution_count": 74,
      "outputs": [
        {
          "output_type": "stream",
          "name": "stdout",
          "text": [
            "El diccionario con valores de distinto tipo \n",
            "{'a': {'x': 100}, 'b': [10, 20, 300], 'c': (1, 2, 3, 4, 5)}\n"
          ]
        }
      ]
    },
    {
      "cell_type": "code",
      "source": [
        "# Actividad\n",
        "# El diccionario dc_2 lo vamos a convertir a una lista con elementos que tendrán\n",
        "# pares a nivel de tuplas que contengan la clave y valor del diccionario\n",
        "l_dc_2 = list(dc_2.items())\n",
        "print(f\"La lista creada es \\n{l_dc_2}\")"
      ],
      "metadata": {
        "id": "vybaJWLNlh07",
        "outputId": "494c89c6-cae2-4520-c094-e4028f77be3e",
        "colab": {
          "base_uri": "https://localhost:8080/"
        }
      },
      "execution_count": 83,
      "outputs": [
        {
          "output_type": "stream",
          "name": "stdout",
          "text": [
            "La lista creada es \n",
            "[('a', {'x': 100}), ('b', [10, 20, 300]), ('c', (1, 2, 3, 4, 5))]\n"
          ]
        }
      ]
    },
    {
      "cell_type": "code",
      "source": [
        "# Acceder a la primera tupla y la vamos a convertir en una lista\n",
        "print(f\"\\nEl primer elemento de la nueva lista es {l_dc_2[0]}\")\n",
        "print(f\"El tipo de dato del primer elemento de la nueva lista es {type(l_dc_2[0])}\")\n",
        "l_dc_2_0 = list(l_dc_2[0])\n",
        "print(f\"\\nLa nueva lista creada es {l_dc_2_0}\")\n",
        "print(f\"La nueva lista creada es del tipo {type(l_dc_2_0)}\")"
      ],
      "metadata": {
        "id": "Mdp_4-3Nljof",
        "outputId": "d9081f74-250a-4137-ba3f-965d1d7a5571",
        "colab": {
          "base_uri": "https://localhost:8080/"
        }
      },
      "execution_count": 84,
      "outputs": [
        {
          "output_type": "stream",
          "name": "stdout",
          "text": [
            "\n",
            "El primer elemento de la nueva lista es ('a', {'x': 100})\n",
            "El tipo de dato del primer elemento de la nueva lista es <class 'tuple'>\n",
            "\n",
            "La nueva lista creada es ['a', {'x': 100}]\n",
            "La nueva lista creada es del tipo <class 'list'>\n"
          ]
        }
      ]
    },
    {
      "cell_type": "code",
      "source": [
        "# Y vamos a renombrar al primer elemento de nueva lista en \"xx\" en vez de \"a\"\n",
        "l_dc_2_0[0] = \"xx\"\n",
        "print(f\"\\nLa nueva lista actualizada es {l_dc_2_0}\")"
      ],
      "metadata": {
        "id": "wIam4ogPls23",
        "outputId": "08fcca43-f0a4-40f0-bc0f-0be3b68d4d08",
        "colab": {
          "base_uri": "https://localhost:8080/"
        }
      },
      "execution_count": 85,
      "outputs": [
        {
          "output_type": "stream",
          "name": "stdout",
          "text": [
            "\n",
            "La nueva lista actualizada es ['xx', {'x': 100}]\n"
          ]
        }
      ]
    },
    {
      "cell_type": "markdown",
      "source": [
        "Método clear()"
      ],
      "metadata": {
        "id": "pcEpuf8jy2zC"
      }
    },
    {
      "cell_type": "code",
      "source": [
        "%whos"
      ],
      "metadata": {
        "id": "tNaRLx9xy6N4",
        "outputId": "92c69f89-76eb-4b4d-ac9a-cdb10cfd528b",
        "colab": {
          "base_uri": "https://localhost:8080/"
        }
      },
      "execution_count": 86,
      "outputs": [
        {
          "output_type": "stream",
          "name": "stdout",
          "text": [
            "Variable     Type          Data/Info\n",
            "------------------------------------\n",
            "c            str           andrea\n",
            "dc_0         dict          n=0\n",
            "dc_1         dict          n=3\n",
            "dc_2         dict          n=3\n",
            "dc_2_ele2    list          n=3\n",
            "dc_3         dict          n=2\n",
            "dc_4         dict          n=3\n",
            "dc_5         dict          n=5\n",
            "dict_info    dict          n=4\n",
            "items_dc_1   dict_items    dict_items([('a', 1), ('b', 2), ('c', 3)])\n",
            "l_0          list          n=0\n",
            "l_dc_2       list          n=3\n",
            "l_dc_2_0     list          n=2\n",
            "l_dc_5       list          n=5\n",
            "t_0          tuple         n=0\n",
            "v            int           50\n"
          ]
        }
      ]
    },
    {
      "cell_type": "code",
      "source": [
        "print(f\"El diccionario con información personal es \\n{dict_info}\")"
      ],
      "metadata": {
        "id": "N7CDlbsszLPB",
        "outputId": "18d7990b-1a98-4686-dc5f-c8c3859e2c3b",
        "colab": {
          "base_uri": "https://localhost:8080/"
        }
      },
      "execution_count": 87,
      "outputs": [
        {
          "output_type": "stream",
          "name": "stdout",
          "text": [
            "El diccionario con información personal es \n",
            "{'nombre': 'Michael', 'apellido': 'Añazco', 'edad': 24, 'profesion': 'Ingeniero Industrial'}\n"
          ]
        }
      ]
    },
    {
      "cell_type": "code",
      "source": [
        "dict_info.clear()\n",
        "print(f\"El diccionario con información personal es \\n{dict_info}\")"
      ],
      "metadata": {
        "id": "7PhB6AqGzN7p",
        "outputId": "e9617424-7f37-407f-e3b0-7b1fb1f88e03",
        "colab": {
          "base_uri": "https://localhost:8080/"
        }
      },
      "execution_count": 88,
      "outputs": [
        {
          "output_type": "stream",
          "name": "stdout",
          "text": [
            "El diccionario con información personal es \n",
            "{}\n"
          ]
        }
      ]
    },
    {
      "cell_type": "code",
      "source": [
        "print(f\"El diccionario 'dc_3' es \\n{dc_3}\")"
      ],
      "metadata": {
        "id": "hRf8PduWzQgD",
        "outputId": "c8f77aeb-0d1a-472d-afe3-a82cf7d6f3b8",
        "colab": {
          "base_uri": "https://localhost:8080/"
        }
      },
      "execution_count": 89,
      "outputs": [
        {
          "output_type": "stream",
          "name": "stdout",
          "text": [
            "El diccionario 'dc_3' es \n",
            "{'a': 300, 'b': 200}\n"
          ]
        }
      ]
    },
    {
      "cell_type": "code",
      "source": [
        "# Crear al diccionario 'referencia'\n",
        "referencia = dc_3\n",
        "print(f\"El diccionario referencia es \\n{referencia}\")"
      ],
      "metadata": {
        "id": "yKmufX2uzUO3",
        "outputId": "c7d05558-f1ff-4282-c3bf-3aa1c7bf0aaa",
        "colab": {
          "base_uri": "https://localhost:8080/"
        }
      },
      "execution_count": 90,
      "outputs": [
        {
          "output_type": "stream",
          "name": "stdout",
          "text": [
            "El diccionario referencia es \n",
            "{'a': 300, 'b': 200}\n"
          ]
        }
      ]
    },
    {
      "cell_type": "code",
      "source": [
        "dc_3.clear()"
      ],
      "metadata": {
        "id": "S5ajMF5YzVy1"
      },
      "execution_count": 91,
      "outputs": []
    },
    {
      "cell_type": "code",
      "source": [
        "print(f\"El diccionario 'dc_3' es \\n{dc_3}\")"
      ],
      "metadata": {
        "id": "phlyjZmDzZhH",
        "outputId": "34d2a9ee-c99b-4116-cfc4-fb44bb4a063e",
        "colab": {
          "base_uri": "https://localhost:8080/"
        }
      },
      "execution_count": 92,
      "outputs": [
        {
          "output_type": "stream",
          "name": "stdout",
          "text": [
            "El diccionario 'dc_3' es \n",
            "{}\n"
          ]
        }
      ]
    },
    {
      "cell_type": "code",
      "source": [
        "print(f\"El diccionario referencia es \\n{referencia}\")"
      ],
      "metadata": {
        "id": "SJeNlZnVzcAV",
        "outputId": "021f1a2f-73f6-4ea7-d376-a2a75520f223",
        "colab": {
          "base_uri": "https://localhost:8080/"
        }
      },
      "execution_count": 93,
      "outputs": [
        {
          "output_type": "stream",
          "name": "stdout",
          "text": [
            "El diccionario referencia es \n",
            "{}\n"
          ]
        }
      ]
    },
    {
      "cell_type": "markdown",
      "source": [
        "Método keys()"
      ],
      "metadata": {
        "id": "qXqMcuwyzf_r"
      }
    },
    {
      "cell_type": "code",
      "source": [
        "# Crear un diccionario\n",
        "\n",
        "dic_prod = {\n",
        "    \"detergente\":70,\n",
        "    \"arroz\": 20,\n",
        "    \"aceite\":10\n",
        "}\n",
        "\n",
        "print(f\"El diccionario de productos es \\n{dic_prod}\")"
      ],
      "metadata": {
        "id": "Yin1YyEPziK6",
        "outputId": "87b79ae2-6452-4f7c-99df-a1fdfc867448",
        "colab": {
          "base_uri": "https://localhost:8080/"
        }
      },
      "execution_count": 94,
      "outputs": [
        {
          "output_type": "stream",
          "name": "stdout",
          "text": [
            "El diccionario de productos es \n",
            "{'detergente': 70, 'arroz': 20, 'aceite': 10}\n"
          ]
        }
      ]
    },
    {
      "cell_type": "code",
      "source": [
        "dic_prod.keys()"
      ],
      "metadata": {
        "id": "56KEqDvvzk0l",
        "outputId": "de73b406-d81c-4789-9bb7-ab729552b679",
        "colab": {
          "base_uri": "https://localhost:8080/"
        }
      },
      "execution_count": 95,
      "outputs": [
        {
          "output_type": "execute_result",
          "data": {
            "text/plain": [
              "dict_keys(['detergente', 'arroz', 'aceite'])"
            ]
          },
          "metadata": {},
          "execution_count": 95
        }
      ]
    },
    {
      "cell_type": "code",
      "source": [
        "l_dic_prod_keys = list(dic_prod.keys())\n",
        "print(f\"La lista de claves del diccionario productos \\n{l_dic_prod_keys}\")"
      ],
      "metadata": {
        "id": "8Er0IYRAznXe",
        "outputId": "16ba9df7-3e72-4a0c-d4f2-d3e48919a9bb",
        "colab": {
          "base_uri": "https://localhost:8080/"
        }
      },
      "execution_count": 96,
      "outputs": [
        {
          "output_type": "stream",
          "name": "stdout",
          "text": [
            "La lista de claves del diccionario productos \n",
            "['detergente', 'arroz', 'aceite']\n"
          ]
        }
      ]
    },
    {
      "cell_type": "code",
      "source": [
        "for c in dic_prod.keys():\n",
        "  print(f\"La clave es {c}\")"
      ],
      "metadata": {
        "id": "jP9oo-gszq68",
        "outputId": "8edd7956-5620-4096-9802-b1bdacfc2522",
        "colab": {
          "base_uri": "https://localhost:8080/"
        }
      },
      "execution_count": 97,
      "outputs": [
        {
          "output_type": "stream",
          "name": "stdout",
          "text": [
            "La clave es detergente\n",
            "La clave es arroz\n",
            "La clave es aceite\n"
          ]
        }
      ]
    },
    {
      "cell_type": "code",
      "source": [
        "for c in l_dic_prod_keys:\n",
        "  print(f\"La clave es {c}\")"
      ],
      "metadata": {
        "id": "L4u5vju7ztfW",
        "outputId": "bd467c4a-b0f5-4692-9d1e-dfb54e93ba5a",
        "colab": {
          "base_uri": "https://localhost:8080/"
        }
      },
      "execution_count": 98,
      "outputs": [
        {
          "output_type": "stream",
          "name": "stdout",
          "text": [
            "La clave es detergente\n",
            "La clave es arroz\n",
            "La clave es aceite\n"
          ]
        }
      ]
    },
    {
      "cell_type": "code",
      "source": [
        "prod = 'aceite'\n",
        "\n",
        "if prod in dic_prod.keys():\n",
        "  print(f\"El producto {prod} existe en el diccionario.\")\n",
        "else:\n",
        "  print(f\"El producto {prod} no existe en el diccionario\")"
      ],
      "metadata": {
        "id": "KcOCQ46tzwGl",
        "outputId": "28308fba-8980-4776-ffff-477586f06caa",
        "colab": {
          "base_uri": "https://localhost:8080/"
        }
      },
      "execution_count": 99,
      "outputs": [
        {
          "output_type": "stream",
          "name": "stdout",
          "text": [
            "El producto aceite existe en el diccionario.\n"
          ]
        }
      ]
    },
    {
      "cell_type": "code",
      "source": [
        "prod = 'gaseosa'\n",
        "\n",
        "if prod in dic_prod.keys():\n",
        "  print(f\"El producto {prod} existe en el diccionario.\")\n",
        "else:\n",
        "  print(f\"El producto {prod} no existe en el diccionario\")"
      ],
      "metadata": {
        "id": "w_zdwc_nz1zp",
        "outputId": "ec30648c-ba51-4459-c12c-f307a88b42f5",
        "colab": {
          "base_uri": "https://localhost:8080/"
        }
      },
      "execution_count": 100,
      "outputs": [
        {
          "output_type": "stream",
          "name": "stdout",
          "text": [
            "El producto gaseosa no existe en el diccionario\n"
          ]
        }
      ]
    },
    {
      "cell_type": "code",
      "source": [
        "claves_dic_prod = dic_prod.keys()\n",
        "print(f\"Las claves del diccionario productos son \\n{claves_dic_prod}\")"
      ],
      "metadata": {
        "id": "SJ4xcrRPz27N",
        "outputId": "dd355d15-64e2-42fd-b79c-fba7e6cf6950",
        "colab": {
          "base_uri": "https://localhost:8080/"
        }
      },
      "execution_count": 101,
      "outputs": [
        {
          "output_type": "stream",
          "name": "stdout",
          "text": [
            "Las claves del diccionario productos son \n",
            "dict_keys(['detergente', 'arroz', 'aceite'])\n"
          ]
        }
      ]
    },
    {
      "cell_type": "code",
      "source": [
        "dic_prod[\"cereal\"] = 15 # actualizo el diccionario\n",
        "for c in dic_prod.keys():\n",
        "  print(f\"La clave es {c}\")"
      ],
      "metadata": {
        "id": "dAa0f3fbz6ej",
        "outputId": "9b0766fe-1cb1-4a56-8cd1-45b87bb8554b",
        "colab": {
          "base_uri": "https://localhost:8080/"
        }
      },
      "execution_count": 102,
      "outputs": [
        {
          "output_type": "stream",
          "name": "stdout",
          "text": [
            "La clave es detergente\n",
            "La clave es arroz\n",
            "La clave es aceite\n",
            "La clave es cereal\n"
          ]
        }
      ]
    },
    {
      "cell_type": "code",
      "source": [
        "print(f\"Las claves del diccionario productos son \\n{claves_dic_prod}\")"
      ],
      "metadata": {
        "id": "gEGOS4qqz8kC",
        "outputId": "fc18b0d8-ea9c-4aef-a064-1f461d02fb04",
        "colab": {
          "base_uri": "https://localhost:8080/"
        }
      },
      "execution_count": 103,
      "outputs": [
        {
          "output_type": "stream",
          "name": "stdout",
          "text": [
            "Las claves del diccionario productos son \n",
            "dict_keys(['detergente', 'arroz', 'aceite', 'cereal'])\n"
          ]
        }
      ]
    }
  ]
}