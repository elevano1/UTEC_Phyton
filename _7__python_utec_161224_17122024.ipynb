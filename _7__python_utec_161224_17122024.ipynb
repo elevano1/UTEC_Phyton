{
  "nbformat": 4,
  "nbformat_minor": 0,
  "metadata": {
    "colab": {
      "provenance": [],
      "include_colab_link": true
    },
    "kernelspec": {
      "name": "python3",
      "display_name": "Python 3"
    },
    "language_info": {
      "name": "python"
    }
  },
  "cells": [
    {
      "cell_type": "markdown",
      "metadata": {
        "id": "view-in-github",
        "colab_type": "text"
      },
      "source": [
        "<a href=\"https://colab.research.google.com/github/elevano1/UTEC_Phyton/blob/main/_7__python_utec_161224_17122024.ipynb\" target=\"_parent\"><img src=\"https://colab.research.google.com/assets/colab-badge.svg\" alt=\"Open In Colab\"/></a>"
      ]
    },
    {
      "cell_type": "markdown",
      "source": [
        "# Numpy"
      ],
      "metadata": {
        "id": "M7ax-NH9Qw82"
      }
    },
    {
      "cell_type": "code",
      "execution_count": null,
      "metadata": {
        "id": "g6evhYb4QrvL"
      },
      "outputs": [],
      "source": [
        "# Llamar a la librería\n",
        "import numpy as np"
      ]
    },
    {
      "cell_type": "code",
      "source": [
        "# Crear un arreglo en numpy\n",
        "arr_1 = np.array([2,4,6])"
      ],
      "metadata": {
        "id": "wNH_N_ZFRHTI"
      },
      "execution_count": null,
      "outputs": []
    },
    {
      "cell_type": "code",
      "source": [
        "# Visualizar el arreglo\n",
        "print(f\"El arreglo en numpy es \\n{arr_1}\")"
      ],
      "metadata": {
        "colab": {
          "base_uri": "https://localhost:8080/"
        },
        "id": "Q2LXArvJRaxe",
        "outputId": "adba56c1-6dc2-4e1b-cbd1-30e8c33a71ef"
      },
      "execution_count": null,
      "outputs": [
        {
          "output_type": "stream",
          "name": "stdout",
          "text": [
            "El arreglo en numpy es \n",
            "[2 4 6]\n"
          ]
        }
      ]
    },
    {
      "cell_type": "code",
      "source": [
        "# Crear una lista\n",
        "lista_1 = [2,4,6]\n",
        "print(f\"La lista es \\n{lista_1}\")"
      ],
      "metadata": {
        "colab": {
          "base_uri": "https://localhost:8080/"
        },
        "id": "3XsqVLskRk2j",
        "outputId": "8874058e-5985-4c46-c587-d22c1b8b3c0d"
      },
      "execution_count": null,
      "outputs": [
        {
          "output_type": "stream",
          "name": "stdout",
          "text": [
            "La lista es \n",
            "[2, 4, 6]\n"
          ]
        }
      ]
    },
    {
      "cell_type": "code",
      "source": [
        "print(f\"El objeto arr_1 es del tipo \\n{type(arr_1)}\")\n",
        "print(f\"\\nEl objeto lista_1 es del tipo \\n{type(lista_1)}\")"
      ],
      "metadata": {
        "colab": {
          "base_uri": "https://localhost:8080/"
        },
        "id": "IKOZVtQdRwgx",
        "outputId": "17cd1dce-2b59-4858-cf32-4b3d5ba4ced2"
      },
      "execution_count": null,
      "outputs": [
        {
          "output_type": "stream",
          "name": "stdout",
          "text": [
            "El objeto arr_1 es del tipo \n",
            "<class 'numpy.ndarray'>\n",
            "\n",
            "El objeto lista_1 es del tipo \n",
            "<class 'list'>\n"
          ]
        }
      ]
    },
    {
      "cell_type": "code",
      "source": [
        "# Operaciones listas\n",
        "print(f\"El valor mínimo de la lista \\n{lista_1} es {min(lista_1)}\")\n",
        "print(f\"\\nEl valor máximo de la lista \\n{lista_1} es {max(lista_1)}\")\n",
        "print(f\"\\nLa suma total de la lista \\n{lista_1} es {sum(lista_1)}\")"
      ],
      "metadata": {
        "colab": {
          "base_uri": "https://localhost:8080/"
        },
        "id": "JLk0F3VoSGC5",
        "outputId": "09568c7a-afee-410c-cf01-04a8ad3cc4b8"
      },
      "execution_count": null,
      "outputs": [
        {
          "output_type": "stream",
          "name": "stdout",
          "text": [
            "El valor mínimo de la lista \n",
            "[2, 4, 6] es 2\n",
            "\n",
            "El valor máximo de la lista \n",
            "[2, 4, 6] es 6\n",
            "\n",
            "La suma total de la lista \n",
            "[2, 4, 6] es 12\n"
          ]
        }
      ]
    },
    {
      "cell_type": "code",
      "source": [
        "# El símbolo \"+\" permite concatenar listas\n",
        "lista_1 + [5]"
      ],
      "metadata": {
        "colab": {
          "base_uri": "https://localhost:8080/"
        },
        "id": "syypEvzBSvnE",
        "outputId": "e3f7f6ce-a76b-408d-8255-2f24d655eb76"
      },
      "execution_count": null,
      "outputs": [
        {
          "output_type": "execute_result",
          "data": {
            "text/plain": [
              "[2, 4, 6, 5]"
            ]
          },
          "metadata": {},
          "execution_count": 10
        }
      ]
    },
    {
      "cell_type": "code",
      "source": [
        "print(f\"El arreglo en numpy es \\n{arr_1}\")\n",
        "print(f\"Suma del arreglo en numpy con 5 es \\n{arr_1 + 5}\")"
      ],
      "metadata": {
        "colab": {
          "base_uri": "https://localhost:8080/"
        },
        "id": "EIXdc1GPTYLg",
        "outputId": "a3c2ca6e-46cd-4472-cb8c-4fa1cb0eabf0"
      },
      "execution_count": null,
      "outputs": [
        {
          "output_type": "stream",
          "name": "stdout",
          "text": [
            "El arreglo en numpy es \n",
            "[2 4 6]\n",
            "Suma del arreglo en numpy con 5 es \n",
            "[ 7  9 11]\n"
          ]
        }
      ]
    },
    {
      "cell_type": "code",
      "source": [
        "# Crear arreglos de numpy\n",
        "\n",
        "a1 = np.array([1,2,3])\n",
        "a2 = np.array([4,5,6])\n",
        "\n",
        "print(f\"El arreglo a1 es \\n{a1}\")\n",
        "print(f\"\\nEl arreglo a2 es \\n{a2}\")"
      ],
      "metadata": {
        "colab": {
          "base_uri": "https://localhost:8080/"
        },
        "id": "_MYwIeGhT6xV",
        "outputId": "f620b9fe-6e69-4116-d5f7-a28f7d6271d9"
      },
      "execution_count": null,
      "outputs": [
        {
          "output_type": "stream",
          "name": "stdout",
          "text": [
            "El arreglo a1 es \n",
            "[1 2 3]\n",
            "\n",
            "El arreglo a2 es \n",
            "[4 5 6]\n"
          ]
        }
      ]
    },
    {
      "cell_type": "code",
      "source": [
        "print(f\"El arreglo a1 es del tipo \\n{type(a1)}\")\n",
        "print(f\"\\nEl arreglo a2 es del tipo \\n{type(a2)}\")"
      ],
      "metadata": {
        "colab": {
          "base_uri": "https://localhost:8080/"
        },
        "id": "B7N437r5Up_A",
        "outputId": "86646bf6-5d19-426a-9ffc-c550a01aae4d"
      },
      "execution_count": null,
      "outputs": [
        {
          "output_type": "stream",
          "name": "stdout",
          "text": [
            "El arreglo a1 es del tipo \n",
            "<class 'numpy.ndarray'>\n",
            "\n",
            "El arreglo a2 es del tipo \n",
            "<class 'numpy.ndarray'>\n"
          ]
        }
      ]
    },
    {
      "cell_type": "code",
      "source": [
        "# Operaciones matemáticas con los arreglos de numpy\n",
        "arr_sum = a1 + a2\n",
        "arr_prod = a1 * a2\n",
        "print(f\"La suma de los arreglos es \\n{arr_sum}\")\n",
        "print(f\"\\nLa multiplicación de los arreglos es \\n{arr_prod}\")"
      ],
      "metadata": {
        "colab": {
          "base_uri": "https://localhost:8080/"
        },
        "id": "Oep_gqWsU4g8",
        "outputId": "f727a0ee-fa89-4af3-904b-f4a76f2cbbd7"
      },
      "execution_count": null,
      "outputs": [
        {
          "output_type": "stream",
          "name": "stdout",
          "text": [
            "La suma de los arreglos es \n",
            "[5 7 9]\n",
            "\n",
            "La multiplicación de los arreglos es \n",
            "[ 4 10 18]\n"
          ]
        }
      ]
    },
    {
      "cell_type": "code",
      "source": [
        "# Matrices de 2D\n",
        "mat_4 = np.array([[1,2,3],[4,5,6]])\n",
        "print(f\"La matriz de 2D es \\n{mat_4}\")"
      ],
      "metadata": {
        "colab": {
          "base_uri": "https://localhost:8080/"
        },
        "id": "g1gxfd7fVjc1",
        "outputId": "437dccd9-c3dc-4ae7-8be7-95d229345efc"
      },
      "execution_count": null,
      "outputs": [
        {
          "output_type": "stream",
          "name": "stdout",
          "text": [
            "La matriz de 2D es \n",
            "[[1 2 3]\n",
            " [4 5 6]]\n"
          ]
        }
      ]
    },
    {
      "cell_type": "code",
      "source": [
        "# Crear una lista de listas\n",
        "ll_1 = [[10,20,30],[10,10,10]]\n",
        "print(f\"La lista de listas es \\n{ll_1}\")\n",
        "print(f\"\\nEl objeto ll_1 es del tipo \\n{type(ll_1)}\")"
      ],
      "metadata": {
        "colab": {
          "base_uri": "https://localhost:8080/"
        },
        "id": "hDeFOdGYW02Q",
        "outputId": "76b77978-7b1c-4f2d-e8f4-129d6e5c88ce"
      },
      "execution_count": null,
      "outputs": [
        {
          "output_type": "stream",
          "name": "stdout",
          "text": [
            "La lista de listas es \n",
            "[[10, 20, 30], [10, 10, 10]]\n",
            "\n",
            "El objeto ll_1 es del tipo \n",
            "<class 'list'>\n"
          ]
        }
      ]
    },
    {
      "cell_type": "code",
      "source": [
        "# Crear una matriz en numpy a partir de una lista\n",
        "\n",
        "mat_6 = np.array(ll_1)\n",
        "print(f\"La matriz de 2D es \\n{mat_6}\")\n",
        "print(f\"\\nEl objeto mat_6 es del tipo \\n{type(mat_6)}\")"
      ],
      "metadata": {
        "colab": {
          "base_uri": "https://localhost:8080/"
        },
        "id": "9VYr7KCjXjoW",
        "outputId": "41a4ed77-7d66-4182-abc7-7a8f24091283"
      },
      "execution_count": null,
      "outputs": [
        {
          "output_type": "stream",
          "name": "stdout",
          "text": [
            "La matriz de 2D es \n",
            "[[10 20 30]\n",
            " [10 10 10]]\n",
            "\n",
            "El objeto mat_6 es del tipo \n",
            "<class 'numpy.ndarray'>\n"
          ]
        }
      ]
    },
    {
      "cell_type": "code",
      "source": [
        "# Creamos una matriz 1D a parit de arange\n",
        "mat_7 = np.arange(15)\n",
        "print(f\"La matriz 1D de numpy es \\n{mat_7}\")\n",
        "print(f\"\\nEl objeto mat_7 es del tipo \\n{type(mat_7)}\")"
      ],
      "metadata": {
        "colab": {
          "base_uri": "https://localhost:8080/"
        },
        "id": "xVpociN9YCzM",
        "outputId": "181ab2b2-b7c8-4859-fb98-09a5d8e9a2a7"
      },
      "execution_count": null,
      "outputs": [
        {
          "output_type": "stream",
          "name": "stdout",
          "text": [
            "La matriz 1D de numpy es \n",
            "[ 0  1  2  3  4  5  6  7  8  9 10 11 12 13 14]\n",
            "\n",
            "El objeto mat_7 es del tipo \n",
            "<class 'numpy.ndarray'>\n"
          ]
        }
      ]
    },
    {
      "cell_type": "code",
      "source": [
        "# Crear una matriz 2D en numpy a partir de una matriz 1D\n",
        "mat_8 = mat_7.reshape(3,5) #3 filas, 5 columnas\n",
        "print(f\"La matriz 2D de numpy es \\n{mat_8}\")\n",
        "print(f\"\\nEl objeto mat_8 es del tipo \\n{type(mat_8)}\")"
      ],
      "metadata": {
        "colab": {
          "base_uri": "https://localhost:8080/"
        },
        "id": "zBCQkxowYszN",
        "outputId": "be9b8c17-c18b-49b3-c257-b1679e2d843b"
      },
      "execution_count": null,
      "outputs": [
        {
          "output_type": "stream",
          "name": "stdout",
          "text": [
            "La matriz 2D de numpy es \n",
            "[[ 0  1  2  3  4]\n",
            " [ 5  6  7  8  9]\n",
            " [10 11 12 13 14]]\n",
            "\n",
            "El objeto mat_8 es del tipo \n",
            "<class 'numpy.ndarray'>\n"
          ]
        }
      ]
    },
    {
      "cell_type": "code",
      "source": [
        "print(f\"El número de dimensiones del objeto mat_8 es {mat_8.ndim}\")\n",
        "print(f\"\\nEl tamaño de las dimensiones del objeto mat_8 es {mat_8.shape}\")\n",
        "print(f\"\\nEl número de elementos del objeto mat_8 es {mat_8.size}\")"
      ],
      "metadata": {
        "colab": {
          "base_uri": "https://localhost:8080/"
        },
        "id": "uL28s-jdZfRI",
        "outputId": "46d28fd4-08e6-4180-c4d6-3ac974a88edb"
      },
      "execution_count": null,
      "outputs": [
        {
          "output_type": "stream",
          "name": "stdout",
          "text": [
            "El número de dimensiones del objeto mat_8 es 2\n",
            "\n",
            "El tamaño de las dimensiones del objeto mat_8 es (3, 5)\n",
            "\n",
            "El número de elementos del objeto mat_8 es 15\n"
          ]
        }
      ]
    },
    {
      "cell_type": "code",
      "source": [
        "# Crear una matriz de ceros con determinadas dimensiones\n",
        "mat_9 = np.zeros((4,3))"
      ],
      "metadata": {
        "id": "lZJSIKI-aTZV"
      },
      "execution_count": null,
      "outputs": []
    },
    {
      "cell_type": "code",
      "source": [
        "# Las características de la matriz\n",
        "print(f\"La matriz mat_9 es \\n{mat_9}\")\n",
        "print(f\"\\nEl objeto mat_9 es del tipo \\n{type(mat_9)}\")\n",
        "print(f\"\\nEl número de dimensiones de la matriz mat_9 es {mat_9.ndim}\")\n",
        "print(f\"\\nEl tamaño de las dimensiones de la matriz mat_9 es {mat_9.shape}\")\n",
        "print(f\"\\nEl número de elementos de la matriz mat_9 es {mat_9.size}\")"
      ],
      "metadata": {
        "colab": {
          "base_uri": "https://localhost:8080/"
        },
        "id": "4bvzOoLMeVOe",
        "outputId": "d04f224a-48f0-406d-a51b-9dfcabbcb580"
      },
      "execution_count": null,
      "outputs": [
        {
          "output_type": "stream",
          "name": "stdout",
          "text": [
            "La matriz mat_9 es \n",
            "[[0. 0. 0.]\n",
            " [0. 0. 0.]\n",
            " [0. 0. 0.]\n",
            " [0. 0. 0.]]\n",
            "\n",
            "El objeto mat_9 es del tipo \n",
            "<class 'numpy.ndarray'>\n",
            "\n",
            "El número de dimensiones de la matriz mat_9 es 2\n",
            "\n",
            "El tamaño de las dimensiones de la matriz mat_9 es (4, 3)\n",
            "\n",
            "El número de elementos de la matriz mat_9 es 12\n"
          ]
        }
      ]
    },
    {
      "cell_type": "code",
      "source": [
        "# Crear una matriz de valores espaciados en un intervalo\n",
        "mat_10 = np.linspace(50,60,20)\n",
        "# Las características de la matriz\n",
        "print(f\"La matriz mat_10 es \\n{mat_10}\")\n",
        "print(f\"\\nEl objeto mat_10 es del tipo \\n{type(mat_10)}\")\n",
        "print(f\"\\nEl número de dimensiones de la matriz mat_10 es {mat_10.ndim}\")\n",
        "print(f\"\\nEl tamaño de las dimensiones de la matriz mat_10 es {mat_10.shape}\")\n",
        "print(f\"\\nEl número de elementos de la matriz mat_10 es {mat_10.size}\")"
      ],
      "metadata": {
        "colab": {
          "base_uri": "https://localhost:8080/"
        },
        "id": "AHxgSSv6fDzC",
        "outputId": "308a0956-a5dd-42a4-81d3-ff609f4db1e6"
      },
      "execution_count": null,
      "outputs": [
        {
          "output_type": "stream",
          "name": "stdout",
          "text": [
            "La matriz mat_10 es \n",
            "[50.         50.52631579 51.05263158 51.57894737 52.10526316 52.63157895\n",
            " 53.15789474 53.68421053 54.21052632 54.73684211 55.26315789 55.78947368\n",
            " 56.31578947 56.84210526 57.36842105 57.89473684 58.42105263 58.94736842\n",
            " 59.47368421 60.        ]\n",
            "\n",
            "El objeto mat_10 es del tipo \n",
            "<class 'numpy.ndarray'>\n",
            "\n",
            "El número de dimensiones de la matriz mat_10 es 1\n",
            "\n",
            "El tamaño de las dimensiones de la matriz mat_10 es (20,)\n",
            "\n",
            "El número de elementos de la matriz mat_10 es 20\n"
          ]
        }
      ]
    },
    {
      "cell_type": "code",
      "source": [
        "l_0 = [30,32,40,50,65]\n",
        "print(f\"El objeto l_0 es {l_0}\")\n",
        "print(f\"El objeto l_0 es del tipo {type(l_0)}\")"
      ],
      "metadata": {
        "colab": {
          "base_uri": "https://localhost:8080/"
        },
        "id": "I6qfHJdvfp4B",
        "outputId": "09e1806a-7ddc-433e-87df-0c5e70d9b6f7"
      },
      "execution_count": null,
      "outputs": [
        {
          "output_type": "stream",
          "name": "stdout",
          "text": [
            "El objeto l_0 es [30, 32, 40, 50, 65]\n",
            "El objeto l_0 es del tipo <class 'list'>\n"
          ]
        }
      ]
    },
    {
      "cell_type": "code",
      "source": [
        "mat_11 = np.array(l_0) # Convertir una lista en un arreglo numpy\n",
        "print(f\"El objeto mat_11 es {mat_11}\")\n",
        "print(f\"El objeto mat_11 es del tipo {type(mat_11)}\")"
      ],
      "metadata": {
        "colab": {
          "base_uri": "https://localhost:8080/"
        },
        "id": "BPLlnuJHhLeY",
        "outputId": "ff2e4732-df81-4116-e955-5a232b7e2467"
      },
      "execution_count": null,
      "outputs": [
        {
          "output_type": "stream",
          "name": "stdout",
          "text": [
            "El objeto mat_11 es [30 32 40 50 65]\n",
            "El objeto mat_11 es del tipo <class 'numpy.ndarray'>\n"
          ]
        }
      ]
    },
    {
      "cell_type": "code",
      "source": [
        "# Las características de la matriz\n",
        "print(f\"La matriz mat_11 es \\n{mat_11}\")\n",
        "print(f\"\\nEl objeto mat_11 es del tipo \\n{type(mat_11)}\")\n",
        "print(f\"\\nEl número de dimensiones de la matriz mat_11 es {mat_11.ndim}\")\n",
        "print(f\"\\nEl tamaño de las dimensiones de la matriz mat_11 es {mat_11.shape}\")\n",
        "print(f\"\\nEl número de elementos de la matriz mat_11 es {mat_11.size}\")"
      ],
      "metadata": {
        "colab": {
          "base_uri": "https://localhost:8080/"
        },
        "id": "uN22MonEhLrv",
        "outputId": "4947e5cc-9ddb-4538-80c7-0d6ec8fc3784"
      },
      "execution_count": null,
      "outputs": [
        {
          "output_type": "stream",
          "name": "stdout",
          "text": [
            "La matriz mat_11 es \n",
            "[30 32 40 50 65]\n",
            "\n",
            "El objeto mat_11 es del tipo \n",
            "<class 'numpy.ndarray'>\n",
            "\n",
            "El número de dimensiones de la matriz mat_11 es 1\n",
            "\n",
            "El tamaño de las dimensiones de la matriz mat_11 es (5,)\n",
            "\n",
            "El número de elementos de la matriz mat_11 es 5\n"
          ]
        }
      ]
    },
    {
      "cell_type": "code",
      "source": [
        "import numpy as np\n",
        "mat_12 = np.arange(24).reshape(2,4,3)\n",
        "# Las características de la matriz\n",
        "print(f\"La matriz mat_12 es \\n{mat_12}\")\n",
        "print(f\"\\nEl objeto mat_12 es del tipo \\n{type(mat_12)}\")\n",
        "print(f\"\\nEl número de dimensiones de la matriz mat_12 es {mat_12.ndim}\")\n",
        "print(f\"\\nEl tamaño de las dimensiones de la matriz mat_12 es {mat_12.shape}\")\n",
        "print(f\"\\nEl número de elementos de la matriz mat_12 es {mat_12.size}\")"
      ],
      "metadata": {
        "colab": {
          "base_uri": "https://localhost:8080/"
        },
        "id": "_CPKGXr0hL3T",
        "outputId": "b0de0182-2928-4f0c-935a-d3fdc75b7c71"
      },
      "execution_count": null,
      "outputs": [
        {
          "output_type": "stream",
          "name": "stdout",
          "text": [
            "La matriz mat_12 es \n",
            "[[[ 0  1  2]\n",
            "  [ 3  4  5]\n",
            "  [ 6  7  8]\n",
            "  [ 9 10 11]]\n",
            "\n",
            " [[12 13 14]\n",
            "  [15 16 17]\n",
            "  [18 19 20]\n",
            "  [21 22 23]]]\n",
            "\n",
            "El objeto mat_12 es del tipo \n",
            "<class 'numpy.ndarray'>\n",
            "\n",
            "El número de dimensiones de la matriz mat_12 es 3\n",
            "\n",
            "El tamaño de las dimensiones de la matriz mat_12 es (2, 4, 3)\n",
            "\n",
            "El número de elementos de la matriz mat_12 es 24\n"
          ]
        }
      ]
    },
    {
      "cell_type": "code",
      "source": [
        "print(f\"\\nEl número de dimensiones de la matriz mat_12 es {mat_12.ndim}\") # Matriz de 3D\n",
        "print(f\"\\nLa matriz mat_12 se convierte con la función ravel en \\n{mat_12.ravel()}\")\n",
        "mat_12 = mat_12.ravel()"
      ],
      "metadata": {
        "colab": {
          "base_uri": "https://localhost:8080/"
        },
        "id": "G1Z1pK-hhMCc",
        "outputId": "ac1d067f-9500-4b5c-e8ee-0b34684390e2"
      },
      "execution_count": null,
      "outputs": [
        {
          "output_type": "stream",
          "name": "stdout",
          "text": [
            "\n",
            "El número de dimensiones de la matriz mat_12 es 3\n",
            "\n",
            "La matriz mat_12 se convierte con la función ravel en \n",
            "[ 0  1  2  3  4  5  6  7  8  9 10 11 12 13 14 15 16 17 18 19 20 21 22 23]\n"
          ]
        }
      ]
    },
    {
      "cell_type": "code",
      "source": [
        "print(f\"\\nEl número de dimensiones de la matriz mat_12 es {mat_12.ndim}\")"
      ],
      "metadata": {
        "colab": {
          "base_uri": "https://localhost:8080/"
        },
        "id": "uVGF2oqMNS8n",
        "outputId": "935e4086-f4b0-4656-f3ef-eb0125f5be12"
      },
      "execution_count": null,
      "outputs": [
        {
          "output_type": "stream",
          "name": "stdout",
          "text": [
            "\n",
            "El número de dimensiones de la matriz mat_12 es 1\n"
          ]
        }
      ]
    },
    {
      "cell_type": "code",
      "source": [
        "# np.array(objeto) => objeto se convierte en numpy array\n",
        "ll_x = [[57,21,48,0],[71,27,60,0],[111,51,96,0]]\n",
        "print(f\"La lista de listas es \\n{ll_x}\")"
      ],
      "metadata": {
        "colab": {
          "base_uri": "https://localhost:8080/"
        },
        "id": "KCofsUZpQFW_",
        "outputId": "d1fc11c9-535e-4f9d-ce42-e9e8496182cd"
      },
      "execution_count": null,
      "outputs": [
        {
          "output_type": "stream",
          "name": "stdout",
          "text": [
            "La lista de listas es \n",
            "[[57, 21, 48, 0], [71, 27, 60, 0], [111, 51, 96, 0]]\n"
          ]
        }
      ]
    },
    {
      "cell_type": "code",
      "source": [
        "mat_13 = np.array(ll_x)\n",
        "print(f\"La matriz mat_13 es \\n{mat_13}\")"
      ],
      "metadata": {
        "colab": {
          "base_uri": "https://localhost:8080/"
        },
        "id": "s47KbA5oSmBa",
        "outputId": "d0ca6380-1b19-485d-efc1-8d480879c718"
      },
      "execution_count": null,
      "outputs": [
        {
          "output_type": "stream",
          "name": "stdout",
          "text": [
            "La matriz mat_13 es \n",
            "[[ 57  21  48   0]\n",
            " [ 71  27  60   0]\n",
            " [111  51  96   0]]\n"
          ]
        }
      ]
    },
    {
      "cell_type": "code",
      "source": [
        "mat_13 = np.array([\n",
        "    [  # Primera matriz\n",
        "        [57, 21, 48, 0],\n",
        "        [71, 27, 60, 0],\n",
        "        [111, 51, 96, 0]\n",
        "    ],\n",
        "    [  # Segunda matriz\n",
        "        [66, 16, 36, 18],\n",
        "        [95, 22, 58, 29],\n",
        "        [83, 20, 46, 23]\n",
        "    ],\n",
        "    [  # Tercera matriz\n",
        "        [44, 34, 72, 44],\n",
        "        [34, 32, 72, 34],\n",
        "        [13, 25, 64, 13]\n",
        "    ]\n",
        "])"
      ],
      "metadata": {
        "id": "-rgDuAncS1Mg"
      },
      "execution_count": null,
      "outputs": []
    },
    {
      "cell_type": "code",
      "source": [
        "# Las características de la matriz\n",
        "print(f\"La matriz mat_13 es \\n{mat_13}\")\n",
        "print(f\"\\nEl objeto mat_13 es del tipo \\n{type(mat_13)}\")\n",
        "print(f\"\\nEl número de dimensiones de la matriz mat_13 es {mat_13.ndim}\")\n",
        "print(f\"\\nEl tamaño de las dimensiones de la matriz mat_13 es {mat_13.shape}\")\n",
        "print(f\"\\nEl número de elementos de la matriz mat_13 es {mat_13.size}\")"
      ],
      "metadata": {
        "colab": {
          "base_uri": "https://localhost:8080/"
        },
        "id": "Jt1CXWeEVHps",
        "outputId": "0e9583f9-9098-44d2-e6bc-8f5400f87f6f"
      },
      "execution_count": null,
      "outputs": [
        {
          "output_type": "stream",
          "name": "stdout",
          "text": [
            "La matriz mat_13 es \n",
            "[[[ 57  21  48   0]\n",
            "  [ 71  27  60   0]\n",
            "  [111  51  96   0]]\n",
            "\n",
            " [[ 66  16  36  18]\n",
            "  [ 95  22  58  29]\n",
            "  [ 83  20  46  23]]\n",
            "\n",
            " [[ 44  34  72  44]\n",
            "  [ 34  32  72  34]\n",
            "  [ 13  25  64  13]]]\n",
            "\n",
            "El objeto mat_13 es del tipo \n",
            "<class 'numpy.ndarray'>\n",
            "\n",
            "El número de dimensiones de la matriz mat_13 es 3\n",
            "\n",
            "El tamaño de las dimensiones de la matriz mat_13 es (3, 3, 4)\n",
            "\n",
            "El número de elementos de la matriz mat_13 es 36\n"
          ]
        }
      ]
    },
    {
      "cell_type": "code",
      "source": [
        "# Crear una matriz con la ayuda de numpy de 3D que tenga 6 matrices de 2 filas x 2 columnas\n",
        "# Podemos usar la función arange() para generar los elementos de la matriz\n",
        "mat_14 = np.arange(24).reshape(6,2,2)\n",
        "# Las características de la matriz\n",
        "print(f\"La matriz mat_14 es \\n{mat_14}\")\n",
        "print(f\"\\nEl objeto mat_14 es del tipo \\n{type(mat_14)}\")\n",
        "print(f\"\\nEl número de dimensiones de la matriz mat_14 es {mat_14.ndim}\")\n",
        "print(f\"\\nEl tamaño de las dimensiones de la matriz mat_14 es {mat_14.shape}\")\n",
        "print(f\"\\nEl número de elementos de la matriz mat_14 es {mat_14.size}\")"
      ],
      "metadata": {
        "colab": {
          "base_uri": "https://localhost:8080/"
        },
        "id": "eBAQbi50VtR0",
        "outputId": "1581069c-f148-48e7-e4a3-277302f1166a"
      },
      "execution_count": null,
      "outputs": [
        {
          "output_type": "stream",
          "name": "stdout",
          "text": [
            "La matriz mat_14 es \n",
            "[[[ 0  1]\n",
            "  [ 2  3]]\n",
            "\n",
            " [[ 4  5]\n",
            "  [ 6  7]]\n",
            "\n",
            " [[ 8  9]\n",
            "  [10 11]]\n",
            "\n",
            " [[12 13]\n",
            "  [14 15]]\n",
            "\n",
            " [[16 17]\n",
            "  [18 19]]\n",
            "\n",
            " [[20 21]\n",
            "  [22 23]]]\n",
            "\n",
            "El objeto mat_14 es del tipo \n",
            "<class 'numpy.ndarray'>\n",
            "\n",
            "El número de dimensiones de la matriz mat_14 es 3\n",
            "\n",
            "El tamaño de las dimensiones de la matriz mat_14 es (6, 2, 2)\n",
            "\n",
            "El número de elementos de la matriz mat_14 es 24\n"
          ]
        }
      ]
    },
    {
      "cell_type": "code",
      "source": [
        "# Acceder a los elementos de una matriz 3D\n",
        "\n",
        "print(f\"Los elementos de la primera matriz mat_13 son \\n{mat_13[0]}\")\n",
        "print(f\"\\nLos elementos de la segunda matriz mat_13 son \\n{mat_13[1]}\")\n",
        "print(f\"\\nLos elementos de la tercera matriz mat_13 son \\n{mat_13[2]}\")"
      ],
      "metadata": {
        "colab": {
          "base_uri": "https://localhost:8080/"
        },
        "id": "xPuvd7s0W2X5",
        "outputId": "17e62bcd-ee8b-4fca-cbb1-68ad979da15b"
      },
      "execution_count": null,
      "outputs": [
        {
          "output_type": "stream",
          "name": "stdout",
          "text": [
            "Los elementos de la primera matriz mat_13 son \n",
            "[[ 57  21  48   0]\n",
            " [ 71  27  60   0]\n",
            " [111  51  96   0]]\n",
            "\n",
            "Los elementos de la segunda matriz mat_13 son \n",
            "[[66 16 36 18]\n",
            " [95 22 58 29]\n",
            " [83 20 46 23]]\n",
            "\n",
            "Los elementos de la tercera matriz mat_13 son \n",
            "[[44 34 72 44]\n",
            " [34 32 72 34]\n",
            " [13 25 64 13]]\n"
          ]
        }
      ]
    },
    {
      "cell_type": "code",
      "source": [
        "print(f\"Los elementos de la primera fila y la primera matriz mat_13 son \\n{mat_13[0][0]}\")"
      ],
      "metadata": {
        "colab": {
          "base_uri": "https://localhost:8080/"
        },
        "id": "3jc7JJlZYavj",
        "outputId": "703366ee-9ce5-42b8-af12-0980b5d20e5f"
      },
      "execution_count": null,
      "outputs": [
        {
          "output_type": "stream",
          "name": "stdout",
          "text": [
            "Los elementos de la primera fila y la primera matriz mat_13 son \n",
            "[57 21 48  0]\n"
          ]
        }
      ]
    },
    {
      "cell_type": "code",
      "source": [
        "print(f\"Los elementos de la tercera fila de la segunda matriz mat_13 son \\n{mat_13[1][2]}\")"
      ],
      "metadata": {
        "colab": {
          "base_uri": "https://localhost:8080/"
        },
        "id": "X9ZA8pWQXkLj",
        "outputId": "b56742fb-dd0d-44c2-d247-c4927fa81882"
      },
      "execution_count": null,
      "outputs": [
        {
          "output_type": "stream",
          "name": "stdout",
          "text": [
            "Los elementos de la tercera fila de la segunda matriz mat_13 son \n",
            "[83 20 46 23]\n"
          ]
        }
      ]
    },
    {
      "cell_type": "code",
      "source": [
        "print(f\"Los elementos de la tercera fila de la segunda matriz mat_13 son \\n{mat_13[1][2][0]}\")"
      ],
      "metadata": {
        "colab": {
          "base_uri": "https://localhost:8080/"
        },
        "id": "Pu43ZhW-ZaZU",
        "outputId": "ad201837-348e-4c97-9119-2bb3984e41e8"
      },
      "execution_count": null,
      "outputs": [
        {
          "output_type": "stream",
          "name": "stdout",
          "text": [
            "Los elementos de la tercera fila de la segunda matriz mat_13 son \n",
            "83\n"
          ]
        }
      ]
    },
    {
      "cell_type": "code",
      "source": [
        "print(f\"El valor mínimo de la matriz mat_13 es {mat_13.min()}\")\n",
        "print(f\"El valor máximo de la matriz mat_13 es {mat_13.max()}\")\n",
        "print(f\"La suma de los elementos de la matriz mat_13 es {mat_13.sum()}\")"
      ],
      "metadata": {
        "colab": {
          "base_uri": "https://localhost:8080/"
        },
        "id": "RQ-slN8GZgGi",
        "outputId": "c0c39d57-ef2c-41aa-c9dc-c8d3301457b2"
      },
      "execution_count": null,
      "outputs": [
        {
          "output_type": "stream",
          "name": "stdout",
          "text": [
            "El valor mínimo de la matriz mat_13 es 0\n",
            "El valor máximo de la matriz mat_13 es 111\n",
            "La suma de los elementos de la matriz mat_13 es 1535\n"
          ]
        }
      ]
    },
    {
      "cell_type": "markdown",
      "source": [
        "## Operaciones matemáticas"
      ],
      "metadata": {
        "id": "0hrw-5IkbXqW"
      }
    },
    {
      "cell_type": "code",
      "source": [
        "mat_15 = np.array([[3,1],[2,7]])\n",
        "# Las características de la matriz mat_15\n",
        "print(f\"La matriz es \\n{mat_15}\")\n",
        "print(f\"\\nEl objeto es del tipo \\n{type(mat_15)}\")\n",
        "print(f\"\\nEl número de dimensiones de la matriz es {mat_15.ndim}\")\n",
        "print(f\"\\nEl tamaño de las dimensiones de la matriz es {mat_15.shape}\")\n",
        "print(f\"\\nEl número de elementos de la matriz es {mat_15.size}\")"
      ],
      "metadata": {
        "colab": {
          "base_uri": "https://localhost:8080/"
        },
        "id": "g_mN9lsJZ_-w",
        "outputId": "4e838419-52c9-41a6-a550-69f56874c92a"
      },
      "execution_count": null,
      "outputs": [
        {
          "output_type": "stream",
          "name": "stdout",
          "text": [
            "La matriz es \n",
            "[[3 1]\n",
            " [2 7]]\n",
            "\n",
            "El objeto es del tipo \n",
            "<class 'numpy.ndarray'>\n",
            "\n",
            "El número de dimensiones de la matriz es 2\n",
            "\n",
            "El tamaño de las dimensiones de la matriz es (2, 2)\n",
            "\n",
            "El número de elementos de la matriz es 4\n"
          ]
        }
      ]
    },
    {
      "cell_type": "code",
      "source": [
        "mat_16 = np.array([[4,2],[5,7]])\n",
        "# Las características de la matriz mat_16\n",
        "print(f\"La matriz es \\n{mat_16}\")\n",
        "print(f\"\\nEl objeto es del tipo \\n{type(mat_16)}\")\n",
        "print(f\"\\nEl número de dimensiones de la matriz es {mat_16.ndim}\")\n",
        "print(f\"\\nEl tamaño de las dimensiones de la matriz es {mat_16.shape}\")\n",
        "print(f\"\\nEl número de elementos de la matriz es {mat_16.size}\")"
      ],
      "metadata": {
        "colab": {
          "base_uri": "https://localhost:8080/"
        },
        "id": "6LA5B_1rb07_",
        "outputId": "57dbc9a2-a6ce-4cd7-fe0d-ae229beb7e66"
      },
      "execution_count": null,
      "outputs": [
        {
          "output_type": "stream",
          "name": "stdout",
          "text": [
            "La matriz es \n",
            "[[4 2]\n",
            " [5 7]]\n",
            "\n",
            "El objeto es del tipo \n",
            "<class 'numpy.ndarray'>\n",
            "\n",
            "El número de dimensiones de la matriz es 2\n",
            "\n",
            "El tamaño de las dimensiones de la matriz es (2, 2)\n",
            "\n",
            "El número de elementos de la matriz es 4\n"
          ]
        }
      ]
    },
    {
      "cell_type": "code",
      "source": [
        "# Suma de matrices por método directo\n",
        "mat_17 = mat_15 + mat_16\n",
        "# Las características de la matriz mat_17\n",
        "print(f\"La matriz es \\n{mat_17}\")\n",
        "print(f\"\\nEl objeto es del tipo \\n{type(mat_17)}\")\n",
        "print(f\"\\nEl número de dimensiones de la matriz es {mat_17.ndim}\")\n",
        "print(f\"\\nEl tamaño de las dimensiones de la matriz es {mat_17.shape}\")\n",
        "print(f\"\\nEl número de elementos de la matriz es {mat_17.size}\")"
      ],
      "metadata": {
        "colab": {
          "base_uri": "https://localhost:8080/"
        },
        "id": "ffzonjJXcFi4",
        "outputId": "6204a727-6bf9-4847-f13a-5bb9c68fb918"
      },
      "execution_count": null,
      "outputs": [
        {
          "output_type": "stream",
          "name": "stdout",
          "text": [
            "La matriz es \n",
            "[[ 7  3]\n",
            " [ 7 14]]\n",
            "\n",
            "El objeto es del tipo \n",
            "<class 'numpy.ndarray'>\n",
            "\n",
            "El número de dimensiones de la matriz es 2\n",
            "\n",
            "El tamaño de las dimensiones de la matriz es (2, 2)\n",
            "\n",
            "El número de elementos de la matriz es 4\n"
          ]
        }
      ]
    },
    {
      "cell_type": "code",
      "source": [
        "# Suma de matrices por método add\n",
        "print(f\"La primera matriz es \\n{mat_15}\")\n",
        "print(f\"\\nLa segunda matriz es \\n{mat_16}\")\n",
        "print(f\"\\nLa matriz resultado de la suma es \\n{np.add(mat_15,mat_16)}\")"
      ],
      "metadata": {
        "colab": {
          "base_uri": "https://localhost:8080/"
        },
        "id": "j0V4g4dQccUT",
        "outputId": "62fb8599-c2c9-45db-ce78-bbaaca00b921"
      },
      "execution_count": null,
      "outputs": [
        {
          "output_type": "stream",
          "name": "stdout",
          "text": [
            "La primera matriz es \n",
            "[[3 1]\n",
            " [2 7]]\n",
            "\n",
            "La segunda matriz es \n",
            "[[4 2]\n",
            " [5 7]]\n",
            "\n",
            "La matriz resultado de la suma es \n",
            "[[ 7  3]\n",
            " [ 7 14]]\n"
          ]
        }
      ]
    },
    {
      "cell_type": "code",
      "source": [
        "# Resta de matrices\n",
        "print(f\"La primera matriz es \\n{mat_15}\")\n",
        "print(f\"\\nLa segunda matriz es \\n{mat_16}\")\n",
        "print(f\"\\nLa matriz resultado de la resta es \\n{mat_15-mat_16}\")"
      ],
      "metadata": {
        "colab": {
          "base_uri": "https://localhost:8080/"
        },
        "id": "wsGMQi9mc_RK",
        "outputId": "253e9097-d160-4021-d0f0-2071e4e91068"
      },
      "execution_count": null,
      "outputs": [
        {
          "output_type": "stream",
          "name": "stdout",
          "text": [
            "La primera matriz es \n",
            "[[3 1]\n",
            " [2 7]]\n",
            "\n",
            "La segunda matriz es \n",
            "[[4 2]\n",
            " [5 7]]\n",
            "\n",
            "La matriz resultado de la resta es \n",
            "[[-1 -1]\n",
            " [-3  0]]\n"
          ]
        }
      ]
    },
    {
      "cell_type": "code",
      "source": [
        "# Resta de matrices con método subtract\n",
        "print(f\"La primera matriz es \\n{mat_15}\")\n",
        "print(f\"\\nLa segunda matriz es \\n{mat_16}\")\n",
        "print(f\"\\nLa matriz resultado de la resta es \\n{np.subtract(mat_15,mat_16)}\")"
      ],
      "metadata": {
        "colab": {
          "base_uri": "https://localhost:8080/"
        },
        "id": "XVIA_CNthvCE",
        "outputId": "22da93a3-1ecc-44fd-8454-7c157a78b3ea"
      },
      "execution_count": null,
      "outputs": [
        {
          "output_type": "stream",
          "name": "stdout",
          "text": [
            "La primera matriz es \n",
            "[[3 1]\n",
            " [2 7]]\n",
            "\n",
            "La segunda matriz es \n",
            "[[4 2]\n",
            " [5 7]]\n",
            "\n",
            "La matriz resultado de la resta es \n",
            "[[-1 -1]\n",
            " [-3  0]]\n"
          ]
        }
      ]
    },
    {
      "cell_type": "code",
      "source": [
        "# Multiplicar matrices (a nivel de posiciones)\n",
        "print(f\"La primera matriz es \\n{mat_15}\")\n",
        "print(f\"\\nLa segunda matriz es \\n{mat_16}\")\n",
        "print(f\"\\nLa matriz resultado de la multiplicación es \\n{np.multiply(mat_15,mat_16)}\")"
      ],
      "metadata": {
        "colab": {
          "base_uri": "https://localhost:8080/"
        },
        "id": "K0LlpL6ziW2z",
        "outputId": "00bd0682-8b01-4bf8-d12d-534abbe699be"
      },
      "execution_count": null,
      "outputs": [
        {
          "output_type": "stream",
          "name": "stdout",
          "text": [
            "La primera matriz es \n",
            "[[3 1]\n",
            " [2 7]]\n",
            "\n",
            "La segunda matriz es \n",
            "[[4 2]\n",
            " [5 7]]\n",
            "\n",
            "La matriz resultado de la multiplicación es \n",
            "[[12  2]\n",
            " [10 49]]\n"
          ]
        }
      ]
    },
    {
      "cell_type": "code",
      "source": [
        "# Multiplicar matrices\n",
        "print(f\"La primera matriz es \\n{mat_15}\")\n",
        "print(f\"\\nLa segunda matriz es \\n{mat_16}\")\n",
        "print(f\"\\nLa matriz resultado de la multiplicación es \\n{mat_15.dot(mat_16)}\")"
      ],
      "metadata": {
        "colab": {
          "base_uri": "https://localhost:8080/"
        },
        "id": "MjLn1oSukXx3",
        "outputId": "941d4eed-8dba-49b6-b897-7e489effb6b6"
      },
      "execution_count": null,
      "outputs": [
        {
          "output_type": "stream",
          "name": "stdout",
          "text": [
            "La primera matriz es \n",
            "[[3 1]\n",
            " [2 7]]\n",
            "\n",
            "La segunda matriz es \n",
            "[[4 2]\n",
            " [5 7]]\n",
            "\n",
            "La matriz resultado de la multiplicación es \n",
            "[[17 13]\n",
            " [43 53]]\n"
          ]
        }
      ]
    },
    {
      "cell_type": "code",
      "source": [
        "mat_18 = np.array([[1,2],[3,4],[5,6]])\n",
        "mat_19 = np.array([[1,2,3],[3,4,5]])\n",
        "\n",
        "print(f\"La matriz mat_18 es \\n{mat_18}\")\n",
        "print(f\"\\nEl número de dimensiones de la matriz mat_18 es {mat_18.ndim}\")\n",
        "print(f\"\\nEl tamaño de las dimensiones de la matriz mat_18 es {mat_18.shape}\")\n",
        "\n",
        "print(f\"\\nLa matriz mat_19 es \\n{mat_19}\")\n",
        "print(f\"\\nEl número de dimensiones de la matriz mat_19 es {mat_19.ndim}\")\n",
        "print(f\"\\nEl tamaño de las dimensiones de la matriz mat_19 es {mat_19.shape}\")\n"
      ],
      "metadata": {
        "colab": {
          "base_uri": "https://localhost:8080/"
        },
        "id": "VZ_1YOuQnE-G",
        "outputId": "b2ecb0f6-7dd7-4336-fa15-d460d9adc9a6"
      },
      "execution_count": null,
      "outputs": [
        {
          "output_type": "stream",
          "name": "stdout",
          "text": [
            "La matriz mat_18 es \n",
            "[[1 2]\n",
            " [3 4]\n",
            " [5 6]]\n",
            "\n",
            "El número de dimensiones de la matriz mat_18 es 2\n",
            "\n",
            "El tamaño de las dimensiones de la matriz mat_18 es (3, 2)\n",
            "\n",
            "La matriz mat_19 es \n",
            "[[1 2 3]\n",
            " [3 4 5]]\n",
            "\n",
            "El número de dimensiones de la matriz mat_19 es 2\n",
            "\n",
            "El tamaño de las dimensiones de la matriz mat_19 es (2, 3)\n"
          ]
        }
      ]
    },
    {
      "cell_type": "code",
      "source": [
        "# Multiplicar matrices\n",
        "print(f\"La primera matriz es \\n{mat_18}\")\n",
        "print(f\"\\nLa segunda matriz es \\n{mat_19}\")\n",
        "print(f\"\\nLa matriz resultado de la multiplicación es \\n{mat_18.dot(mat_19)}\")\n",
        "print(f\"\\nLa matriz resultado de la multiplicación es \\n{mat_19.dot(mat_18)}\")"
      ],
      "metadata": {
        "colab": {
          "base_uri": "https://localhost:8080/"
        },
        "id": "tKBorDbloUFs",
        "outputId": "70450032-f89e-4b17-891d-a7e4297419b4"
      },
      "execution_count": null,
      "outputs": [
        {
          "output_type": "stream",
          "name": "stdout",
          "text": [
            "La primera matriz es \n",
            "[[1 2]\n",
            " [3 4]\n",
            " [5 6]]\n",
            "\n",
            "La segunda matriz es \n",
            "[[1 2 3]\n",
            " [3 4 5]]\n",
            "\n",
            "La matriz resultado de la multiplicación es \n",
            "[[ 7 10 13]\n",
            " [15 22 29]\n",
            " [23 34 45]]\n",
            "\n",
            "La matriz resultado de la multiplicación es \n",
            "[[22 28]\n",
            " [40 52]]\n"
          ]
        }
      ]
    },
    {
      "cell_type": "code",
      "source": [
        "print(f\"La primera matriz es \\n{mat_18}\")\n",
        "print(f\"\\nLa segunda matriz es \\n{mat_19}\")\n",
        "print(f\"\\nLa matriz resultado de la multiplicación es \\n{mat_18+mat_19}\")"
      ],
      "metadata": {
        "colab": {
          "base_uri": "https://localhost:8080/",
          "height": 323
        },
        "id": "riHOiqlXo-uE",
        "outputId": "990b30c0-e2a6-412a-df9e-330a28844e58"
      },
      "execution_count": null,
      "outputs": [
        {
          "output_type": "stream",
          "name": "stdout",
          "text": [
            "La primera matriz es \n",
            "[[1 2]\n",
            " [3 4]\n",
            " [5 6]]\n",
            "\n",
            "La segunda matriz es \n",
            "[[1 2 3]\n",
            " [3 4 5]]\n"
          ]
        },
        {
          "output_type": "error",
          "ename": "ValueError",
          "evalue": "operands could not be broadcast together with shapes (3,2) (2,3) ",
          "traceback": [
            "\u001b[0;31m---------------------------------------------------------------------------\u001b[0m",
            "\u001b[0;31mValueError\u001b[0m                                Traceback (most recent call last)",
            "\u001b[0;32m<ipython-input-39-9431da3814c9>\u001b[0m in \u001b[0;36m<cell line: 3>\u001b[0;34m()\u001b[0m\n\u001b[1;32m      1\u001b[0m \u001b[0mprint\u001b[0m\u001b[0;34m(\u001b[0m\u001b[0;34mf\"La primera matriz es \\n{mat_18}\"\u001b[0m\u001b[0;34m)\u001b[0m\u001b[0;34m\u001b[0m\u001b[0;34m\u001b[0m\u001b[0m\n\u001b[1;32m      2\u001b[0m \u001b[0mprint\u001b[0m\u001b[0;34m(\u001b[0m\u001b[0;34mf\"\\nLa segunda matriz es \\n{mat_19}\"\u001b[0m\u001b[0;34m)\u001b[0m\u001b[0;34m\u001b[0m\u001b[0;34m\u001b[0m\u001b[0m\n\u001b[0;32m----> 3\u001b[0;31m \u001b[0mprint\u001b[0m\u001b[0;34m(\u001b[0m\u001b[0;34mf\"\\nLa matriz resultado de la multiplicación es \\n{mat_18+mat_19}\"\u001b[0m\u001b[0;34m)\u001b[0m\u001b[0;34m\u001b[0m\u001b[0;34m\u001b[0m\u001b[0m\n\u001b[0m",
            "\u001b[0;31mValueError\u001b[0m: operands could not be broadcast together with shapes (3,2) (2,3) "
          ]
        }
      ]
    },
    {
      "cell_type": "code",
      "source": [
        "print(f\"La primera matriz es \\n{mat_15}\")\n",
        "print(f\"\\nLa segunda matriz es \\n{mat_16}\")\n",
        "print(f\"\\nLas matrices concatenadas \\n{np.concatenate([mat_15,mat_16],axis=0)}\")"
      ],
      "metadata": {
        "colab": {
          "base_uri": "https://localhost:8080/"
        },
        "id": "iGkMTESJpPHq",
        "outputId": "dd76e07e-0270-4398-df1b-17aac4057026"
      },
      "execution_count": null,
      "outputs": [
        {
          "output_type": "stream",
          "name": "stdout",
          "text": [
            "La primera matriz es \n",
            "[[3 1]\n",
            " [2 7]]\n",
            "\n",
            "La segunda matriz es \n",
            "[[4 2]\n",
            " [5 7]]\n",
            "\n",
            "Las matrices concatenadas \n",
            "[[3 1]\n",
            " [2 7]\n",
            " [4 2]\n",
            " [5 7]]\n"
          ]
        }
      ]
    },
    {
      "cell_type": "code",
      "source": [
        "print(f\"La primera matriz es \\n{mat_15}\")\n",
        "print(f\"\\nLa segunda matriz es \\n{mat_16}\")\n",
        "print(f\"\\nLas matrices concatenadas \\n{np.concatenate([mat_15,mat_16],axis=1)}\")"
      ],
      "metadata": {
        "colab": {
          "base_uri": "https://localhost:8080/"
        },
        "id": "camf5mlbqJ7e",
        "outputId": "8b818372-8575-4ef4-e4bf-b710b567d9d0"
      },
      "execution_count": null,
      "outputs": [
        {
          "output_type": "stream",
          "name": "stdout",
          "text": [
            "La primera matriz es \n",
            "[[3 1]\n",
            " [2 7]]\n",
            "\n",
            "La segunda matriz es \n",
            "[[4 2]\n",
            " [5 7]]\n",
            "\n",
            "Las matrices concatenadas \n",
            "[[3 1 4 2]\n",
            " [2 7 5 7]]\n"
          ]
        }
      ]
    },
    {
      "cell_type": "code",
      "source": [
        "# Multiplicar matrices\n",
        "print(f\"La primera matriz es \\n{mat_19}\")\n",
        "print(f\"\\nLa segunda matriz es \\n{mat_18}\")\n",
        "print(f\"\\nLa matriz resultado de la multiplicación es \\n{mat_19.dot(mat_18)}\")"
      ],
      "metadata": {
        "colab": {
          "base_uri": "https://localhost:8080/"
        },
        "id": "niWjoF-sqRRN",
        "outputId": "252843c8-bf52-4fa7-e5df-2338c821f7c3"
      },
      "execution_count": null,
      "outputs": [
        {
          "output_type": "stream",
          "name": "stdout",
          "text": [
            "La primera matriz es \n",
            "[[1 2 3]\n",
            " [3 4 5]]\n",
            "\n",
            "La segunda matriz es \n",
            "[[1 2]\n",
            " [3 4]\n",
            " [5 6]]\n",
            "\n",
            "La matriz resultado de la multiplicación es \n",
            "[[22 28]\n",
            " [40 52]]\n"
          ]
        }
      ]
    },
    {
      "cell_type": "code",
      "source": [],
      "metadata": {
        "id": "5ZV888_YrxQH"
      },
      "execution_count": null,
      "outputs": []
    }
  ]
}