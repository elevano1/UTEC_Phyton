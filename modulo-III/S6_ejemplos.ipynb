{
  "nbformat": 4,
  "nbformat_minor": 0,
  "metadata": {
    "colab": {
      "provenance": [],
      "include_colab_link": true
    },
    "kernelspec": {
      "name": "python3",
      "display_name": "Python 3"
    },
    "language_info": {
      "name": "python"
    }
  },
  "cells": [
    {
      "cell_type": "markdown",
      "metadata": {
        "id": "view-in-github",
        "colab_type": "text"
      },
      "source": [
        "<a href=\"https://colab.research.google.com/github/elevano1/UTEC_Phyton/blob/main/modulo-III/S6_ejemplos.ipynb\" target=\"_parent\"><img src=\"https://colab.research.google.com/assets/colab-badge.svg\" alt=\"Open In Colab\"/></a>"
      ]
    },
    {
      "cell_type": "markdown",
      "source": [
        "![picture](https://drive.google.com/uc?export=view&id=1KaUW3_JAieeY7WVNfoRiTSr2JsaeAcXi)"
      ],
      "metadata": {
        "id": "WoS6cAo-jmW_"
      }
    },
    {
      "cell_type": "markdown",
      "source": [
        "![image.png](data:image/png;base64,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)"
      ],
      "metadata": {
        "id": "6ZYHo6ChjaJ9"
      }
    },
    {
      "cell_type": "markdown",
      "source": [
        "\n",
        "# Módulo 3 - Sesión 6\n",
        "## Profesor: Germain Garcia Zanabria\n",
        "\n",
        "# **Ejemplos**\n",
        "\n",
        "**Temas**\n",
        "\n",
        "\n",
        "*   Instalación de ipywidgets\n",
        "*   Tipos de Widgets\n",
        "*   Organización en el DashBoard usando VBox y HBox\n",
        "*   Función interact()\n",
        "*   Exportar resultados .csv o como Excel\n",
        "*   Visualización de un mapa, usando Folium y probando la interacción\n",
        "\n"
      ],
      "metadata": {
        "id": "_5KaA03yjsPT"
      }
    },
    {
      "cell_type": "markdown",
      "source": [
        "## Instalar ipywidgets y folium"
      ],
      "metadata": {
        "id": "uQaTHUfKtm1Z"
      }
    },
    {
      "cell_type": "code",
      "source": [
        "!pip install ipywidgets pandas folium\n"
      ],
      "metadata": {
        "id": "oUVC_6rRtnL1",
        "colab": {
          "base_uri": "https://localhost:8080/"
        },
        "outputId": "b2a622c5-c58a-4494-874c-01f31d549aa3"
      },
      "execution_count": 1,
      "outputs": [
        {
          "output_type": "stream",
          "name": "stdout",
          "text": [
            "Requirement already satisfied: ipywidgets in /usr/local/lib/python3.11/dist-packages (7.7.1)\n",
            "Requirement already satisfied: pandas in /usr/local/lib/python3.11/dist-packages (2.2.2)\n",
            "Requirement already satisfied: folium in /usr/local/lib/python3.11/dist-packages (0.19.4)\n",
            "Requirement already satisfied: ipykernel>=4.5.1 in /usr/local/lib/python3.11/dist-packages (from ipywidgets) (5.5.6)\n",
            "Requirement already satisfied: ipython-genutils~=0.2.0 in /usr/local/lib/python3.11/dist-packages (from ipywidgets) (0.2.0)\n",
            "Requirement already satisfied: traitlets>=4.3.1 in /usr/local/lib/python3.11/dist-packages (from ipywidgets) (5.7.1)\n",
            "Requirement already satisfied: widgetsnbextension~=3.6.0 in /usr/local/lib/python3.11/dist-packages (from ipywidgets) (3.6.10)\n",
            "Requirement already satisfied: ipython>=4.0.0 in /usr/local/lib/python3.11/dist-packages (from ipywidgets) (7.34.0)\n",
            "Requirement already satisfied: jupyterlab-widgets>=1.0.0 in /usr/local/lib/python3.11/dist-packages (from ipywidgets) (3.0.13)\n",
            "Requirement already satisfied: numpy>=1.23.2 in /usr/local/lib/python3.11/dist-packages (from pandas) (1.26.4)\n",
            "Requirement already satisfied: python-dateutil>=2.8.2 in /usr/local/lib/python3.11/dist-packages (from pandas) (2.8.2)\n",
            "Requirement already satisfied: pytz>=2020.1 in /usr/local/lib/python3.11/dist-packages (from pandas) (2024.2)\n",
            "Requirement already satisfied: tzdata>=2022.7 in /usr/local/lib/python3.11/dist-packages (from pandas) (2025.1)\n",
            "Requirement already satisfied: branca>=0.6.0 in /usr/local/lib/python3.11/dist-packages (from folium) (0.8.1)\n",
            "Requirement already satisfied: jinja2>=2.9 in /usr/local/lib/python3.11/dist-packages (from folium) (3.1.5)\n",
            "Requirement already satisfied: requests in /usr/local/lib/python3.11/dist-packages (from folium) (2.32.3)\n",
            "Requirement already satisfied: xyzservices in /usr/local/lib/python3.11/dist-packages (from folium) (2025.1.0)\n",
            "Requirement already satisfied: jupyter-client in /usr/local/lib/python3.11/dist-packages (from ipykernel>=4.5.1->ipywidgets) (6.1.12)\n",
            "Requirement already satisfied: tornado>=4.2 in /usr/local/lib/python3.11/dist-packages (from ipykernel>=4.5.1->ipywidgets) (6.3.3)\n",
            "Requirement already satisfied: setuptools>=18.5 in /usr/local/lib/python3.11/dist-packages (from ipython>=4.0.0->ipywidgets) (75.1.0)\n",
            "Collecting jedi>=0.16 (from ipython>=4.0.0->ipywidgets)\n",
            "  Downloading jedi-0.19.2-py2.py3-none-any.whl.metadata (22 kB)\n",
            "Requirement already satisfied: decorator in /usr/local/lib/python3.11/dist-packages (from ipython>=4.0.0->ipywidgets) (4.4.2)\n",
            "Requirement already satisfied: pickleshare in /usr/local/lib/python3.11/dist-packages (from ipython>=4.0.0->ipywidgets) (0.7.5)\n",
            "Requirement already satisfied: prompt-toolkit!=3.0.0,!=3.0.1,<3.1.0,>=2.0.0 in /usr/local/lib/python3.11/dist-packages (from ipython>=4.0.0->ipywidgets) (3.0.50)\n",
            "Requirement already satisfied: pygments in /usr/local/lib/python3.11/dist-packages (from ipython>=4.0.0->ipywidgets) (2.18.0)\n",
            "Requirement already satisfied: backcall in /usr/local/lib/python3.11/dist-packages (from ipython>=4.0.0->ipywidgets) (0.2.0)\n",
            "Requirement already satisfied: matplotlib-inline in /usr/local/lib/python3.11/dist-packages (from ipython>=4.0.0->ipywidgets) (0.1.7)\n",
            "Requirement already satisfied: pexpect>4.3 in /usr/local/lib/python3.11/dist-packages (from ipython>=4.0.0->ipywidgets) (4.9.0)\n",
            "Requirement already satisfied: MarkupSafe>=2.0 in /usr/local/lib/python3.11/dist-packages (from jinja2>=2.9->folium) (3.0.2)\n",
            "Requirement already satisfied: six>=1.5 in /usr/local/lib/python3.11/dist-packages (from python-dateutil>=2.8.2->pandas) (1.17.0)\n",
            "Requirement already satisfied: notebook>=4.4.1 in /usr/local/lib/python3.11/dist-packages (from widgetsnbextension~=3.6.0->ipywidgets) (6.5.5)\n",
            "Requirement already satisfied: charset-normalizer<4,>=2 in /usr/local/lib/python3.11/dist-packages (from requests->folium) (3.4.1)\n",
            "Requirement already satisfied: idna<4,>=2.5 in /usr/local/lib/python3.11/dist-packages (from requests->folium) (3.10)\n",
            "Requirement already satisfied: urllib3<3,>=1.21.1 in /usr/local/lib/python3.11/dist-packages (from requests->folium) (2.3.0)\n",
            "Requirement already satisfied: certifi>=2017.4.17 in /usr/local/lib/python3.11/dist-packages (from requests->folium) (2024.12.14)\n",
            "Requirement already satisfied: parso<0.9.0,>=0.8.4 in /usr/local/lib/python3.11/dist-packages (from jedi>=0.16->ipython>=4.0.0->ipywidgets) (0.8.4)\n",
            "Requirement already satisfied: pyzmq<25,>=17 in /usr/local/lib/python3.11/dist-packages (from notebook>=4.4.1->widgetsnbextension~=3.6.0->ipywidgets) (24.0.1)\n",
            "Requirement already satisfied: argon2-cffi in /usr/local/lib/python3.11/dist-packages (from notebook>=4.4.1->widgetsnbextension~=3.6.0->ipywidgets) (23.1.0)\n",
            "Requirement already satisfied: jupyter-core>=4.6.1 in /usr/local/lib/python3.11/dist-packages (from notebook>=4.4.1->widgetsnbextension~=3.6.0->ipywidgets) (5.7.2)\n",
            "Requirement already satisfied: nbformat in /usr/local/lib/python3.11/dist-packages (from notebook>=4.4.1->widgetsnbextension~=3.6.0->ipywidgets) (5.10.4)\n",
            "Requirement already satisfied: nbconvert>=5 in /usr/local/lib/python3.11/dist-packages (from notebook>=4.4.1->widgetsnbextension~=3.6.0->ipywidgets) (7.16.5)\n",
            "Requirement already satisfied: nest-asyncio>=1.5 in /usr/local/lib/python3.11/dist-packages (from notebook>=4.4.1->widgetsnbextension~=3.6.0->ipywidgets) (1.6.0)\n",
            "Requirement already satisfied: Send2Trash>=1.8.0 in /usr/local/lib/python3.11/dist-packages (from notebook>=4.4.1->widgetsnbextension~=3.6.0->ipywidgets) (1.8.3)\n",
            "Requirement already satisfied: terminado>=0.8.3 in /usr/local/lib/python3.11/dist-packages (from notebook>=4.4.1->widgetsnbextension~=3.6.0->ipywidgets) (0.18.1)\n",
            "Requirement already satisfied: prometheus-client in /usr/local/lib/python3.11/dist-packages (from notebook>=4.4.1->widgetsnbextension~=3.6.0->ipywidgets) (0.21.1)\n",
            "Requirement already satisfied: nbclassic>=0.4.7 in /usr/local/lib/python3.11/dist-packages (from notebook>=4.4.1->widgetsnbextension~=3.6.0->ipywidgets) (1.2.0)\n",
            "Requirement already satisfied: ptyprocess>=0.5 in /usr/local/lib/python3.11/dist-packages (from pexpect>4.3->ipython>=4.0.0->ipywidgets) (0.7.0)\n",
            "Requirement already satisfied: wcwidth in /usr/local/lib/python3.11/dist-packages (from prompt-toolkit!=3.0.0,!=3.0.1,<3.1.0,>=2.0.0->ipython>=4.0.0->ipywidgets) (0.2.13)\n",
            "Requirement already satisfied: platformdirs>=2.5 in /usr/local/lib/python3.11/dist-packages (from jupyter-core>=4.6.1->notebook>=4.4.1->widgetsnbextension~=3.6.0->ipywidgets) (4.3.6)\n",
            "Requirement already satisfied: notebook-shim>=0.2.3 in /usr/local/lib/python3.11/dist-packages (from nbclassic>=0.4.7->notebook>=4.4.1->widgetsnbextension~=3.6.0->ipywidgets) (0.2.4)\n",
            "Requirement already satisfied: beautifulsoup4 in /usr/local/lib/python3.11/dist-packages (from nbconvert>=5->notebook>=4.4.1->widgetsnbextension~=3.6.0->ipywidgets) (4.12.3)\n",
            "Requirement already satisfied: bleach!=5.0.0 in /usr/local/lib/python3.11/dist-packages (from bleach[css]!=5.0.0->nbconvert>=5->notebook>=4.4.1->widgetsnbextension~=3.6.0->ipywidgets) (6.2.0)\n",
            "Requirement already satisfied: defusedxml in /usr/local/lib/python3.11/dist-packages (from nbconvert>=5->notebook>=4.4.1->widgetsnbextension~=3.6.0->ipywidgets) (0.7.1)\n",
            "Requirement already satisfied: jupyterlab-pygments in /usr/local/lib/python3.11/dist-packages (from nbconvert>=5->notebook>=4.4.1->widgetsnbextension~=3.6.0->ipywidgets) (0.3.0)\n",
            "Requirement already satisfied: mistune<4,>=2.0.3 in /usr/local/lib/python3.11/dist-packages (from nbconvert>=5->notebook>=4.4.1->widgetsnbextension~=3.6.0->ipywidgets) (3.1.0)\n",
            "Requirement already satisfied: nbclient>=0.5.0 in /usr/local/lib/python3.11/dist-packages (from nbconvert>=5->notebook>=4.4.1->widgetsnbextension~=3.6.0->ipywidgets) (0.10.2)\n",
            "Requirement already satisfied: packaging in /usr/local/lib/python3.11/dist-packages (from nbconvert>=5->notebook>=4.4.1->widgetsnbextension~=3.6.0->ipywidgets) (24.2)\n",
            "Requirement already satisfied: pandocfilters>=1.4.1 in /usr/local/lib/python3.11/dist-packages (from nbconvert>=5->notebook>=4.4.1->widgetsnbextension~=3.6.0->ipywidgets) (1.5.1)\n",
            "Requirement already satisfied: fastjsonschema>=2.15 in /usr/local/lib/python3.11/dist-packages (from nbformat->notebook>=4.4.1->widgetsnbextension~=3.6.0->ipywidgets) (2.21.1)\n",
            "Requirement already satisfied: jsonschema>=2.6 in /usr/local/lib/python3.11/dist-packages (from nbformat->notebook>=4.4.1->widgetsnbextension~=3.6.0->ipywidgets) (4.23.0)\n",
            "Requirement already satisfied: argon2-cffi-bindings in /usr/local/lib/python3.11/dist-packages (from argon2-cffi->notebook>=4.4.1->widgetsnbextension~=3.6.0->ipywidgets) (21.2.0)\n",
            "Requirement already satisfied: webencodings in /usr/local/lib/python3.11/dist-packages (from bleach!=5.0.0->bleach[css]!=5.0.0->nbconvert>=5->notebook>=4.4.1->widgetsnbextension~=3.6.0->ipywidgets) (0.5.1)\n",
            "Requirement already satisfied: tinycss2<1.5,>=1.1.0 in /usr/local/lib/python3.11/dist-packages (from bleach[css]!=5.0.0->nbconvert>=5->notebook>=4.4.1->widgetsnbextension~=3.6.0->ipywidgets) (1.4.0)\n",
            "Requirement already satisfied: attrs>=22.2.0 in /usr/local/lib/python3.11/dist-packages (from jsonschema>=2.6->nbformat->notebook>=4.4.1->widgetsnbextension~=3.6.0->ipywidgets) (24.3.0)\n",
            "Requirement already satisfied: jsonschema-specifications>=2023.03.6 in /usr/local/lib/python3.11/dist-packages (from jsonschema>=2.6->nbformat->notebook>=4.4.1->widgetsnbextension~=3.6.0->ipywidgets) (2024.10.1)\n",
            "Requirement already satisfied: referencing>=0.28.4 in /usr/local/lib/python3.11/dist-packages (from jsonschema>=2.6->nbformat->notebook>=4.4.1->widgetsnbextension~=3.6.0->ipywidgets) (0.36.1)\n",
            "Requirement already satisfied: rpds-py>=0.7.1 in /usr/local/lib/python3.11/dist-packages (from jsonschema>=2.6->nbformat->notebook>=4.4.1->widgetsnbextension~=3.6.0->ipywidgets) (0.22.3)\n",
            "Requirement already satisfied: jupyter-server<3,>=1.8 in /usr/local/lib/python3.11/dist-packages (from notebook-shim>=0.2.3->nbclassic>=0.4.7->notebook>=4.4.1->widgetsnbextension~=3.6.0->ipywidgets) (1.24.0)\n",
            "Requirement already satisfied: cffi>=1.0.1 in /usr/local/lib/python3.11/dist-packages (from argon2-cffi-bindings->argon2-cffi->notebook>=4.4.1->widgetsnbextension~=3.6.0->ipywidgets) (1.17.1)\n",
            "Requirement already satisfied: soupsieve>1.2 in /usr/local/lib/python3.11/dist-packages (from beautifulsoup4->nbconvert>=5->notebook>=4.4.1->widgetsnbextension~=3.6.0->ipywidgets) (2.6)\n",
            "Requirement already satisfied: pycparser in /usr/local/lib/python3.11/dist-packages (from cffi>=1.0.1->argon2-cffi-bindings->argon2-cffi->notebook>=4.4.1->widgetsnbextension~=3.6.0->ipywidgets) (2.22)\n",
            "Requirement already satisfied: anyio<4,>=3.1.0 in /usr/local/lib/python3.11/dist-packages (from jupyter-server<3,>=1.8->notebook-shim>=0.2.3->nbclassic>=0.4.7->notebook>=4.4.1->widgetsnbextension~=3.6.0->ipywidgets) (3.7.1)\n",
            "Requirement already satisfied: websocket-client in /usr/local/lib/python3.11/dist-packages (from jupyter-server<3,>=1.8->notebook-shim>=0.2.3->nbclassic>=0.4.7->notebook>=4.4.1->widgetsnbextension~=3.6.0->ipywidgets) (1.8.0)\n",
            "Requirement already satisfied: typing-extensions>=4.4.0 in /usr/local/lib/python3.11/dist-packages (from referencing>=0.28.4->jsonschema>=2.6->nbformat->notebook>=4.4.1->widgetsnbextension~=3.6.0->ipywidgets) (4.12.2)\n",
            "Requirement already satisfied: sniffio>=1.1 in /usr/local/lib/python3.11/dist-packages (from anyio<4,>=3.1.0->jupyter-server<3,>=1.8->notebook-shim>=0.2.3->nbclassic>=0.4.7->notebook>=4.4.1->widgetsnbextension~=3.6.0->ipywidgets) (1.3.1)\n",
            "Downloading jedi-0.19.2-py2.py3-none-any.whl (1.6 MB)\n",
            "\u001b[2K   \u001b[90m━━━━━━━━━━━━━━━━━━━━━━━━━━━━━━━━━━━━━━━━\u001b[0m \u001b[32m1.6/1.6 MB\u001b[0m \u001b[31m20.0 MB/s\u001b[0m eta \u001b[36m0:00:00\u001b[0m\n",
            "\u001b[?25hInstalling collected packages: jedi\n",
            "Successfully installed jedi-0.19.2\n"
          ]
        }
      ]
    },
    {
      "cell_type": "code",
      "source": [
        "from google.colab import drive\n",
        "drive.mount('/content/drive')"
      ],
      "metadata": {
        "id": "yW0t_cCEkXvU"
      },
      "execution_count": null,
      "outputs": []
    },
    {
      "cell_type": "markdown",
      "source": [
        "# Subir los archivos `one-star-michelin-restaurants.csv` , `three-stars-michelin-restaurants.csv` a colab:\n",
        "![image.png](data:image/png;base64,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)\n",
        "\n",
        "![image.png](data:image/png;base64,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)"
      ],
      "metadata": {
        "id": "5M0N7gXotKUF"
      }
    },
    {
      "cell_type": "markdown",
      "source": [
        "# Widgets"
      ],
      "metadata": {
        "id": "LkwfcwJzkEkN"
      }
    },
    {
      "cell_type": "code",
      "source": [
        "import ipywidgets as widgets\n",
        "from IPython.display import display\n",
        "\n",
        "# Crear un widget de caja de texto\n",
        "text_box = widgets.Text(value='Escribe algo aquí')\n",
        "display(text_box)\n",
        "\n",
        "# Crear un widget de deslizador\n",
        "slider = widgets.IntSlider(value=50, min=0, max=100, step=1)\n",
        "display(slider)\n",
        "\n",
        "# Crear un widget de botón\n",
        "button = widgets.Button(description='Haz clic')\n",
        "display(button)\n",
        "\n",
        "# Crear un widget de casilla de verificación\n",
        "checkbox = widgets.Checkbox(description='Selecciona')\n",
        "display(checkbox)\n",
        "\n",
        "# Crear un widget de menú desplegable\n",
        "dropdown = widgets.Dropdown(options=['Opción 1', 'Opción 2', 'Opción 3'], value='Opción 1', description='Selecciona')\n",
        "display(dropdown)\n",
        "\n",
        "# Crear un widget de área de texto\n",
        "textarea = widgets.Textarea(value='Escribe algo aquí')\n",
        "display(textarea)"
      ],
      "metadata": {
        "id": "ieae28rtlMUL"
      },
      "execution_count": null,
      "outputs": []
    },
    {
      "cell_type": "markdown",
      "source": [
        "# Organización en el DashBoard usando **VBox**"
      ],
      "metadata": {
        "id": "xBicIpMfkLX1"
      }
    },
    {
      "cell_type": "code",
      "source": [
        "import ipywidgets as widgets\n",
        "from IPython.display import display\n",
        "\n",
        "# Crear los widgets\n",
        "widget1 = widgets.Button(description='Botón 1')\n",
        "widget2 = widgets.Text(description='Texto 1')\n",
        "widget3 = widgets.Checkbox(description='Checkbox 1')\n",
        "\n",
        "# Crear la caja vertical (VBox) y agregar los widgets\n",
        "vbox = widgets.VBox([widget1, widget2, widget3])\n",
        "\n",
        "# Mostrar la caja vertical\n",
        "display(vbox)\n"
      ],
      "metadata": {
        "id": "nGooIK0JxVNh"
      },
      "execution_count": null,
      "outputs": []
    },
    {
      "cell_type": "markdown",
      "source": [
        "  # Organización en el DashBoard usando **HBox**"
      ],
      "metadata": {
        "id": "_UCImpEwkaFy"
      }
    },
    {
      "cell_type": "code",
      "source": [
        "import ipywidgets as widgets\n",
        "from IPython.display import display\n",
        "\n",
        "# Crear los widgets\n",
        "widget1 = widgets.Button(description='Botón 1')\n",
        "widget2 = widgets.Text(description='Texto 1')\n",
        "widget3 = widgets.Checkbox(description='Checkbox 1')\n",
        "\n",
        "# Crear la caja horizontal (HBox) y agregar los widgets\n",
        "hbox = widgets.HBox([widget1, widget2, widget3])\n",
        "\n",
        "# Mostrar la caja horizontal\n",
        "display(hbox)\n"
      ],
      "metadata": {
        "id": "WLzIvQtCBQwU"
      },
      "execution_count": null,
      "outputs": []
    },
    {
      "cell_type": "markdown",
      "source": [
        "# Combinando VBox y HBox"
      ],
      "metadata": {
        "id": "QxHXAuZvkcXR"
      }
    },
    {
      "cell_type": "code",
      "source": [
        "import ipywidgets as widgets\n",
        "from IPython.display import display\n",
        "\n",
        "# Crear los widgets\n",
        "widget1 = widgets.Button(description='Botón 1')\n",
        "widget2 = widgets.Text(description='Texto 1')\n",
        "widget3 = widgets.Checkbox(description='Checkbox 1')\n",
        "\n",
        "# Crear los títulos de los componentes\n",
        "titulo1 = widgets.HTML(\"<h1>Componente 1</h1>\")\n",
        "titulo2 = widgets.HTML(\"<h2>Componente 2</h2>\")\n",
        "titulo3 = widgets.HTML(\"<h3>Componente 3</h3>\")\n",
        "\n",
        "# Crear la caja vertical (VBox) y agregar los widgets y títulos\n",
        "vbox = widgets.VBox([titulo1, widget1, titulo2, widget2])\n",
        "\n",
        "vbox2 = widgets.VBox([titulo3, widget3])\n",
        "\n",
        "# Crear la caja horizontal (HBox) y agregar la caja vertical, el título y el widget 3\n",
        "hbox = widgets.HBox([vbox, vbox2])\n",
        "\n",
        "# Mostrar la caja horizontal\n",
        "display(hbox)\n"
      ],
      "metadata": {
        "id": "dDYI_0nEBuM-"
      },
      "execution_count": null,
      "outputs": []
    },
    {
      "cell_type": "code",
      "source": [
        "import ipywidgets as widgets\n",
        "from IPython.display import display\n",
        "\n",
        "# Crear los widgets\n",
        "widget1 = widgets.Button(description='Botón 1')\n",
        "widget2 = widgets.Text(description='Texto')\n",
        "widget3 = widgets.Dropdown(options=['Opción 1', 'Opción 2', 'Opción 3'], description='Dropdown 1')\n",
        "widget4 = widgets.Checkbox(description='Checkbox 1')\n",
        "\n",
        "# Crear los títulos de los componentes\n",
        "titulo1 = widgets.HTML(\"<h2>Componente 1</h2>\")\n",
        "titulo2 = widgets.HTML(\"<h2>Componente 2</h2>\")\n",
        "titulo3 = widgets.HTML(\"<h2>Componente 3</h2>\")\n",
        "titulo4 = widgets.HTML(\"<h2>Componente 4</h2>\")\n",
        "\n",
        "# Crear la caja vertical (VBox) y agregar los widgets y títulos\n",
        "vbox = widgets.VBox([titulo1, widget1, titulo2, widget2])\n",
        "\n",
        "vbox2 = widgets.VBox([titulo3, widget3, titulo4, widget4])\n",
        "\n",
        "# Crear la caja horizontal (HBox) y agregar la caja vertical, el título y el widget 3\n",
        "hbox = widgets.HBox([vbox, vbox2])\n",
        "\n",
        "# Mostrar la caja horizontal\n",
        "display(hbox)\n"
      ],
      "metadata": {
        "id": "Sa53_HcXCzJM"
      },
      "execution_count": null,
      "outputs": []
    },
    {
      "cell_type": "markdown",
      "source": [
        "# Función interact()\n",
        "\n",
        "Ejemplo de código para crear un widget de deslizador que ajusta el tamaño de un gráfico."
      ],
      "metadata": {
        "id": "_t97-mUjYn_e"
      }
    },
    {
      "cell_type": "code",
      "source": [
        "import ipywidgets as widgets\n",
        "import matplotlib.pyplot as plt\n",
        "\n",
        "# Crear un widget de deslizador\n",
        "slider = widgets.FloatSlider(min=0.1, max=2.0, step=0.1, value=1.0, description='Tamaño')\n",
        "\n",
        "# Función para actualizar el tamaño del gráfico\n",
        "def update_plot(size):\n",
        "  print(size)\n",
        "  plt.figure(figsize=(size, size))\n",
        "  plt.plot([1, 2, 3], [1, 2, 3])\n",
        "  plt.show()\n",
        "\n",
        "# Conectar el deslizador a la función de actualización\n",
        "widgets.interact(update_plot, size=slider.value)\n",
        "\n"
      ],
      "metadata": {
        "id": "9AiHXpPhYVYS"
      },
      "execution_count": null,
      "outputs": []
    },
    {
      "cell_type": "markdown",
      "source": [
        "Ejemplo que muestra una interacción entre sliders y la función ploteada (%matplotlib inline)"
      ],
      "metadata": {
        "id": "AeEr-CMPolsV"
      }
    },
    {
      "cell_type": "code",
      "source": [
        "from ipywidgets import interactive\n",
        "import matplotlib.pyplot as plt\n",
        "import numpy as np\n",
        "\n",
        "def f(m, b):\n",
        "    plt.figure(2)\n",
        "    x = np.linspace(-10, 10, num=1000)\n",
        "    plt.plot(x, m * x + b)\n",
        "    plt.ylim(-5, 5)\n",
        "    plt.show()\n",
        "\n",
        "# Crear un gráfico interactivo con sliders utilizando la función 'f' y los parámetros 'm' y 'b'\n",
        "interactive_plot = interactive(f, m=(-2.0, 2.0), b=(-3, 3, 0.5) )\n",
        "\n",
        "# Obtener la salida del gráfico interactivo\n",
        "output = interactive_plot.children[-1]\n",
        "\n",
        "# Establecer la altura del gráfico de salida\n",
        "output.layout.height = '350px'\n",
        "\n",
        "# Mostrar el gráfico interactivo\n",
        "interactive_plot\n"
      ],
      "metadata": {
        "id": "d2ENdBSeYZMR"
      },
      "execution_count": null,
      "outputs": []
    },
    {
      "cell_type": "markdown",
      "source": [
        "## Exportar resultados"
      ],
      "metadata": {
        "id": "NUGsHwI9b-Qn"
      }
    },
    {
      "cell_type": "code",
      "source": [
        "import ipywidgets as widgets\n",
        "import pandas as pd\n",
        "\n",
        "# Crear un DataFrame de ejemplo\n",
        "data = {'Nombre': ['Juan', 'María', 'Pedro'],\n",
        "        'Edad': [25, 30, 35],\n",
        "        'Ciudad': ['Madrid', 'Barcelona', 'Valencia']}\n",
        "df = pd.DataFrame(data)\n",
        "\n",
        "# Funciones para exportar los resultados\n",
        "def exportar_csv(b):\n",
        "    df.to_csv('resultados.csv', index=False)\n",
        "    print('Resultados exportados como CSV.')\n",
        "\n",
        "def exportar_excel(b):\n",
        "    df.to_excel('resultados.xlsx', index=False)\n",
        "    print('Resultados exportados como Excel.')\n",
        "\n",
        "# Crear botones para exportar en diferentes formatos\n",
        "btn_csv = widgets.Button(description='Exportar como CSV')\n",
        "btn_excel = widgets.Button(description='Exportar como Excel')\n",
        "\n",
        "# Conectar los botones a las funciones de exportación\n",
        "btn_csv.on_click(exportar_csv)\n",
        "btn_excel.on_click(exportar_excel)\n",
        "\n",
        "# Mostrar los botones\n",
        "display(btn_csv)\n",
        "display(btn_excel)"
      ],
      "metadata": {
        "id": "Ch6pMojMbVOU"
      },
      "execution_count": null,
      "outputs": []
    },
    {
      "cell_type": "markdown",
      "source": [
        "# Visualización de un mapa, usando Folium"
      ],
      "metadata": {
        "id": "wQS-2LWcxViV"
      }
    },
    {
      "cell_type": "code",
      "source": [
        "import pandas as pd\n",
        "\n",
        "# Cargar el dataset\n",
        "df = pd.read_csv('https://raw.githubusercontent.com/germaingarcia/Files_Lectures/refs/heads/main/data_Sesion6_python/three-stars-michelin-restaurants.csv')\n",
        "\n",
        "# Visualizar las primeras filas del DataFrame\n",
        "df.head()"
      ],
      "metadata": {
        "id": "o8tDQ31zxbde"
      },
      "execution_count": null,
      "outputs": []
    },
    {
      "cell_type": "code",
      "source": [
        "import ipywidgets as widgets\n",
        "import pandas as pd\n",
        "import folium\n",
        "\n",
        "# Crear el mapa inicial\n",
        "m = folium.Map(location=[48.25406, 16.35915],   zoom_start=2)\n",
        "\n",
        "# Función para actualizar el mapa al seleccionar una región\n",
        "def update_map(region):\n",
        "\n",
        "    # Filtrar los restaurantes por la región seleccionada\n",
        "    filtered_df = df[df['region'] == region]\n",
        "    print(filtered_df)\n",
        "\n",
        "    # Limpiar el mapa y actualizar localizacion con el primer elemento\n",
        "    m = folium.Map(location=[filtered_df.iloc[0]['latitude'], filtered_df.iloc[0]['longitude']], zoom_start=5)\n",
        "\n",
        "    # Agregar los marcadores al mapa\n",
        "    for index, row in filtered_df.iterrows():\n",
        "        folium.Marker(\n",
        "            location=[row['latitude'], row['longitude']],\n",
        "            icon=folium.Icon(color='red')\n",
        "        ).add_to(m)\n",
        "\n",
        "    # Mostrar el mapa actualizado\n",
        "    display(m)\n",
        "\n",
        "    # Crear el gráfico de barras de frecuencia de años\n",
        "    plt.figure(figsize=(8, 6))\n",
        "    filtered_df['year'].value_counts().sort_index().plot(kind='bar')\n",
        "    plt.xlabel('Año')\n",
        "    plt.ylabel('Frecuencia')\n",
        "    plt.title('Frecuencia de Restaurantes por Año')\n",
        "    plt.show()\n",
        "\n",
        "# Crear el dropdown para seleccionar la región\n",
        "region_dropdown = widgets.Dropdown(\n",
        "    options=df['region'].unique(),\n",
        "    description='Región:'\n",
        ")\n",
        "\n",
        "# Actualizar el mapa al seleccionar una región\n",
        "widgets.interactive(update_map, region=region_dropdown)"
      ],
      "metadata": {
        "id": "1jvt1dEvxvOO"
      },
      "execution_count": null,
      "outputs": []
    },
    {
      "cell_type": "markdown",
      "source": [],
      "metadata": {
        "id": "eO4AHHo6k_pj"
      }
    },
    {
      "cell_type": "code",
      "source": [
        "import pydeck\n",
        "\n",
        "# 2014 locations of car accidents in the UK\n",
        "UK_ACCIDENTS_DATA = ('https://raw.githubusercontent.com/uber-common/'\n",
        "                     'deck.gl-data/master/examples/3d-heatmap/heatmap-data.csv')\n",
        "\n",
        "# Define a layer to display on a map\n",
        "layer = pydeck.Layer(\n",
        "    'HexagonLayer',\n",
        "    UK_ACCIDENTS_DATA,\n",
        "    get_position='[lng, lat]',\n",
        "    auto_highlight=True,\n",
        "    elevation_scale=50,\n",
        "    pickable=True,\n",
        "    elevation_range=[0, 3000],\n",
        "    extruded=True,\n",
        "    coverage=1)\n",
        "\n",
        "# Set the viewport location\n",
        "view_state = pydeck.ViewState(\n",
        "    longitude=-1.415,\n",
        "    latitude=52.2323,\n",
        "    zoom=6,\n",
        "    min_zoom=5,\n",
        "    max_zoom=15,\n",
        "    pitch=40.5,\n",
        "    bearing=-27.36)\n",
        "\n",
        "# Render\n",
        "r = pydeck.Deck(layers=[layer], initial_view_state=view_state)\n",
        "r.to_html('demo.html')"
      ],
      "metadata": {
        "id": "u9H2uHqoW19G"
      },
      "execution_count": null,
      "outputs": []
    }
  ]
}